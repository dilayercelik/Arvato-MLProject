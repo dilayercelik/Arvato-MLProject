{
 "cells": [
  {
   "cell_type": "markdown",
   "metadata": {},
   "source": [
    "# Capstone Project: Create a Customer Segmentation Report for Arvato Financial Services\n",
    "\n",
    "In this project, you will analyze demographics data for customers of a mail-order sales company in Germany, comparing it against demographics information for the general population. You'll use unsupervised learning techniques to perform customer segmentation, identifying the parts of the population that best describe the core customer base of the company. Then, you'll apply what you've learned on a third dataset with demographics information for targets of a marketing campaign for the company, and use a model to predict which individuals are most likely to convert into becoming customers for the company. The data that you will use has been provided by our partners at Bertelsmann Arvato Analytics, and represents a real-life data science task.\n",
    "\n",
    "If you completed the first term of this program, you will be familiar with the first part of this project, from the unsupervised learning project. The versions of those two datasets used in this project will include many more features and has not been pre-cleaned. You are also free to choose whatever approach you'd like to analyzing the data rather than follow pre-determined steps. In your work on this project, make sure that you carefully document your steps and decisions, since your main deliverable for this project will be a blog post reporting your findings."
   ]
  },
  {
   "cell_type": "code",
   "execution_count": 164,
   "metadata": {},
   "outputs": [],
   "source": [
    "# import libraries here; add more as necessary\n",
    "\n",
    "import numpy as np\n",
    "import pandas as pd\n",
    "import matplotlib.pyplot as plt\n",
    "import seaborn as sns\n",
    "\n",
    "import ast\n",
    "\n",
    "import time\n",
    "\n",
    "# from sklearn.preprocessing import Imputer\n",
    "from sklearn.impute import SimpleImputer\n",
    "from sklearn.preprocessing import StandardScaler\n",
    "from sklearn.decomposition import PCA\n",
    "from sklearn.cluster import KMeans\n",
    "\n",
    "from sklearn.utils import resample\n",
    "\n",
    "from sklearn.model_selection import GridSearchCV\n",
    "from sklearn.linear_model import LogisticRegression\n",
    "from sklearn.ensemble import AdaBoostClassifier\n",
    "from sklearn.ensemble import RandomForestClassifier\n",
    "from sklearn.ensemble import GradientBoostingClassifier\n",
    "from sklearn.svm import SVC\n",
    "\n",
    "from sklearn.metrics import roc_auc_score, fbeta_score, accuracy_score, precision_score, recall_score\n",
    "\n",
    "\n",
    "# magic word for producing visualizations in notebook\n",
    "%matplotlib inline"
   ]
  },
  {
   "cell_type": "markdown",
   "metadata": {},
   "source": [
    "## Part 0: Get to Know the Data\n",
    "\n",
    "There are four data files associated with this project:\n",
    "\n",
    "- `Udacity_AZDIAS_052018.csv`: Demographics data for the general population of Germany; 891 211 persons (rows) x 366 features (columns).\n",
    "- `Udacity_CUSTOMERS_052018.csv`: Demographics data for customers of a mail-order company; 191 652 persons (rows) x 369 features (columns).\n",
    "- `Udacity_MAILOUT_052018_TRAIN.csv`: Demographics data for individuals who were targets of a marketing campaign; 42 982 persons (rows) x 367 (columns).\n",
    "- `Udacity_MAILOUT_052018_TEST.csv`: Demographics data for individuals who were targets of a marketing campaign; 42 833 persons (rows) x 366 (columns).\n",
    "\n",
    "Each row of the demographics files represents a single person, but also includes information outside of individuals, including information about their household, building, and neighborhood. Use the information from the first two files to figure out how customers (\"CUSTOMERS\") are similar to or differ from the general population at large (\"AZDIAS\"), then use your analysis to make predictions on the other two files (\"MAILOUT\"), predicting which recipients are most likely to become a customer for the mail-order company.\n",
    "\n",
    "The \"CUSTOMERS\" file contains three extra columns ('CUSTOMER_GROUP', 'ONLINE_PURCHASE', and 'PRODUCT_GROUP'), which provide broad information about the customers depicted in the file. The original \"MAILOUT\" file included one additional column, \"RESPONSE\", which indicated whether or not each recipient became a customer of the company. For the \"TRAIN\" subset, this column has been retained, but in the \"TEST\" subset it has been removed; it is against that withheld column that your final predictions will be assessed in the Kaggle competition.\n",
    "\n",
    "Otherwise, all of the remaining columns are the same between the three data files. For more information about the columns depicted in the files, you can refer to two Excel spreadsheets provided in the workspace. [One of them](./DIAS Information Levels - Attributes 2017.xlsx) is a top-level list of attributes and descriptions, organized by informational category. [The other](./DIAS Attributes - Values 2017.xlsx) is a detailed mapping of data values for each feature in alphabetical order.\n",
    "\n",
    "In the below cell, we've provided some initial code to load in the first two datasets. Note for all of the `.csv` data files in this project that they're semicolon (`;`) delimited, so an additional argument in the [`read_csv()`](https://pandas.pydata.org/pandas-docs/stable/generated/pandas.read_csv.html) call has been included to read in the data properly. Also, considering the size of the datasets, it may take some time for them to load completely.\n",
    "\n",
    "You'll notice when the data is loaded in that a warning message will immediately pop up. Before you really start digging into the modeling and analysis, you're going to need to perform some cleaning. Take some time to browse the structure of the data and look over the informational spreadsheets to understand the data values. Make some decisions on which features to keep, which features to drop, and if any revisions need to be made on data formats. It'll be a good idea to create a function with pre-processing steps, since you'll need to clean all of the datasets before you work with them."
   ]
  },
  {
   "cell_type": "code",
   "execution_count": 5,
   "metadata": {},
   "outputs": [
    {
     "name": "stderr",
     "output_type": "stream",
     "text": [
      "/Users/dilay/opt/anaconda3/lib/python3.7/site-packages/IPython/core/interactiveshell.py:3063: DtypeWarning: Columns (18,19) have mixed types.Specify dtype option on import or set low_memory=False.\n",
      "  interactivity=interactivity, compiler=compiler, result=result)\n"
     ]
    }
   ],
   "source": [
    "# load in the data\n",
    "azdias = pd.read_csv('Udacity_AZDIAS_052018.csv', sep=';')\n",
    "customers = pd.read_csv('Udacity_CUSTOMERS_052018.csv', sep=';')"
   ]
  },
  {
   "cell_type": "markdown",
   "metadata": {},
   "source": [
    "### Reading in Datasets (AZDIAS & CUSTOMERS)"
   ]
  },
  {
   "cell_type": "markdown",
   "metadata": {},
   "source": [
    "**AZDIAS** Dataset"
   ]
  },
  {
   "cell_type": "code",
   "execution_count": 6,
   "metadata": {},
   "outputs": [
    {
     "data": {
      "text/html": [
       "<div>\n",
       "<style scoped>\n",
       "    .dataframe tbody tr th:only-of-type {\n",
       "        vertical-align: middle;\n",
       "    }\n",
       "\n",
       "    .dataframe tbody tr th {\n",
       "        vertical-align: top;\n",
       "    }\n",
       "\n",
       "    .dataframe thead th {\n",
       "        text-align: right;\n",
       "    }\n",
       "</style>\n",
       "<table border=\"1\" class=\"dataframe\">\n",
       "  <thead>\n",
       "    <tr style=\"text-align: right;\">\n",
       "      <th></th>\n",
       "      <th>LNR</th>\n",
       "      <th>AGER_TYP</th>\n",
       "      <th>AKT_DAT_KL</th>\n",
       "      <th>ALTER_HH</th>\n",
       "      <th>ALTER_KIND1</th>\n",
       "      <th>ALTER_KIND2</th>\n",
       "      <th>ALTER_KIND3</th>\n",
       "      <th>ALTER_KIND4</th>\n",
       "      <th>ALTERSKATEGORIE_FEIN</th>\n",
       "      <th>ANZ_HAUSHALTE_AKTIV</th>\n",
       "      <th>...</th>\n",
       "      <th>VHN</th>\n",
       "      <th>VK_DHT4A</th>\n",
       "      <th>VK_DISTANZ</th>\n",
       "      <th>VK_ZG11</th>\n",
       "      <th>W_KEIT_KIND_HH</th>\n",
       "      <th>WOHNDAUER_2008</th>\n",
       "      <th>WOHNLAGE</th>\n",
       "      <th>ZABEOTYP</th>\n",
       "      <th>ANREDE_KZ</th>\n",
       "      <th>ALTERSKATEGORIE_GROB</th>\n",
       "    </tr>\n",
       "  </thead>\n",
       "  <tbody>\n",
       "    <tr>\n",
       "      <th>0</th>\n",
       "      <td>910215</td>\n",
       "      <td>-1</td>\n",
       "      <td>NaN</td>\n",
       "      <td>NaN</td>\n",
       "      <td>NaN</td>\n",
       "      <td>NaN</td>\n",
       "      <td>NaN</td>\n",
       "      <td>NaN</td>\n",
       "      <td>NaN</td>\n",
       "      <td>NaN</td>\n",
       "      <td>...</td>\n",
       "      <td>NaN</td>\n",
       "      <td>NaN</td>\n",
       "      <td>NaN</td>\n",
       "      <td>NaN</td>\n",
       "      <td>NaN</td>\n",
       "      <td>NaN</td>\n",
       "      <td>NaN</td>\n",
       "      <td>3</td>\n",
       "      <td>1</td>\n",
       "      <td>2</td>\n",
       "    </tr>\n",
       "    <tr>\n",
       "      <th>1</th>\n",
       "      <td>910220</td>\n",
       "      <td>-1</td>\n",
       "      <td>9.0</td>\n",
       "      <td>0.0</td>\n",
       "      <td>NaN</td>\n",
       "      <td>NaN</td>\n",
       "      <td>NaN</td>\n",
       "      <td>NaN</td>\n",
       "      <td>21.0</td>\n",
       "      <td>11.0</td>\n",
       "      <td>...</td>\n",
       "      <td>4.0</td>\n",
       "      <td>8.0</td>\n",
       "      <td>11.0</td>\n",
       "      <td>10.0</td>\n",
       "      <td>3.0</td>\n",
       "      <td>9.0</td>\n",
       "      <td>4.0</td>\n",
       "      <td>5</td>\n",
       "      <td>2</td>\n",
       "      <td>1</td>\n",
       "    </tr>\n",
       "    <tr>\n",
       "      <th>2</th>\n",
       "      <td>910225</td>\n",
       "      <td>-1</td>\n",
       "      <td>9.0</td>\n",
       "      <td>17.0</td>\n",
       "      <td>NaN</td>\n",
       "      <td>NaN</td>\n",
       "      <td>NaN</td>\n",
       "      <td>NaN</td>\n",
       "      <td>17.0</td>\n",
       "      <td>10.0</td>\n",
       "      <td>...</td>\n",
       "      <td>2.0</td>\n",
       "      <td>9.0</td>\n",
       "      <td>9.0</td>\n",
       "      <td>6.0</td>\n",
       "      <td>3.0</td>\n",
       "      <td>9.0</td>\n",
       "      <td>2.0</td>\n",
       "      <td>5</td>\n",
       "      <td>2</td>\n",
       "      <td>3</td>\n",
       "    </tr>\n",
       "    <tr>\n",
       "      <th>3</th>\n",
       "      <td>910226</td>\n",
       "      <td>2</td>\n",
       "      <td>1.0</td>\n",
       "      <td>13.0</td>\n",
       "      <td>NaN</td>\n",
       "      <td>NaN</td>\n",
       "      <td>NaN</td>\n",
       "      <td>NaN</td>\n",
       "      <td>13.0</td>\n",
       "      <td>1.0</td>\n",
       "      <td>...</td>\n",
       "      <td>0.0</td>\n",
       "      <td>7.0</td>\n",
       "      <td>10.0</td>\n",
       "      <td>11.0</td>\n",
       "      <td>NaN</td>\n",
       "      <td>9.0</td>\n",
       "      <td>7.0</td>\n",
       "      <td>3</td>\n",
       "      <td>2</td>\n",
       "      <td>4</td>\n",
       "    </tr>\n",
       "    <tr>\n",
       "      <th>4</th>\n",
       "      <td>910241</td>\n",
       "      <td>-1</td>\n",
       "      <td>1.0</td>\n",
       "      <td>20.0</td>\n",
       "      <td>NaN</td>\n",
       "      <td>NaN</td>\n",
       "      <td>NaN</td>\n",
       "      <td>NaN</td>\n",
       "      <td>14.0</td>\n",
       "      <td>3.0</td>\n",
       "      <td>...</td>\n",
       "      <td>2.0</td>\n",
       "      <td>3.0</td>\n",
       "      <td>5.0</td>\n",
       "      <td>4.0</td>\n",
       "      <td>2.0</td>\n",
       "      <td>9.0</td>\n",
       "      <td>3.0</td>\n",
       "      <td>4</td>\n",
       "      <td>1</td>\n",
       "      <td>3</td>\n",
       "    </tr>\n",
       "  </tbody>\n",
       "</table>\n",
       "<p>5 rows × 366 columns</p>\n",
       "</div>"
      ],
      "text/plain": [
       "      LNR  AGER_TYP  AKT_DAT_KL  ALTER_HH  ALTER_KIND1  ALTER_KIND2  \\\n",
       "0  910215        -1         NaN       NaN          NaN          NaN   \n",
       "1  910220        -1         9.0       0.0          NaN          NaN   \n",
       "2  910225        -1         9.0      17.0          NaN          NaN   \n",
       "3  910226         2         1.0      13.0          NaN          NaN   \n",
       "4  910241        -1         1.0      20.0          NaN          NaN   \n",
       "\n",
       "   ALTER_KIND3  ALTER_KIND4  ALTERSKATEGORIE_FEIN  ANZ_HAUSHALTE_AKTIV  ...  \\\n",
       "0          NaN          NaN                   NaN                  NaN  ...   \n",
       "1          NaN          NaN                  21.0                 11.0  ...   \n",
       "2          NaN          NaN                  17.0                 10.0  ...   \n",
       "3          NaN          NaN                  13.0                  1.0  ...   \n",
       "4          NaN          NaN                  14.0                  3.0  ...   \n",
       "\n",
       "   VHN  VK_DHT4A  VK_DISTANZ  VK_ZG11  W_KEIT_KIND_HH  WOHNDAUER_2008  \\\n",
       "0  NaN       NaN         NaN      NaN             NaN             NaN   \n",
       "1  4.0       8.0        11.0     10.0             3.0             9.0   \n",
       "2  2.0       9.0         9.0      6.0             3.0             9.0   \n",
       "3  0.0       7.0        10.0     11.0             NaN             9.0   \n",
       "4  2.0       3.0         5.0      4.0             2.0             9.0   \n",
       "\n",
       "   WOHNLAGE ZABEOTYP ANREDE_KZ ALTERSKATEGORIE_GROB  \n",
       "0       NaN        3         1                    2  \n",
       "1       4.0        5         2                    1  \n",
       "2       2.0        5         2                    3  \n",
       "3       7.0        3         2                    4  \n",
       "4       3.0        4         1                    3  \n",
       "\n",
       "[5 rows x 366 columns]"
      ]
     },
     "execution_count": 6,
     "metadata": {},
     "output_type": "execute_result"
    }
   ],
   "source": [
    "azdias.head()"
   ]
  },
  {
   "cell_type": "code",
   "execution_count": 7,
   "metadata": {},
   "outputs": [
    {
     "name": "stdout",
     "output_type": "stream",
     "text": [
      "<class 'pandas.core.frame.DataFrame'>\n",
      "RangeIndex: 891221 entries, 0 to 891220\n",
      "Columns: 366 entries, LNR to ALTERSKATEGORIE_GROB\n",
      "dtypes: float64(267), int64(93), object(6)\n",
      "memory usage: 2.4+ GB\n"
     ]
    }
   ],
   "source": [
    "azdias.info()"
   ]
  },
  {
   "cell_type": "code",
   "execution_count": 8,
   "metadata": {},
   "outputs": [
    {
     "data": {
      "text/plain": [
       "(891221, 366)"
      ]
     },
     "execution_count": 8,
     "metadata": {},
     "output_type": "execute_result"
    }
   ],
   "source": [
    "azdias.shape"
   ]
  },
  {
   "cell_type": "markdown",
   "metadata": {},
   "source": [
    "**CUSTOMERS** Dataset"
   ]
  },
  {
   "cell_type": "code",
   "execution_count": 9,
   "metadata": {},
   "outputs": [
    {
     "data": {
      "text/html": [
       "<div>\n",
       "<style scoped>\n",
       "    .dataframe tbody tr th:only-of-type {\n",
       "        vertical-align: middle;\n",
       "    }\n",
       "\n",
       "    .dataframe tbody tr th {\n",
       "        vertical-align: top;\n",
       "    }\n",
       "\n",
       "    .dataframe thead th {\n",
       "        text-align: right;\n",
       "    }\n",
       "</style>\n",
       "<table border=\"1\" class=\"dataframe\">\n",
       "  <thead>\n",
       "    <tr style=\"text-align: right;\">\n",
       "      <th></th>\n",
       "      <th>LNR</th>\n",
       "      <th>AGER_TYP</th>\n",
       "      <th>AKT_DAT_KL</th>\n",
       "      <th>ALTER_HH</th>\n",
       "      <th>ALTER_KIND1</th>\n",
       "      <th>ALTER_KIND2</th>\n",
       "      <th>ALTER_KIND3</th>\n",
       "      <th>ALTER_KIND4</th>\n",
       "      <th>ALTERSKATEGORIE_FEIN</th>\n",
       "      <th>ANZ_HAUSHALTE_AKTIV</th>\n",
       "      <th>...</th>\n",
       "      <th>VK_ZG11</th>\n",
       "      <th>W_KEIT_KIND_HH</th>\n",
       "      <th>WOHNDAUER_2008</th>\n",
       "      <th>WOHNLAGE</th>\n",
       "      <th>ZABEOTYP</th>\n",
       "      <th>PRODUCT_GROUP</th>\n",
       "      <th>CUSTOMER_GROUP</th>\n",
       "      <th>ONLINE_PURCHASE</th>\n",
       "      <th>ANREDE_KZ</th>\n",
       "      <th>ALTERSKATEGORIE_GROB</th>\n",
       "    </tr>\n",
       "  </thead>\n",
       "  <tbody>\n",
       "    <tr>\n",
       "      <th>0</th>\n",
       "      <td>9626</td>\n",
       "      <td>2</td>\n",
       "      <td>1.0</td>\n",
       "      <td>10.0</td>\n",
       "      <td>NaN</td>\n",
       "      <td>NaN</td>\n",
       "      <td>NaN</td>\n",
       "      <td>NaN</td>\n",
       "      <td>10.0</td>\n",
       "      <td>1.0</td>\n",
       "      <td>...</td>\n",
       "      <td>2.0</td>\n",
       "      <td>6.0</td>\n",
       "      <td>9.0</td>\n",
       "      <td>7.0</td>\n",
       "      <td>3</td>\n",
       "      <td>COSMETIC_AND_FOOD</td>\n",
       "      <td>MULTI_BUYER</td>\n",
       "      <td>0</td>\n",
       "      <td>1</td>\n",
       "      <td>4</td>\n",
       "    </tr>\n",
       "    <tr>\n",
       "      <th>1</th>\n",
       "      <td>9628</td>\n",
       "      <td>-1</td>\n",
       "      <td>9.0</td>\n",
       "      <td>11.0</td>\n",
       "      <td>NaN</td>\n",
       "      <td>NaN</td>\n",
       "      <td>NaN</td>\n",
       "      <td>NaN</td>\n",
       "      <td>NaN</td>\n",
       "      <td>NaN</td>\n",
       "      <td>...</td>\n",
       "      <td>3.0</td>\n",
       "      <td>0.0</td>\n",
       "      <td>9.0</td>\n",
       "      <td>NaN</td>\n",
       "      <td>3</td>\n",
       "      <td>FOOD</td>\n",
       "      <td>SINGLE_BUYER</td>\n",
       "      <td>0</td>\n",
       "      <td>1</td>\n",
       "      <td>4</td>\n",
       "    </tr>\n",
       "    <tr>\n",
       "      <th>2</th>\n",
       "      <td>143872</td>\n",
       "      <td>-1</td>\n",
       "      <td>1.0</td>\n",
       "      <td>6.0</td>\n",
       "      <td>NaN</td>\n",
       "      <td>NaN</td>\n",
       "      <td>NaN</td>\n",
       "      <td>NaN</td>\n",
       "      <td>0.0</td>\n",
       "      <td>1.0</td>\n",
       "      <td>...</td>\n",
       "      <td>11.0</td>\n",
       "      <td>6.0</td>\n",
       "      <td>9.0</td>\n",
       "      <td>2.0</td>\n",
       "      <td>3</td>\n",
       "      <td>COSMETIC_AND_FOOD</td>\n",
       "      <td>MULTI_BUYER</td>\n",
       "      <td>0</td>\n",
       "      <td>2</td>\n",
       "      <td>4</td>\n",
       "    </tr>\n",
       "    <tr>\n",
       "      <th>3</th>\n",
       "      <td>143873</td>\n",
       "      <td>1</td>\n",
       "      <td>1.0</td>\n",
       "      <td>8.0</td>\n",
       "      <td>NaN</td>\n",
       "      <td>NaN</td>\n",
       "      <td>NaN</td>\n",
       "      <td>NaN</td>\n",
       "      <td>8.0</td>\n",
       "      <td>0.0</td>\n",
       "      <td>...</td>\n",
       "      <td>2.0</td>\n",
       "      <td>NaN</td>\n",
       "      <td>9.0</td>\n",
       "      <td>7.0</td>\n",
       "      <td>1</td>\n",
       "      <td>COSMETIC</td>\n",
       "      <td>MULTI_BUYER</td>\n",
       "      <td>0</td>\n",
       "      <td>1</td>\n",
       "      <td>4</td>\n",
       "    </tr>\n",
       "    <tr>\n",
       "      <th>4</th>\n",
       "      <td>143874</td>\n",
       "      <td>-1</td>\n",
       "      <td>1.0</td>\n",
       "      <td>20.0</td>\n",
       "      <td>NaN</td>\n",
       "      <td>NaN</td>\n",
       "      <td>NaN</td>\n",
       "      <td>NaN</td>\n",
       "      <td>14.0</td>\n",
       "      <td>7.0</td>\n",
       "      <td>...</td>\n",
       "      <td>4.0</td>\n",
       "      <td>2.0</td>\n",
       "      <td>9.0</td>\n",
       "      <td>3.0</td>\n",
       "      <td>1</td>\n",
       "      <td>FOOD</td>\n",
       "      <td>MULTI_BUYER</td>\n",
       "      <td>0</td>\n",
       "      <td>1</td>\n",
       "      <td>3</td>\n",
       "    </tr>\n",
       "  </tbody>\n",
       "</table>\n",
       "<p>5 rows × 369 columns</p>\n",
       "</div>"
      ],
      "text/plain": [
       "      LNR  AGER_TYP  AKT_DAT_KL  ALTER_HH  ALTER_KIND1  ALTER_KIND2  \\\n",
       "0    9626         2         1.0      10.0          NaN          NaN   \n",
       "1    9628        -1         9.0      11.0          NaN          NaN   \n",
       "2  143872        -1         1.0       6.0          NaN          NaN   \n",
       "3  143873         1         1.0       8.0          NaN          NaN   \n",
       "4  143874        -1         1.0      20.0          NaN          NaN   \n",
       "\n",
       "   ALTER_KIND3  ALTER_KIND4  ALTERSKATEGORIE_FEIN  ANZ_HAUSHALTE_AKTIV  ...  \\\n",
       "0          NaN          NaN                  10.0                  1.0  ...   \n",
       "1          NaN          NaN                   NaN                  NaN  ...   \n",
       "2          NaN          NaN                   0.0                  1.0  ...   \n",
       "3          NaN          NaN                   8.0                  0.0  ...   \n",
       "4          NaN          NaN                  14.0                  7.0  ...   \n",
       "\n",
       "   VK_ZG11  W_KEIT_KIND_HH  WOHNDAUER_2008  WOHNLAGE  ZABEOTYP  \\\n",
       "0      2.0             6.0             9.0       7.0         3   \n",
       "1      3.0             0.0             9.0       NaN         3   \n",
       "2     11.0             6.0             9.0       2.0         3   \n",
       "3      2.0             NaN             9.0       7.0         1   \n",
       "4      4.0             2.0             9.0       3.0         1   \n",
       "\n",
       "       PRODUCT_GROUP  CUSTOMER_GROUP ONLINE_PURCHASE ANREDE_KZ  \\\n",
       "0  COSMETIC_AND_FOOD     MULTI_BUYER               0         1   \n",
       "1               FOOD    SINGLE_BUYER               0         1   \n",
       "2  COSMETIC_AND_FOOD     MULTI_BUYER               0         2   \n",
       "3           COSMETIC     MULTI_BUYER               0         1   \n",
       "4               FOOD     MULTI_BUYER               0         1   \n",
       "\n",
       "  ALTERSKATEGORIE_GROB  \n",
       "0                    4  \n",
       "1                    4  \n",
       "2                    4  \n",
       "3                    4  \n",
       "4                    3  \n",
       "\n",
       "[5 rows x 369 columns]"
      ]
     },
     "execution_count": 9,
     "metadata": {},
     "output_type": "execute_result"
    }
   ],
   "source": [
    "customers.head()"
   ]
  },
  {
   "cell_type": "code",
   "execution_count": 10,
   "metadata": {},
   "outputs": [
    {
     "name": "stdout",
     "output_type": "stream",
     "text": [
      "<class 'pandas.core.frame.DataFrame'>\n",
      "RangeIndex: 191652 entries, 0 to 191651\n",
      "Columns: 369 entries, LNR to ALTERSKATEGORIE_GROB\n",
      "dtypes: float64(267), int64(94), object(8)\n",
      "memory usage: 539.5+ MB\n"
     ]
    }
   ],
   "source": [
    "customers.info()"
   ]
  },
  {
   "cell_type": "code",
   "execution_count": 11,
   "metadata": {},
   "outputs": [
    {
     "data": {
      "text/plain": [
       "(191652, 369)"
      ]
     },
     "execution_count": 11,
     "metadata": {},
     "output_type": "execute_result"
    }
   ],
   "source": [
    "customers.shape"
   ]
  },
  {
   "cell_type": "markdown",
   "metadata": {},
   "source": [
    "### Data Preprocessing"
   ]
  },
  {
   "cell_type": "markdown",
   "metadata": {},
   "source": [
    "Preprocessing the AZDIAS Dataset"
   ]
  },
  {
   "cell_type": "markdown",
   "metadata": {},
   "source": [
    "### 1. Drop features (columns) in AZDIAS not described in the Attributes Excel Sheet (attributes_info)"
   ]
  },
  {
   "cell_type": "markdown",
   "metadata": {},
   "source": [
    "I have manually created a csv file ('attributes.csv') which can be used to easily identify and manipulate the attributes describred in the DIAS Attributes - Values 2017.xlsx file. This csv file, attributes.csv, which you can visualise the first 5 rows of below, is composed of 3 columns: Attribute (name of the attribute, i.e. some of the columns in AZDIAS dataset), Type ('categorical', 'ordinal', 'numeric') and Unknown_Values (values for each feature/column of the dataset that have the meaning of 'unknown'; see the 'Meaning' Column of the DIAS Attributes - Values 2017.xlsx file). \n",
    "\n",
    "This manually created csv file contains 335 rows (including the first row 'Attribute;Type;Value'), so there are a total of 334 features described. Thus, AZDIAS dataset (366 columns) contains 32 additional features not found in the attributes.csv description file."
   ]
  },
  {
   "cell_type": "code",
   "execution_count": 2,
   "metadata": {},
   "outputs": [],
   "source": [
    "attributes_info = pd.read_csv('attributes.csv', sep=';') "
   ]
  },
  {
   "cell_type": "code",
   "execution_count": 13,
   "metadata": {},
   "outputs": [
    {
     "data": {
      "text/html": [
       "<div>\n",
       "<style scoped>\n",
       "    .dataframe tbody tr th:only-of-type {\n",
       "        vertical-align: middle;\n",
       "    }\n",
       "\n",
       "    .dataframe tbody tr th {\n",
       "        vertical-align: top;\n",
       "    }\n",
       "\n",
       "    .dataframe thead th {\n",
       "        text-align: right;\n",
       "    }\n",
       "</style>\n",
       "<table border=\"1\" class=\"dataframe\">\n",
       "  <thead>\n",
       "    <tr style=\"text-align: right;\">\n",
       "      <th></th>\n",
       "      <th>Attribute</th>\n",
       "      <th>Type</th>\n",
       "      <th>Unknown_Values</th>\n",
       "    </tr>\n",
       "  </thead>\n",
       "  <tbody>\n",
       "    <tr>\n",
       "      <th>0</th>\n",
       "      <td>AGER_TYP</td>\n",
       "      <td>categorical</td>\n",
       "      <td>[-1,0]</td>\n",
       "    </tr>\n",
       "    <tr>\n",
       "      <th>1</th>\n",
       "      <td>ALTERSKATEGORIE_FEIN</td>\n",
       "      <td>ordinal</td>\n",
       "      <td>[-1,0.9]</td>\n",
       "    </tr>\n",
       "    <tr>\n",
       "      <th>2</th>\n",
       "      <td>ALTERSKATEGORIE_GROB</td>\n",
       "      <td>ordinal</td>\n",
       "      <td>[-1,0,9]</td>\n",
       "    </tr>\n",
       "    <tr>\n",
       "      <th>3</th>\n",
       "      <td>ALTER_HH</td>\n",
       "      <td>ordinal</td>\n",
       "      <td>[0]</td>\n",
       "    </tr>\n",
       "    <tr>\n",
       "      <th>4</th>\n",
       "      <td>ANREDE_KZ</td>\n",
       "      <td>categorical</td>\n",
       "      <td>[-1,0]</td>\n",
       "    </tr>\n",
       "  </tbody>\n",
       "</table>\n",
       "</div>"
      ],
      "text/plain": [
       "              Attribute         Type Unknown_Values\n",
       "0              AGER_TYP  categorical         [-1,0]\n",
       "1  ALTERSKATEGORIE_FEIN      ordinal       [-1,0.9]\n",
       "2  ALTERSKATEGORIE_GROB      ordinal       [-1,0,9]\n",
       "3              ALTER_HH      ordinal            [0]\n",
       "4             ANREDE_KZ  categorical         [-1,0]"
      ]
     },
     "execution_count": 13,
     "metadata": {},
     "output_type": "execute_result"
    }
   ],
   "source": [
    "attributes_info.head()"
   ]
  },
  {
   "cell_type": "code",
   "execution_count": 3,
   "metadata": {},
   "outputs": [],
   "source": [
    "features_in_attributes_info = attributes_info['Attribute'].tolist()"
   ]
  },
  {
   "cell_type": "code",
   "execution_count": 15,
   "metadata": {},
   "outputs": [
    {
     "data": {
      "text/plain": [
       "['AGER_TYP',\n",
       " 'ALTERSKATEGORIE_FEIN',\n",
       " 'ALTERSKATEGORIE_GROB',\n",
       " 'ALTER_HH',\n",
       " 'ANREDE_KZ',\n",
       " 'ANZ_HAUSHALTE_AKTIV',\n",
       " 'ANZ_HH_TITEL',\n",
       " 'ANZ_KINDER',\n",
       " 'ANZ_PERSONEN',\n",
       " 'ANZ_STATISTISCHE_HAUSHALTE',\n",
       " 'ANZ_TITEL',\n",
       " 'ARBEIT',\n",
       " 'BALLRAUM',\n",
       " 'CAMEO_DEUG_2015',\n",
       " 'CAMEO_DEU_2015',\n",
       " 'CAMEO_INTL_2015',\n",
       " 'CJT_GESAMTTYP',\n",
       " 'D19_BANKEN_ANZ_12',\n",
       " 'D19_BANKEN_ANZ_24',\n",
       " 'D19_BANKEN_DATUM',\n",
       " 'D19_BANKEN_DIREKT',\n",
       " 'D19_BANKEN_GROSS',\n",
       " 'D19_BANKEN_LOKAL',\n",
       " 'D19_BANKEN_OFFLINE_DATUM',\n",
       " 'D19_BANKEN_ONLINE_DATUM',\n",
       " 'D19_BANKEN_ONLINE_QUOTE_12',\n",
       " 'D19_BANKEN_REST',\n",
       " 'D19_BEKLEIDUNG_GEH',\n",
       " 'D19_BEKLEIDUNG_REST',\n",
       " 'D19_BILDUNG',\n",
       " 'D19_BIO_OEKO',\n",
       " 'D19_BUCH_CD',\n",
       " 'D19_DIGIT_SERV',\n",
       " 'D19_DROGERIEARTIKEL',\n",
       " 'D19_ENERGIE',\n",
       " 'D19_FREIZEIT',\n",
       " 'D19_GARTEN',\n",
       " 'D19_GESAMT_ANZ_12',\n",
       " 'D19_GESAMT_ANZ_24',\n",
       " 'D19_GESAMT_DATUM',\n",
       " 'D19_GESAMT_OFFLINE_DATUM',\n",
       " 'D19_GESAMT_ONLINE_DATUM',\n",
       " 'D19_GESAMT_ONLINE_QUOTE_12',\n",
       " 'D19_HANDWERK',\n",
       " 'D19_HAUS_DEKO',\n",
       " 'D19_KINDERARTIKEL',\n",
       " 'D19_KONSUMTYP',\n",
       " 'D19_KOSMETIK',\n",
       " 'D19_LEBENSMITTEL',\n",
       " 'D19_LOTTO',\n",
       " 'D19_NAHRUNGSERGAENZUNG',\n",
       " 'D19_RATGEBER',\n",
       " 'D19_REISEN',\n",
       " 'D19_SAMMELARTIKEL',\n",
       " 'D19_SCHUHE',\n",
       " 'D19_SONSTIGE',\n",
       " 'D19_SOZIALES',\n",
       " 'D19_TECHNIK',\n",
       " 'D19_TELKO_ANZ_12',\n",
       " 'D19_TELKO_ANZ_24',\n",
       " 'D19_TELKO_DATUM',\n",
       " 'D19_TELKO_MOBILE',\n",
       " 'D19_TELKO_OFFLINE_DATUM',\n",
       " 'D19_TELKO_ONLINE_DATUM',\n",
       " 'D19_TELKO_ONLINE_QUOTE_12',\n",
       " 'D19_TELKO_REST',\n",
       " 'D19_TIERARTIKEL',\n",
       " 'D19_VERSAND_ANZ_12',\n",
       " 'D19_VERSAND_ANZ_24',\n",
       " 'D19_VERSAND_DATUM',\n",
       " 'D19_VERSAND_OFFLINE_DATUM',\n",
       " 'D19_VERSAND_ONLINE_DATUM',\n",
       " 'D19_VERSAND_ONLINE_QUOTE_12',\n",
       " 'D19_VERSICHERUNGEN',\n",
       " 'D19_VERSAND_REST',\n",
       " 'D19_VERSI_ANZ_12',\n",
       " 'D19_VERSI_ANZ_24',\n",
       " 'D19_VERSI_DATUM',\n",
       " 'D19_VERSI_OFFLINE_DATUM',\n",
       " 'D19_VERSI_ONLINE_DATUM',\n",
       " 'D19_VERSI_ONLINE_QUOTE_12',\n",
       " 'D19_VOLLSORTIMENT',\n",
       " 'D19_WEIN_FEINKOST',\n",
       " 'DSL_FLAG',\n",
       " 'EINGEZOGENAM_HH_JAHR',\n",
       " 'EWDICHTE',\n",
       " 'FINANZTYP',\n",
       " 'FINANZ_ANLEGER',\n",
       " 'FINANZ_HAUSBAUER',\n",
       " 'FINANZ_MINIMALIST',\n",
       " 'FINANZ_SPARER',\n",
       " 'FINANZ_UNAUFFAELLIGER',\n",
       " 'FINANZ_VORSORGER',\n",
       " 'GEBAEUDETYP',\n",
       " 'GEBAEUDETYP_RASTER',\n",
       " 'GEBURTSJAHR',\n",
       " 'GFK_URLAUBERTYP',\n",
       " 'GREEN_AVANTGARDE',\n",
       " 'HEALTH_TYP',\n",
       " 'HH_DELTA_FLAG',\n",
       " 'HH_EINKOMMEN_SCORE',\n",
       " 'INNENSTADT',\n",
       " 'KBA05_ALTER1',\n",
       " 'KBA05_ALTER2',\n",
       " 'KBA05_ALTER3',\n",
       " 'KBA05_ALTER4',\n",
       " 'KBA05_ANHANG',\n",
       " 'KBA05_ANTG1',\n",
       " 'KBA05_ANTG2',\n",
       " 'KBA05_ANTG3',\n",
       " 'KBA05_ANTG4',\n",
       " 'KBA05_AUTOQUOT',\n",
       " 'KBA05_BAUMAX',\n",
       " 'KBA05_CCM1',\n",
       " 'KBA05_CCM2',\n",
       " 'KBA05_CCM3',\n",
       " 'KBA05_CCM4',\n",
       " 'KBA05_DIESEL',\n",
       " 'KBA05_FRAU',\n",
       " 'KBA05_GBZ',\n",
       " 'KBA05_HERST1',\n",
       " 'KBA05_HERST2',\n",
       " 'KBA05_HERST3',\n",
       " 'KBA05_HERST4',\n",
       " 'KBA05_HERST5',\n",
       " 'KBA05_HERSTTEMP',\n",
       " 'KBA05_KRSAQUOT',\n",
       " 'KBA05_KRSHERST1',\n",
       " 'KBA05_KRSHERST2',\n",
       " 'KBA05_KRSHERST3',\n",
       " 'KBA05_KRSKLEIN',\n",
       " 'KBA05_KRSOBER',\n",
       " 'KBA05_KRSVAN',\n",
       " 'KBA05_KRSZUL',\n",
       " 'KBA05_KW1',\n",
       " 'KBA05_KW2',\n",
       " 'KBA05_KW3',\n",
       " 'KBA05_MAXAH',\n",
       " 'KBA05_MAXBJ',\n",
       " 'KBA05_MAXHERST',\n",
       " 'KBA05_MAXSEG',\n",
       " 'KBA05_MAXVORB',\n",
       " 'KBA05_MOD1',\n",
       " 'KBA05_MOD2',\n",
       " 'KBA05_MOD3',\n",
       " 'KBA05_MOD4',\n",
       " 'KBA05_MOD8',\n",
       " 'KBA05_MODTEMP',\n",
       " 'KBA05_MOTOR',\n",
       " 'KBA05_MOTRAD',\n",
       " 'KBA05_SEG1',\n",
       " 'KBA05_SEG10',\n",
       " 'KBA05_SEG2',\n",
       " 'KBA05_SEG3',\n",
       " 'KBA05_SEG4',\n",
       " 'KBA05_SEG5',\n",
       " 'KBA05_SEG6',\n",
       " 'KBA05_SEG7',\n",
       " 'KBA05_SEG8',\n",
       " 'KBA05_SEG9',\n",
       " 'KBA05_VORB0',\n",
       " 'KBA05_VORB1',\n",
       " 'KBA05_VORB2',\n",
       " 'KBA05_ZUL1',\n",
       " 'KBA05_ZUL2',\n",
       " 'KBA05_ZUL3',\n",
       " 'KBA05_ZUL4',\n",
       " 'KBA13_ALTERHALTER_30',\n",
       " 'KBA13_ALTERHALTER_45',\n",
       " 'KBA13_ALTERHALTER_60',\n",
       " 'KBA13_ALTERHALTER_61',\n",
       " 'KBA13_ANTG1',\n",
       " 'KBA13_ANTG2',\n",
       " 'KBA13_ANTG3',\n",
       " 'KBA13_ANTG4',\n",
       " 'KBA13_ANZAHL_PKW',\n",
       " 'KBA13_AUDI',\n",
       " 'KBA13_AUTOQUOTE',\n",
       " 'KBA13_BAUMAX',\n",
       " 'KBA13_BJ_1999',\n",
       " 'KBA13_BJ_2000',\n",
       " 'KBA13_BJ_2004',\n",
       " 'KBA13_BJ_2006',\n",
       " 'KBA13_BJ_2008',\n",
       " 'KBA13_BJ_2009',\n",
       " 'KBA13_BMW',\n",
       " 'KBA13_CCM_0_1400',\n",
       " 'KBA13_CCM_1000',\n",
       " 'KBA13_CCM_1200',\n",
       " 'KBA13_CCM_1400',\n",
       " 'KBA13_CCM_1401_2500',\n",
       " 'KBA13_CCM_1500',\n",
       " 'KBA13_CCM_1600',\n",
       " 'KBA13_CCM_1800',\n",
       " 'KBA13_CCM_2000',\n",
       " 'KBA13_CCM_2500',\n",
       " 'KBA13_CCM_2501',\n",
       " 'KBA13_CCM_3000',\n",
       " 'KBA13_CCM_3001',\n",
       " 'KBA13_FAB_ASIEN',\n",
       " 'KBA13_FAB_SONSTIGE',\n",
       " 'KBA13_FIAT',\n",
       " 'KBA13_FORD',\n",
       " 'KBA13_GBZ',\n",
       " 'KBA13_HALTER_20',\n",
       " 'KBA13_HALTER_25',\n",
       " 'KBA13_HALTER_30',\n",
       " 'KBA13_HALTER_35',\n",
       " 'KBA13_HALTER_40',\n",
       " 'KBA13_HALTER_45',\n",
       " 'KBA13_HALTER_50',\n",
       " 'KBA13_HALTER_55',\n",
       " 'KBA13_HALTER_60',\n",
       " 'KBA13_HALTER_65',\n",
       " 'KBA13_HALTER_66',\n",
       " 'KBA13_HERST_ASIEN',\n",
       " 'KBA13_HERST_AUDI_VW',\n",
       " 'KBA13_HERST_BMW_BENZ',\n",
       " 'KBA13_HERST_EUROPA',\n",
       " 'KBA13_HERST_FORD_OPEL',\n",
       " 'KBA13_HERST_SONST',\n",
       " 'KBA13_HHZ',\n",
       " 'KBA13_KMH_0_140',\n",
       " 'KBA13_KMH_110',\n",
       " 'KBA13_KMH_140',\n",
       " 'KBA13_KMH_140_210',\n",
       " 'KBA13_KMH_180',\n",
       " 'KBA13_KMH_210',\n",
       " 'KBA13_KMH_211',\n",
       " 'KBA13_KMH_250',\n",
       " 'KBA13_KMH_251',\n",
       " 'KBA13_KRSAQUOT',\n",
       " 'KBA13_KRSHERST_AUDI_VW',\n",
       " 'KBA13_KRSHERST_BMW_BENZ',\n",
       " 'KBA13_KRSHERST_FORD_OPEL',\n",
       " 'KBA13_KRSSEG_KLEIN',\n",
       " 'KBA13_KRSSEG_OBER',\n",
       " 'KBA13_KRSSEG_VAN',\n",
       " 'KBA13_KRSZUL_NEU',\n",
       " 'KBA13_KW_0_60',\n",
       " 'KBA13_KW_110',\n",
       " 'KBA13_KW_120',\n",
       " 'KBA13_KW_121',\n",
       " 'KBA13_KW_30',\n",
       " 'KBA13_KW_40',\n",
       " 'KBA13_KW_50',\n",
       " 'KBA13_KW_60',\n",
       " 'KBA13_KW_61_120',\n",
       " 'KBA13_KW_70',\n",
       " 'KBA13_KW_80',\n",
       " 'KBA13_KW_90',\n",
       " 'KBA13_MAZDA',\n",
       " 'KBA13_MERCEDES',\n",
       " 'KBA13_MOTOR',\n",
       " 'KBA13_NISSAN',\n",
       " 'KBA13_OPEL',\n",
       " 'KBA13_PEUGEOT',\n",
       " 'KBA13_RENAULT',\n",
       " 'KBA13_SEG_GELAENDEWAGEN',\n",
       " 'KBA13_SEG_GROSSRAUMVANS',\n",
       " 'KBA13_SEG_KLEINST',\n",
       " 'KBA13_SEG_KLEINWAGEN',\n",
       " 'KBA13_SEG_KOMPAKTKLASSE',\n",
       " 'KBA13_SEG_MINIVANS',\n",
       " 'KBA13_SEG_MINIWAGEN',\n",
       " 'KBA13_SEG_MITTELKLASSE',\n",
       " 'KBA13_SEG_OBEREMITTELKLASSE',\n",
       " 'KBA13_SEG_OBERKLASSE',\n",
       " 'KBA13_SEG_SONSTIGE',\n",
       " 'KBA13_SEG_SPORTWAGEN',\n",
       " 'KBA13_SEG_UTILITIES',\n",
       " 'KBA13_SEG_VAN',\n",
       " 'KBA13_SEG_WOHNMOBILE',\n",
       " 'KBA13_SITZE_4',\n",
       " 'KBA13_SITZE_5',\n",
       " 'KBA13_SITZE_6',\n",
       " 'KBA13_TOYOTA',\n",
       " 'KBA13_VORB_0',\n",
       " 'KBA13_VORB_1',\n",
       " 'KBA13_VORB_1_2',\n",
       " 'KBA13_VORB_2',\n",
       " 'KBA13_VORB_3',\n",
       " 'KBA13_VW',\n",
       " 'KKK',\n",
       " 'KK_KUNDENTYP',\n",
       " 'KONSUMNAEHE',\n",
       " 'KONSUMZELLE',\n",
       " 'LP_FAMILIE_FEIN',\n",
       " 'LP_FAMILIE_GROB',\n",
       " 'LP_LEBENSPHASE_FEIN',\n",
       " 'LP_LEBENSPHASE_GROB',\n",
       " 'LP_STATUS_FEIN',\n",
       " 'LP_STATUS_GROB',\n",
       " 'MIN_GEBAEUDEJAHR',\n",
       " 'MOBI_RASTER',\n",
       " 'MOBI_REGIO',\n",
       " 'NATIONALITAET_KZ',\n",
       " 'ONLINE_AFFINITAET',\n",
       " 'ORTSGR_KLS9',\n",
       " 'OST_WEST_KZ',\n",
       " 'PLZ8_ANTG1',\n",
       " 'PLZ8_ANTG2',\n",
       " 'PLZ8_ANTG3',\n",
       " 'PLZ8_ANTG4',\n",
       " 'PLZ8_BAUMAX',\n",
       " 'PLZ8_GBZ',\n",
       " 'PLZ8_HHZ',\n",
       " 'PRAEGENDE_JUGENDJAHRE',\n",
       " 'REGIOTYP',\n",
       " 'RELAT_AB',\n",
       " 'RETOURTYP_BK_S',\n",
       " 'SEMIO_DOM',\n",
       " 'SEMIO_ERL',\n",
       " 'SEMIO_FAM',\n",
       " 'SEMIO_KAEM',\n",
       " 'SEMIO_KRIT',\n",
       " 'SEMIO_KULT',\n",
       " 'SEMIO_LUST',\n",
       " 'SEMIO_MAT',\n",
       " 'SEMIO_PFLICHT',\n",
       " 'SEMIO_RAT',\n",
       " 'SEMIO_REL',\n",
       " 'SEMIO_SOZ',\n",
       " 'SEMIO_TRADV',\n",
       " 'SEMIO_VERT',\n",
       " 'SHOPPER_TYP',\n",
       " 'SOHO_KZ',\n",
       " 'TITEL_KZ',\n",
       " 'UNGLEICHENN_FLAG',\n",
       " 'VERS_TYP',\n",
       " 'WOHNDAUER_2008',\n",
       " 'WOHNLAGE',\n",
       " 'W_KEIT_KIND_HH',\n",
       " 'ZABEOTYP']"
      ]
     },
     "execution_count": 15,
     "metadata": {},
     "output_type": "execute_result"
    }
   ],
   "source": [
    "features_in_attributes_info"
   ]
  },
  {
   "cell_type": "code",
   "execution_count": 16,
   "metadata": {},
   "outputs": [],
   "source": [
    "azdias_columns_not_described = list(set(azdias) - set(features_in_attributes_info))"
   ]
  },
  {
   "cell_type": "code",
   "execution_count": 17,
   "metadata": {},
   "outputs": [
    {
     "data": {
      "text/plain": [
       "['UMFELD_ALT',\n",
       " 'ALTER_KIND2',\n",
       " 'CJT_TYP_5',\n",
       " 'CJT_TYP_6',\n",
       " 'AKT_DAT_KL',\n",
       " 'ALTER_KIND4',\n",
       " 'D19_LETZTER_KAUF_BRANCHE',\n",
       " 'STRUKTURTYP',\n",
       " 'D19_KONSUMTYP_MAX',\n",
       " 'CJT_TYP_2',\n",
       " 'VK_DHT4A',\n",
       " 'CJT_KATALOGNUTZER',\n",
       " 'RT_UEBERGROESSE',\n",
       " 'UMFELD_JUNG',\n",
       " 'LNR',\n",
       " 'EXTSEL992',\n",
       " 'FIRMENDICHTE',\n",
       " 'VHN',\n",
       " 'EINGEFUEGT_AM',\n",
       " 'GEMEINDETYP',\n",
       " 'CJT_TYP_4',\n",
       " 'CJT_TYP_3',\n",
       " 'RT_KEIN_ANREIZ',\n",
       " 'VHA',\n",
       " 'CJT_TYP_1',\n",
       " 'VK_ZG11',\n",
       " 'KOMBIALTER',\n",
       " 'VK_DISTANZ',\n",
       " 'VERDICHTUNGSRAUM',\n",
       " 'RT_SCHNAEPPCHEN',\n",
       " 'ALTER_KIND3',\n",
       " 'ALTER_KIND1']"
      ]
     },
     "execution_count": 17,
     "metadata": {},
     "output_type": "execute_result"
    }
   ],
   "source": [
    "# columns in AZDIAS dataset but not described in attributes_info: to drop\n",
    "azdias_columns_not_described"
   ]
  },
  {
   "cell_type": "code",
   "execution_count": 18,
   "metadata": {},
   "outputs": [],
   "source": [
    "azdias.drop(labels=azdias_columns_not_described, axis=1, inplace=True)"
   ]
  },
  {
   "cell_type": "code",
   "execution_count": 19,
   "metadata": {},
   "outputs": [
    {
     "data": {
      "text/plain": [
       "Index(['AGER_TYP', 'ALTER_HH', 'ALTERSKATEGORIE_FEIN', 'ANZ_HAUSHALTE_AKTIV',\n",
       "       'ANZ_HH_TITEL', 'ANZ_KINDER', 'ANZ_PERSONEN',\n",
       "       'ANZ_STATISTISCHE_HAUSHALTE', 'ANZ_TITEL', 'ARBEIT',\n",
       "       ...\n",
       "       'SOHO_KZ', 'TITEL_KZ', 'UNGLEICHENN_FLAG', 'VERS_TYP', 'W_KEIT_KIND_HH',\n",
       "       'WOHNDAUER_2008', 'WOHNLAGE', 'ZABEOTYP', 'ANREDE_KZ',\n",
       "       'ALTERSKATEGORIE_GROB'],\n",
       "      dtype='object', length=334)"
      ]
     },
     "execution_count": 19,
     "metadata": {},
     "output_type": "execute_result"
    }
   ],
   "source": [
    "# check the remaining columns\n",
    "azdias.columns"
   ]
  },
  {
   "cell_type": "code",
   "execution_count": 20,
   "metadata": {},
   "outputs": [
    {
     "data": {
      "text/html": [
       "<div>\n",
       "<style scoped>\n",
       "    .dataframe tbody tr th:only-of-type {\n",
       "        vertical-align: middle;\n",
       "    }\n",
       "\n",
       "    .dataframe tbody tr th {\n",
       "        vertical-align: top;\n",
       "    }\n",
       "\n",
       "    .dataframe thead th {\n",
       "        text-align: right;\n",
       "    }\n",
       "</style>\n",
       "<table border=\"1\" class=\"dataframe\">\n",
       "  <thead>\n",
       "    <tr style=\"text-align: right;\">\n",
       "      <th></th>\n",
       "      <th>AGER_TYP</th>\n",
       "      <th>ALTER_HH</th>\n",
       "      <th>ALTERSKATEGORIE_FEIN</th>\n",
       "      <th>ANZ_HAUSHALTE_AKTIV</th>\n",
       "      <th>ANZ_HH_TITEL</th>\n",
       "      <th>ANZ_KINDER</th>\n",
       "      <th>ANZ_PERSONEN</th>\n",
       "      <th>ANZ_STATISTISCHE_HAUSHALTE</th>\n",
       "      <th>ANZ_TITEL</th>\n",
       "      <th>ARBEIT</th>\n",
       "      <th>...</th>\n",
       "      <th>SOHO_KZ</th>\n",
       "      <th>TITEL_KZ</th>\n",
       "      <th>UNGLEICHENN_FLAG</th>\n",
       "      <th>VERS_TYP</th>\n",
       "      <th>W_KEIT_KIND_HH</th>\n",
       "      <th>WOHNDAUER_2008</th>\n",
       "      <th>WOHNLAGE</th>\n",
       "      <th>ZABEOTYP</th>\n",
       "      <th>ANREDE_KZ</th>\n",
       "      <th>ALTERSKATEGORIE_GROB</th>\n",
       "    </tr>\n",
       "  </thead>\n",
       "  <tbody>\n",
       "    <tr>\n",
       "      <th>0</th>\n",
       "      <td>-1</td>\n",
       "      <td>NaN</td>\n",
       "      <td>NaN</td>\n",
       "      <td>NaN</td>\n",
       "      <td>NaN</td>\n",
       "      <td>NaN</td>\n",
       "      <td>NaN</td>\n",
       "      <td>NaN</td>\n",
       "      <td>NaN</td>\n",
       "      <td>NaN</td>\n",
       "      <td>...</td>\n",
       "      <td>NaN</td>\n",
       "      <td>NaN</td>\n",
       "      <td>NaN</td>\n",
       "      <td>-1</td>\n",
       "      <td>NaN</td>\n",
       "      <td>NaN</td>\n",
       "      <td>NaN</td>\n",
       "      <td>3</td>\n",
       "      <td>1</td>\n",
       "      <td>2</td>\n",
       "    </tr>\n",
       "    <tr>\n",
       "      <th>1</th>\n",
       "      <td>-1</td>\n",
       "      <td>0.0</td>\n",
       "      <td>21.0</td>\n",
       "      <td>11.0</td>\n",
       "      <td>0.0</td>\n",
       "      <td>0.0</td>\n",
       "      <td>2.0</td>\n",
       "      <td>12.0</td>\n",
       "      <td>0.0</td>\n",
       "      <td>3.0</td>\n",
       "      <td>...</td>\n",
       "      <td>1.0</td>\n",
       "      <td>0.0</td>\n",
       "      <td>1.0</td>\n",
       "      <td>2</td>\n",
       "      <td>3.0</td>\n",
       "      <td>9.0</td>\n",
       "      <td>4.0</td>\n",
       "      <td>5</td>\n",
       "      <td>2</td>\n",
       "      <td>1</td>\n",
       "    </tr>\n",
       "    <tr>\n",
       "      <th>2</th>\n",
       "      <td>-1</td>\n",
       "      <td>17.0</td>\n",
       "      <td>17.0</td>\n",
       "      <td>10.0</td>\n",
       "      <td>0.0</td>\n",
       "      <td>0.0</td>\n",
       "      <td>1.0</td>\n",
       "      <td>7.0</td>\n",
       "      <td>0.0</td>\n",
       "      <td>3.0</td>\n",
       "      <td>...</td>\n",
       "      <td>0.0</td>\n",
       "      <td>0.0</td>\n",
       "      <td>0.0</td>\n",
       "      <td>1</td>\n",
       "      <td>3.0</td>\n",
       "      <td>9.0</td>\n",
       "      <td>2.0</td>\n",
       "      <td>5</td>\n",
       "      <td>2</td>\n",
       "      <td>3</td>\n",
       "    </tr>\n",
       "    <tr>\n",
       "      <th>3</th>\n",
       "      <td>2</td>\n",
       "      <td>13.0</td>\n",
       "      <td>13.0</td>\n",
       "      <td>1.0</td>\n",
       "      <td>0.0</td>\n",
       "      <td>0.0</td>\n",
       "      <td>0.0</td>\n",
       "      <td>2.0</td>\n",
       "      <td>0.0</td>\n",
       "      <td>2.0</td>\n",
       "      <td>...</td>\n",
       "      <td>0.0</td>\n",
       "      <td>0.0</td>\n",
       "      <td>0.0</td>\n",
       "      <td>1</td>\n",
       "      <td>NaN</td>\n",
       "      <td>9.0</td>\n",
       "      <td>7.0</td>\n",
       "      <td>3</td>\n",
       "      <td>2</td>\n",
       "      <td>4</td>\n",
       "    </tr>\n",
       "    <tr>\n",
       "      <th>4</th>\n",
       "      <td>-1</td>\n",
       "      <td>20.0</td>\n",
       "      <td>14.0</td>\n",
       "      <td>3.0</td>\n",
       "      <td>0.0</td>\n",
       "      <td>0.0</td>\n",
       "      <td>4.0</td>\n",
       "      <td>3.0</td>\n",
       "      <td>0.0</td>\n",
       "      <td>4.0</td>\n",
       "      <td>...</td>\n",
       "      <td>0.0</td>\n",
       "      <td>0.0</td>\n",
       "      <td>0.0</td>\n",
       "      <td>2</td>\n",
       "      <td>2.0</td>\n",
       "      <td>9.0</td>\n",
       "      <td>3.0</td>\n",
       "      <td>4</td>\n",
       "      <td>1</td>\n",
       "      <td>3</td>\n",
       "    </tr>\n",
       "  </tbody>\n",
       "</table>\n",
       "<p>5 rows × 334 columns</p>\n",
       "</div>"
      ],
      "text/plain": [
       "   AGER_TYP  ALTER_HH  ALTERSKATEGORIE_FEIN  ANZ_HAUSHALTE_AKTIV  \\\n",
       "0        -1       NaN                   NaN                  NaN   \n",
       "1        -1       0.0                  21.0                 11.0   \n",
       "2        -1      17.0                  17.0                 10.0   \n",
       "3         2      13.0                  13.0                  1.0   \n",
       "4        -1      20.0                  14.0                  3.0   \n",
       "\n",
       "   ANZ_HH_TITEL  ANZ_KINDER  ANZ_PERSONEN  ANZ_STATISTISCHE_HAUSHALTE  \\\n",
       "0           NaN         NaN           NaN                         NaN   \n",
       "1           0.0         0.0           2.0                        12.0   \n",
       "2           0.0         0.0           1.0                         7.0   \n",
       "3           0.0         0.0           0.0                         2.0   \n",
       "4           0.0         0.0           4.0                         3.0   \n",
       "\n",
       "   ANZ_TITEL  ARBEIT  ...  SOHO_KZ TITEL_KZ UNGLEICHENN_FLAG VERS_TYP  \\\n",
       "0        NaN     NaN  ...      NaN      NaN              NaN       -1   \n",
       "1        0.0     3.0  ...      1.0      0.0              1.0        2   \n",
       "2        0.0     3.0  ...      0.0      0.0              0.0        1   \n",
       "3        0.0     2.0  ...      0.0      0.0              0.0        1   \n",
       "4        0.0     4.0  ...      0.0      0.0              0.0        2   \n",
       "\n",
       "   W_KEIT_KIND_HH  WOHNDAUER_2008  WOHNLAGE  ZABEOTYP  ANREDE_KZ  \\\n",
       "0             NaN             NaN       NaN         3          1   \n",
       "1             3.0             9.0       4.0         5          2   \n",
       "2             3.0             9.0       2.0         5          2   \n",
       "3             NaN             9.0       7.0         3          2   \n",
       "4             2.0             9.0       3.0         4          1   \n",
       "\n",
       "   ALTERSKATEGORIE_GROB  \n",
       "0                     2  \n",
       "1                     1  \n",
       "2                     3  \n",
       "3                     4  \n",
       "4                     3  \n",
       "\n",
       "[5 rows x 334 columns]"
      ]
     },
     "execution_count": 20,
     "metadata": {},
     "output_type": "execute_result"
    }
   ],
   "source": [
    "# visualing the first few lines of AZDIAS dataset again\n",
    "azdias.head()"
   ]
  },
  {
   "cell_type": "code",
   "execution_count": 21,
   "metadata": {},
   "outputs": [
    {
     "data": {
      "text/plain": [
       "(891221, 334)"
      ]
     },
     "execution_count": 21,
     "metadata": {},
     "output_type": "execute_result"
    }
   ],
   "source": [
    "azdias.shape"
   ]
  },
  {
   "cell_type": "markdown",
   "metadata": {},
   "source": [
    ">We went from 360 columns/features in azdias to 334 columns/features."
   ]
  },
  {
   "cell_type": "markdown",
   "metadata": {},
   "source": [
    "(Checking whether there are attributes described in attributes.csv, but not found in azdias):"
   ]
  },
  {
   "cell_type": "code",
   "execution_count": 22,
   "metadata": {},
   "outputs": [
    {
     "data": {
      "text/plain": [
       "[]"
      ]
     },
     "execution_count": 22,
     "metadata": {},
     "output_type": "execute_result"
    }
   ],
   "source": [
    "list(set(features_in_attributes_info) - set(azdias))"
   ]
  },
  {
   "cell_type": "markdown",
   "metadata": {},
   "source": [
    "> There are NO features described in the xlsx file (and manually created attributes_info) that are not found in azdias, as expected."
   ]
  },
  {
   "cell_type": "markdown",
   "metadata": {},
   "source": [
    "### 2. Convert Missing ('X' or 'XX') and Unknown Values of the AZDIAS features/columns to NaN values"
   ]
  },
  {
   "cell_type": "markdown",
   "metadata": {},
   "source": [
    "Let's create a Pandas Series holding the values referring to 'unknown' for each feature/column of the azdias dataset.\n",
    "We need, as part of the data cleaning and preprocessing step, to convert these values to NaN values."
   ]
  },
  {
   "cell_type": "code",
   "execution_count": 23,
   "metadata": {},
   "outputs": [],
   "source": [
    "unknown_series = pd.Series(attributes_info['Unknown_Values'].values, index=attributes_info['Attribute'])"
   ]
  },
  {
   "cell_type": "code",
   "execution_count": 24,
   "metadata": {},
   "outputs": [
    {
     "data": {
      "text/plain": [
       "Attribute\n",
       "AGER_TYP                  [-1,0]\n",
       "ALTERSKATEGORIE_FEIN    [-1,0.9]\n",
       "ALTERSKATEGORIE_GROB    [-1,0,9]\n",
       "ALTER_HH                     [0]\n",
       "ANREDE_KZ                 [-1,0]\n",
       "                          ...   \n",
       "VERS_TYP                    [-1]\n",
       "WOHNDAUER_2008            [-1,0]\n",
       "WOHNLAGE                  [-1,0]\n",
       "W_KEIT_KIND_HH            [-1,0]\n",
       "ZABEOTYP                  [-1,9]\n",
       "Length: 334, dtype: object"
      ]
     },
     "execution_count": 24,
     "metadata": {},
     "output_type": "execute_result"
    }
   ],
   "source": [
    "unknown_series"
   ]
  },
  {
   "cell_type": "code",
   "execution_count": 25,
   "metadata": {},
   "outputs": [],
   "source": [
    "for column in azdias.columns:\n",
    "    if azdias[column].dtype == np.int64:\n",
    "        azdias[column] = azdias[column].astype(np.float64)"
   ]
  },
  {
   "cell_type": "code",
   "execution_count": 26,
   "metadata": {},
   "outputs": [],
   "source": [
    "for column in azdias.columns:\n",
    "    \n",
    "    isin = ast.literal_eval(unknown_series[column])\n",
    "    \n",
    "    azdias[column] = azdias[column].mask(azdias[column].isin(isin), other=np.nan)"
   ]
  },
  {
   "cell_type": "code",
   "execution_count": 27,
   "metadata": {},
   "outputs": [
    {
     "data": {
      "text/html": [
       "<div>\n",
       "<style scoped>\n",
       "    .dataframe tbody tr th:only-of-type {\n",
       "        vertical-align: middle;\n",
       "    }\n",
       "\n",
       "    .dataframe tbody tr th {\n",
       "        vertical-align: top;\n",
       "    }\n",
       "\n",
       "    .dataframe thead th {\n",
       "        text-align: right;\n",
       "    }\n",
       "</style>\n",
       "<table border=\"1\" class=\"dataframe\">\n",
       "  <thead>\n",
       "    <tr style=\"text-align: right;\">\n",
       "      <th></th>\n",
       "      <th>AGER_TYP</th>\n",
       "      <th>ALTER_HH</th>\n",
       "      <th>ALTERSKATEGORIE_FEIN</th>\n",
       "      <th>ANZ_HAUSHALTE_AKTIV</th>\n",
       "      <th>ANZ_HH_TITEL</th>\n",
       "      <th>ANZ_KINDER</th>\n",
       "      <th>ANZ_PERSONEN</th>\n",
       "      <th>ANZ_STATISTISCHE_HAUSHALTE</th>\n",
       "      <th>ANZ_TITEL</th>\n",
       "      <th>ARBEIT</th>\n",
       "      <th>...</th>\n",
       "      <th>SOHO_KZ</th>\n",
       "      <th>TITEL_KZ</th>\n",
       "      <th>UNGLEICHENN_FLAG</th>\n",
       "      <th>VERS_TYP</th>\n",
       "      <th>W_KEIT_KIND_HH</th>\n",
       "      <th>WOHNDAUER_2008</th>\n",
       "      <th>WOHNLAGE</th>\n",
       "      <th>ZABEOTYP</th>\n",
       "      <th>ANREDE_KZ</th>\n",
       "      <th>ALTERSKATEGORIE_GROB</th>\n",
       "    </tr>\n",
       "  </thead>\n",
       "  <tbody>\n",
       "    <tr>\n",
       "      <th>0</th>\n",
       "      <td>NaN</td>\n",
       "      <td>NaN</td>\n",
       "      <td>NaN</td>\n",
       "      <td>NaN</td>\n",
       "      <td>NaN</td>\n",
       "      <td>NaN</td>\n",
       "      <td>NaN</td>\n",
       "      <td>NaN</td>\n",
       "      <td>NaN</td>\n",
       "      <td>NaN</td>\n",
       "      <td>...</td>\n",
       "      <td>NaN</td>\n",
       "      <td>NaN</td>\n",
       "      <td>NaN</td>\n",
       "      <td>NaN</td>\n",
       "      <td>NaN</td>\n",
       "      <td>NaN</td>\n",
       "      <td>NaN</td>\n",
       "      <td>3.0</td>\n",
       "      <td>1.0</td>\n",
       "      <td>2.0</td>\n",
       "    </tr>\n",
       "    <tr>\n",
       "      <th>1</th>\n",
       "      <td>NaN</td>\n",
       "      <td>NaN</td>\n",
       "      <td>21.0</td>\n",
       "      <td>11.0</td>\n",
       "      <td>0.0</td>\n",
       "      <td>0.0</td>\n",
       "      <td>2.0</td>\n",
       "      <td>12.0</td>\n",
       "      <td>0.0</td>\n",
       "      <td>3.0</td>\n",
       "      <td>...</td>\n",
       "      <td>1.0</td>\n",
       "      <td>NaN</td>\n",
       "      <td>1.0</td>\n",
       "      <td>2.0</td>\n",
       "      <td>3.0</td>\n",
       "      <td>9.0</td>\n",
       "      <td>4.0</td>\n",
       "      <td>5.0</td>\n",
       "      <td>2.0</td>\n",
       "      <td>1.0</td>\n",
       "    </tr>\n",
       "    <tr>\n",
       "      <th>2</th>\n",
       "      <td>NaN</td>\n",
       "      <td>17.0</td>\n",
       "      <td>17.0</td>\n",
       "      <td>10.0</td>\n",
       "      <td>0.0</td>\n",
       "      <td>0.0</td>\n",
       "      <td>1.0</td>\n",
       "      <td>7.0</td>\n",
       "      <td>0.0</td>\n",
       "      <td>3.0</td>\n",
       "      <td>...</td>\n",
       "      <td>0.0</td>\n",
       "      <td>NaN</td>\n",
       "      <td>0.0</td>\n",
       "      <td>1.0</td>\n",
       "      <td>3.0</td>\n",
       "      <td>9.0</td>\n",
       "      <td>2.0</td>\n",
       "      <td>5.0</td>\n",
       "      <td>2.0</td>\n",
       "      <td>3.0</td>\n",
       "    </tr>\n",
       "    <tr>\n",
       "      <th>3</th>\n",
       "      <td>2.0</td>\n",
       "      <td>13.0</td>\n",
       "      <td>13.0</td>\n",
       "      <td>1.0</td>\n",
       "      <td>0.0</td>\n",
       "      <td>0.0</td>\n",
       "      <td>0.0</td>\n",
       "      <td>2.0</td>\n",
       "      <td>0.0</td>\n",
       "      <td>2.0</td>\n",
       "      <td>...</td>\n",
       "      <td>0.0</td>\n",
       "      <td>NaN</td>\n",
       "      <td>0.0</td>\n",
       "      <td>1.0</td>\n",
       "      <td>NaN</td>\n",
       "      <td>9.0</td>\n",
       "      <td>7.0</td>\n",
       "      <td>3.0</td>\n",
       "      <td>2.0</td>\n",
       "      <td>4.0</td>\n",
       "    </tr>\n",
       "    <tr>\n",
       "      <th>4</th>\n",
       "      <td>NaN</td>\n",
       "      <td>20.0</td>\n",
       "      <td>14.0</td>\n",
       "      <td>3.0</td>\n",
       "      <td>0.0</td>\n",
       "      <td>0.0</td>\n",
       "      <td>4.0</td>\n",
       "      <td>3.0</td>\n",
       "      <td>0.0</td>\n",
       "      <td>4.0</td>\n",
       "      <td>...</td>\n",
       "      <td>0.0</td>\n",
       "      <td>NaN</td>\n",
       "      <td>0.0</td>\n",
       "      <td>2.0</td>\n",
       "      <td>2.0</td>\n",
       "      <td>9.0</td>\n",
       "      <td>3.0</td>\n",
       "      <td>4.0</td>\n",
       "      <td>1.0</td>\n",
       "      <td>3.0</td>\n",
       "    </tr>\n",
       "  </tbody>\n",
       "</table>\n",
       "<p>5 rows × 334 columns</p>\n",
       "</div>"
      ],
      "text/plain": [
       "   AGER_TYP  ALTER_HH  ALTERSKATEGORIE_FEIN  ANZ_HAUSHALTE_AKTIV  \\\n",
       "0       NaN       NaN                   NaN                  NaN   \n",
       "1       NaN       NaN                  21.0                 11.0   \n",
       "2       NaN      17.0                  17.0                 10.0   \n",
       "3       2.0      13.0                  13.0                  1.0   \n",
       "4       NaN      20.0                  14.0                  3.0   \n",
       "\n",
       "   ANZ_HH_TITEL  ANZ_KINDER  ANZ_PERSONEN  ANZ_STATISTISCHE_HAUSHALTE  \\\n",
       "0           NaN         NaN           NaN                         NaN   \n",
       "1           0.0         0.0           2.0                        12.0   \n",
       "2           0.0         0.0           1.0                         7.0   \n",
       "3           0.0         0.0           0.0                         2.0   \n",
       "4           0.0         0.0           4.0                         3.0   \n",
       "\n",
       "   ANZ_TITEL  ARBEIT  ...  SOHO_KZ TITEL_KZ UNGLEICHENN_FLAG VERS_TYP  \\\n",
       "0        NaN     NaN  ...      NaN      NaN              NaN      NaN   \n",
       "1        0.0     3.0  ...      1.0      NaN              1.0      2.0   \n",
       "2        0.0     3.0  ...      0.0      NaN              0.0      1.0   \n",
       "3        0.0     2.0  ...      0.0      NaN              0.0      1.0   \n",
       "4        0.0     4.0  ...      0.0      NaN              0.0      2.0   \n",
       "\n",
       "   W_KEIT_KIND_HH  WOHNDAUER_2008  WOHNLAGE  ZABEOTYP  ANREDE_KZ  \\\n",
       "0             NaN             NaN       NaN       3.0        1.0   \n",
       "1             3.0             9.0       4.0       5.0        2.0   \n",
       "2             3.0             9.0       2.0       5.0        2.0   \n",
       "3             NaN             9.0       7.0       3.0        2.0   \n",
       "4             2.0             9.0       3.0       4.0        1.0   \n",
       "\n",
       "   ALTERSKATEGORIE_GROB  \n",
       "0                   2.0  \n",
       "1                   1.0  \n",
       "2                   3.0  \n",
       "3                   4.0  \n",
       "4                   3.0  \n",
       "\n",
       "[5 rows x 334 columns]"
      ]
     },
     "execution_count": 27,
     "metadata": {},
     "output_type": "execute_result"
    }
   ],
   "source": [
    "azdias.head()"
   ]
  },
  {
   "cell_type": "code",
   "execution_count": 28,
   "metadata": {},
   "outputs": [
    {
     "data": {
      "text/plain": [
       "(891221, 334)"
      ]
     },
     "execution_count": 28,
     "metadata": {},
     "output_type": "execute_result"
    }
   ],
   "source": [
    "azdias.shape"
   ]
  },
  {
   "cell_type": "markdown",
   "metadata": {},
   "source": [
    "### 3. a) Identify & Drop the Missing (NaN) Values COLUMN-WISE"
   ]
  },
  {
   "cell_type": "markdown",
   "metadata": {},
   "source": [
    "Below are displayed the percentage of NaN values **column-wise**. We will then choose a threshold beyond which we should drop columns. This threshold must be high enough that any column with higher percentage of NaN values can be considered unuseful to our subsequent analyses."
   ]
  },
  {
   "cell_type": "code",
   "execution_count": 32,
   "metadata": {},
   "outputs": [],
   "source": [
    "# Find the percentage of missing values NaN in each column of AZDIAS, rounded to 2 decimal places\n",
    "missing_perct_column = azdias.isnull().mean(axis=0)"
   ]
  },
  {
   "cell_type": "code",
   "execution_count": 33,
   "metadata": {},
   "outputs": [
    {
     "data": {
      "text/plain": [
       "AGER_TYP                0.769554\n",
       "ALTER_HH                0.348137\n",
       "ALTERSKATEGORIE_FEIN    0.295041\n",
       "ANZ_HAUSHALTE_AKTIV     0.104517\n",
       "ANZ_HH_TITEL            0.108848\n",
       "                          ...   \n",
       "WOHNDAUER_2008          0.082470\n",
       "WOHNLAGE                0.112316\n",
       "ZABEOTYP                0.000000\n",
       "ANREDE_KZ               0.000000\n",
       "ALTERSKATEGORIE_GROB    0.003233\n",
       "Length: 334, dtype: float64"
      ]
     },
     "execution_count": 33,
     "metadata": {},
     "output_type": "execute_result"
    }
   ],
   "source": [
    "missing_perct_column"
   ]
  },
  {
   "cell_type": "code",
   "execution_count": 34,
   "metadata": {},
   "outputs": [
    {
     "data": {
      "text/plain": [
       "Text(0.5, 1.0, 'Proportion of NaN Values in azdias Columns')"
      ]
     },
     "execution_count": 34,
     "metadata": {},
     "output_type": "execute_result"
    },
    {
     "data": {
      "image/png": "[encoded data removed]",
      "text/plain": [
       "<Figure size 432x288 with 1 Axes>"
      ]
     },
     "metadata": {
      "needs_background": "light"
     },
     "output_type": "display_data"
    }
   ],
   "source": [
    "plt.hist(missing_perct_column, bins=20);\n",
    "\n",
    "plt.xlabel('Proportion of NaN Values in the Feature/Column')\n",
    "plt.ylabel('Number of Features/Columns in azdias')\n",
    "plt.title('Proportion of NaN Values in azdias Columns')"
   ]
  },
  {
   "cell_type": "markdown",
   "metadata": {},
   "source": [
    "We decide that we only want columns (in our AZDIAS dataset) that have strictly less than 20% of percentage of missing values (column-wise percentage). Below, we will narrow down our azdias dataset to satisfy this:"
   ]
  },
  {
   "cell_type": "code",
   "execution_count": 35,
   "metadata": {},
   "outputs": [
    {
     "data": {
      "text/plain": [
       "Index(['AGER_TYP', 'ALTER_HH', 'ALTERSKATEGORIE_FEIN', 'D19_BANKEN_ANZ_12',\n",
       "       'D19_BANKEN_ANZ_24', 'D19_BANKEN_DATUM', 'D19_BANKEN_DIREKT',\n",
       "       'D19_BANKEN_GROSS', 'D19_BANKEN_LOKAL', 'D19_BANKEN_OFFLINE_DATUM',\n",
       "       'D19_BANKEN_ONLINE_DATUM', 'D19_BANKEN_ONLINE_QUOTE_12',\n",
       "       'D19_BANKEN_REST', 'D19_BEKLEIDUNG_GEH', 'D19_BEKLEIDUNG_REST',\n",
       "       'D19_BILDUNG', 'D19_BIO_OEKO', 'D19_BUCH_CD', 'D19_DIGIT_SERV',\n",
       "       'D19_DROGERIEARTIKEL', 'D19_ENERGIE', 'D19_FREIZEIT', 'D19_GARTEN',\n",
       "       'D19_GESAMT_ANZ_12', 'D19_GESAMT_ANZ_24', 'D19_GESAMT_DATUM',\n",
       "       'D19_GESAMT_OFFLINE_DATUM', 'D19_GESAMT_ONLINE_DATUM',\n",
       "       'D19_GESAMT_ONLINE_QUOTE_12', 'D19_HANDWERK', 'D19_HAUS_DEKO',\n",
       "       'D19_KINDERARTIKEL', 'D19_KONSUMTYP', 'D19_KOSMETIK',\n",
       "       'D19_LEBENSMITTEL', 'D19_LOTTO', 'D19_NAHRUNGSERGAENZUNG',\n",
       "       'D19_RATGEBER', 'D19_REISEN', 'D19_SAMMELARTIKEL', 'D19_SCHUHE',\n",
       "       'D19_SONSTIGE', 'D19_SOZIALES', 'D19_TECHNIK', 'D19_TELKO_ANZ_12',\n",
       "       'D19_TELKO_ANZ_24', 'D19_TELKO_DATUM', 'D19_TELKO_MOBILE',\n",
       "       'D19_TELKO_OFFLINE_DATUM', 'D19_TELKO_ONLINE_DATUM',\n",
       "       'D19_TELKO_ONLINE_QUOTE_12', 'D19_TELKO_REST', 'D19_TIERARTIKEL',\n",
       "       'D19_VERSAND_ANZ_12', 'D19_VERSAND_ANZ_24', 'D19_VERSAND_DATUM',\n",
       "       'D19_VERSAND_OFFLINE_DATUM', 'D19_VERSAND_ONLINE_DATUM',\n",
       "       'D19_VERSAND_ONLINE_QUOTE_12', 'D19_VERSAND_REST', 'D19_VERSI_ANZ_12',\n",
       "       'D19_VERSI_ANZ_24', 'D19_VERSI_DATUM', 'D19_VERSI_OFFLINE_DATUM',\n",
       "       'D19_VERSI_ONLINE_DATUM', 'D19_VERSI_ONLINE_QUOTE_12',\n",
       "       'D19_VERSICHERUNGEN', 'D19_VOLLSORTIMENT', 'D19_WEIN_FEINKOST',\n",
       "       'GEBURTSJAHR', 'KBA05_BAUMAX', 'KK_KUNDENTYP', 'TITEL_KZ'],\n",
       "      dtype='object')"
      ]
     },
     "execution_count": 35,
     "metadata": {},
     "output_type": "execute_result"
    }
   ],
   "source": [
    "columns_to_drop = missing_perct_column[missing_perct_column > 0.2].index\n",
    "\n",
    "columns_to_drop"
   ]
  },
  {
   "cell_type": "code",
   "execution_count": 36,
   "metadata": {},
   "outputs": [],
   "source": [
    "azdias.drop(labels=columns_to_drop, axis=1, inplace=True)"
   ]
  },
  {
   "cell_type": "code",
   "execution_count": 37,
   "metadata": {},
   "outputs": [
    {
     "data": {
      "text/plain": [
       "Index(['ANZ_HAUSHALTE_AKTIV', 'ANZ_HH_TITEL', 'ANZ_KINDER', 'ANZ_PERSONEN',\n",
       "       'ANZ_STATISTISCHE_HAUSHALTE', 'ANZ_TITEL', 'ARBEIT', 'BALLRAUM',\n",
       "       'CAMEO_DEU_2015', 'CAMEO_DEUG_2015',\n",
       "       ...\n",
       "       'SHOPPER_TYP', 'SOHO_KZ', 'UNGLEICHENN_FLAG', 'VERS_TYP',\n",
       "       'W_KEIT_KIND_HH', 'WOHNDAUER_2008', 'WOHNLAGE', 'ZABEOTYP', 'ANREDE_KZ',\n",
       "       'ALTERSKATEGORIE_GROB'],\n",
       "      dtype='object', length=261)"
      ]
     },
     "execution_count": 37,
     "metadata": {},
     "output_type": "execute_result"
    }
   ],
   "source": [
    "# remaining columns in azdias\n",
    "azdias.columns"
   ]
  },
  {
   "cell_type": "code",
   "execution_count": 38,
   "metadata": {},
   "outputs": [
    {
     "data": {
      "text/plain": [
       "(891221, 261)"
      ]
     },
     "execution_count": 38,
     "metadata": {},
     "output_type": "execute_result"
    }
   ],
   "source": [
    "# checking AZDIAS dataset shape\n",
    "azdias.shape"
   ]
  },
  {
   "cell_type": "markdown",
   "metadata": {},
   "source": [
    ">We went from 334 columns/features in azdias (from 2.) to 261 columns/features after 3.a)"
   ]
  },
  {
   "cell_type": "markdown",
   "metadata": {},
   "source": [
    "### 3. b) Identify & Drop the Missing (NaN) Values ROW-WISE"
   ]
  },
  {
   "cell_type": "markdown",
   "metadata": {},
   "source": [
    "Below are displayed the percentage of NaN values **row-wise**. We will then choose a threshold beyond which we should drop rows. This threshold must be high enough that any row with higher percentage of NaN values can be considered unuseful to our subsequent analyses."
   ]
  },
  {
   "cell_type": "code",
   "execution_count": 39,
   "metadata": {},
   "outputs": [],
   "source": [
    "# Find the percentage of missing values NaN in each row of AZDIAS, rounded to 2 decimal places\n",
    "missing_perct_row = azdias.isnull().mean(axis=1)"
   ]
  },
  {
   "cell_type": "code",
   "execution_count": 40,
   "metadata": {},
   "outputs": [
    {
     "data": {
      "text/plain": [
       "0         0.862069\n",
       "1         0.000000\n",
       "2         0.000000\n",
       "3         0.030651\n",
       "4         0.000000\n",
       "            ...   \n",
       "891216    0.011494\n",
       "891217    0.015326\n",
       "891218    0.022989\n",
       "891219    0.000000\n",
       "891220    0.000000\n",
       "Length: 891221, dtype: float64"
      ]
     },
     "execution_count": 40,
     "metadata": {},
     "output_type": "execute_result"
    }
   ],
   "source": [
    "missing_perct_row"
   ]
  },
  {
   "cell_type": "code",
   "execution_count": 41,
   "metadata": {},
   "outputs": [
    {
     "data": {
      "text/plain": [
       "Text(0.5, 1.0, 'Proportion of NaN Values in azdias Rows')"
      ]
     },
     "execution_count": 41,
     "metadata": {},
     "output_type": "execute_result"
    },
    {
     "data": {
      "image/png": "[encoded data removed]",
      "text/plain": [
       "<Figure size 432x288 with 1 Axes>"
      ]
     },
     "metadata": {
      "needs_background": "light"
     },
     "output_type": "display_data"
    }
   ],
   "source": [
    "plt.hist(missing_perct_row, bins=80);\n",
    "\n",
    "plt.xlabel('Proportion of NaN Values in the Row')\n",
    "plt.ylabel('Number of Rows in azdias')\n",
    "plt.title('Proportion of NaN Values in azdias Rows')"
   ]
  },
  {
   "cell_type": "markdown",
   "metadata": {},
   "source": [
    "We decide that we only want rows (in our AZDIAS dataset) that have strictly less than 20% of percentage of missing values (row-wise percentage). Below, we will narrow down our azdias dataset to satisfy this:"
   ]
  },
  {
   "cell_type": "code",
   "execution_count": 42,
   "metadata": {},
   "outputs": [],
   "source": [
    "azdias = azdias[missing_perct_row < 0.2]"
   ]
  },
  {
   "cell_type": "code",
   "execution_count": 43,
   "metadata": {},
   "outputs": [
    {
     "data": {
      "text/plain": [
       "(737288, 261)"
      ]
     },
     "execution_count": 43,
     "metadata": {},
     "output_type": "execute_result"
    }
   ],
   "source": [
    "azdias.shape"
   ]
  },
  {
   "cell_type": "markdown",
   "metadata": {},
   "source": [
    ">We went from 891221 rows to 737288 rows in azdias after 3.b), with the NaN threshold set at 0.2"
   ]
  },
  {
   "cell_type": "code",
   "execution_count": 44,
   "metadata": {},
   "outputs": [],
   "source": [
    "# saving modified azdias for next time I reopen the notebook (you'll also need to rerun imports cell)\n",
    "# azdias.to_pickle('azdias_before_reencoding.pkl')"
   ]
  },
  {
   "cell_type": "markdown",
   "metadata": {},
   "source": [
    "### 4. Re-Encoding Categorical & Mixed Features"
   ]
  },
  {
   "cell_type": "code",
   "execution_count": 45,
   "metadata": {},
   "outputs": [],
   "source": [
    "# loading saved azdias \n",
    "# azdias = pd.read_pickle('azdias_before_reencoding.pkl')"
   ]
  },
  {
   "cell_type": "markdown",
   "metadata": {},
   "source": [
    "Some features in the azdias dataset are categorical, some other mixed. To prepare these for feature extraction, we will need to convert these into numerical values."
   ]
  },
  {
   "cell_type": "markdown",
   "metadata": {},
   "source": [
    "**CATEGORICAL FEATURES EXPLORATION**"
   ]
  },
  {
   "cell_type": "code",
   "execution_count": 78,
   "metadata": {},
   "outputs": [
    {
     "data": {
      "text/plain": [
       "0              AGER_TYP\n",
       "4             ANREDE_KZ\n",
       "13      CAMEO_DEUG_2015\n",
       "14       CAMEO_DEU_2015\n",
       "16        CJT_GESAMTTYP\n",
       "46        D19_KONSUMTYP\n",
       "83             DSL_FLAG\n",
       "86            FINANZTYP\n",
       "93          GEBAEUDETYP\n",
       "96      GFK_URLAUBERTYP\n",
       "97     GREEN_AVANTGARDE\n",
       "99        HH_DELTA_FLAG\n",
       "284        KK_KUNDENTYP\n",
       "286         KONSUMZELLE\n",
       "287     LP_FAMILIE_FEIN\n",
       "288     LP_FAMILIE_GROB\n",
       "291      LP_STATUS_FEIN\n",
       "292      LP_STATUS_GROB\n",
       "296    NATIONALITAET_KZ\n",
       "299         OST_WEST_KZ\n",
       "325         SHOPPER_TYP\n",
       "326             SOHO_KZ\n",
       "327            TITEL_KZ\n",
       "328    UNGLEICHENN_FLAG\n",
       "329            VERS_TYP\n",
       "333            ZABEOTYP\n",
       "Name: Attribute, dtype: object"
      ]
     },
     "execution_count": 78,
     "metadata": {},
     "output_type": "execute_result"
    }
   ],
   "source": [
    "# categorical features (attention: these features are from attributes_info, some might not be in azdias)\n",
    "# recall: we dropped features in azdias that were not described in attributes_info, but there might also be\n",
    "# features described in attributes_info that are not found in azdias.\n",
    "\n",
    "\n",
    "categorical_features_attributes = attributes_info['Attribute'].loc[attributes_info['Type'] == 'categorical']\n",
    "\n",
    "categorical_features_attributes # 'attributes' to indicate they're from attributes_info"
   ]
  },
  {
   "cell_type": "code",
   "execution_count": 47,
   "metadata": {},
   "outputs": [
    {
     "name": "stdout",
     "output_type": "stream",
     "text": [
      "ANREDE_KZ, feature from attributes_info, is also a feature/column of azdias.\n",
      "CAMEO_DEUG_2015, feature from attributes_info, is also a feature/column of azdias.\n",
      "CAMEO_DEU_2015, feature from attributes_info, is also a feature/column of azdias.\n",
      "CJT_GESAMTTYP, feature from attributes_info, is also a feature/column of azdias.\n",
      "DSL_FLAG, feature from attributes_info, is also a feature/column of azdias.\n",
      "FINANZTYP, feature from attributes_info, is also a feature/column of azdias.\n",
      "GEBAEUDETYP, feature from attributes_info, is also a feature/column of azdias.\n",
      "GFK_URLAUBERTYP, feature from attributes_info, is also a feature/column of azdias.\n",
      "GREEN_AVANTGARDE, feature from attributes_info, is also a feature/column of azdias.\n",
      "HH_DELTA_FLAG, feature from attributes_info, is also a feature/column of azdias.\n",
      "KONSUMZELLE, feature from attributes_info, is also a feature/column of azdias.\n",
      "LP_FAMILIE_FEIN, feature from attributes_info, is also a feature/column of azdias.\n",
      "LP_FAMILIE_GROB, feature from attributes_info, is also a feature/column of azdias.\n",
      "LP_STATUS_FEIN, feature from attributes_info, is also a feature/column of azdias.\n",
      "LP_STATUS_GROB, feature from attributes_info, is also a feature/column of azdias.\n",
      "NATIONALITAET_KZ, feature from attributes_info, is also a feature/column of azdias.\n",
      "OST_WEST_KZ, feature from attributes_info, is also a feature/column of azdias.\n",
      "SHOPPER_TYP, feature from attributes_info, is also a feature/column of azdias.\n",
      "SOHO_KZ, feature from attributes_info, is also a feature/column of azdias.\n",
      "UNGLEICHENN_FLAG, feature from attributes_info, is also a feature/column of azdias.\n",
      "VERS_TYP, feature from attributes_info, is also a feature/column of azdias.\n",
      "ZABEOTYP, feature from attributes_info, is also a feature/column of azdias.\n",
      "There are 26 categorical features in attributes_info, and 22 categorical features in azdias.\n"
     ]
    }
   ],
   "source": [
    "cat_feat_azdias = [] # categorical features (in attributes_info) that are also in azdias\n",
    "\n",
    "for cat_feat in categorical_features_attributes:\n",
    "    \n",
    "    if cat_feat in azdias.columns:\n",
    "        \n",
    "        print(cat_feat + ', feature from attributes_info, is also a feature/column of azdias.')\n",
    "        \n",
    "        cat_feat_azdias.append(cat_feat)\n",
    "\n",
    "\n",
    "print('There are ' + str(len(categorical_features_attributes)) + ' categorical features in attributes_info, and ' \n",
    "      + str(len(cat_feat_azdias)) + ' categorical features in azdias.')"
   ]
  },
  {
   "cell_type": "code",
   "execution_count": 48,
   "metadata": {},
   "outputs": [
    {
     "data": {
      "text/plain": [
       "['ANREDE_KZ',\n",
       " 'CAMEO_DEUG_2015',\n",
       " 'CAMEO_DEU_2015',\n",
       " 'CJT_GESAMTTYP',\n",
       " 'DSL_FLAG',\n",
       " 'FINANZTYP',\n",
       " 'GEBAEUDETYP',\n",
       " 'GFK_URLAUBERTYP',\n",
       " 'GREEN_AVANTGARDE',\n",
       " 'HH_DELTA_FLAG',\n",
       " 'KONSUMZELLE',\n",
       " 'LP_FAMILIE_FEIN',\n",
       " 'LP_FAMILIE_GROB',\n",
       " 'LP_STATUS_FEIN',\n",
       " 'LP_STATUS_GROB',\n",
       " 'NATIONALITAET_KZ',\n",
       " 'OST_WEST_KZ',\n",
       " 'SHOPPER_TYP',\n",
       " 'SOHO_KZ',\n",
       " 'UNGLEICHENN_FLAG',\n",
       " 'VERS_TYP',\n",
       " 'ZABEOTYP']"
      ]
     },
     "execution_count": 48,
     "metadata": {},
     "output_type": "execute_result"
    }
   ],
   "source": [
    "# categorical features in azdias: we will encode these categorical features\n",
    "cat_feat_azdias"
   ]
  },
  {
   "cell_type": "markdown",
   "metadata": {},
   "source": [
    "**MIXED FEATURES EXPLORATION**"
   ]
  },
  {
   "cell_type": "code",
   "execution_count": 79,
   "metadata": {},
   "outputs": [
    {
     "data": {
      "text/plain": [
       "15           CAMEO_INTL_2015\n",
       "289      LP_LEBENSPHASE_FEIN\n",
       "290      LP_LEBENSPHASE_GROB\n",
       "307    PRAEGENDE_JUGENDJAHRE\n",
       "Name: Attribute, dtype: object"
      ]
     },
     "execution_count": 79,
     "metadata": {},
     "output_type": "execute_result"
    }
   ],
   "source": [
    "# mixed features (attention: these features are from attributes_info, some might not be in azdias)\n",
    "# recall: we dropped features in azdias that were not described in attributes_info, but there might also be\n",
    "# features described in attributes_info that are not found in azdias.\n",
    "\n",
    "\n",
    "mixed_features_attributes = attributes_info['Attribute'].loc[attributes_info['Type'] == 'mixed']\n",
    "\n",
    "mixed_features_attributes # 'attributes' to indicate they're from attributes_info"
   ]
  },
  {
   "cell_type": "code",
   "execution_count": 50,
   "metadata": {},
   "outputs": [
    {
     "name": "stdout",
     "output_type": "stream",
     "text": [
      "CAMEO_INTL_2015, feature from attributes_info, is also a feature/column of azdias.\n",
      "LP_LEBENSPHASE_FEIN, feature from attributes_info, is also a feature/column of azdias.\n",
      "LP_LEBENSPHASE_GROB, feature from attributes_info, is also a feature/column of azdias.\n",
      "PRAEGENDE_JUGENDJAHRE, feature from attributes_info, is also a feature/column of azdias.\n",
      "There are 4 mixed features in attributes_info, and 4 mixed features in azdias.\n"
     ]
    }
   ],
   "source": [
    "mixed_feat_azdias = [] # mixed features (in attributes_info) that are also in azdias\n",
    "\n",
    "for mixed_feat in mixed_features_attributes:\n",
    "    \n",
    "    if mixed_feat in azdias.columns:\n",
    "        \n",
    "        print(mixed_feat + ', feature from attributes_info, is also a feature/column of azdias.')\n",
    "        \n",
    "        mixed_feat_azdias.append(mixed_feat)\n",
    "\n",
    "\n",
    "print('There are ' + str(len(mixed_features_attributes)) + ' mixed features in attributes_info, and ' \n",
    "      + str(len(mixed_feat_azdias)) + ' mixed features in azdias.')"
   ]
  },
  {
   "cell_type": "markdown",
   "metadata": {},
   "source": [
    "To avoid confusion with the case of categorical features, we will work with mixed_feat_azdias, even though the number of mixed features in attributes_info and the number of mixed features in azdias are the same (equal to 4)."
   ]
  },
  {
   "cell_type": "code",
   "execution_count": 51,
   "metadata": {},
   "outputs": [
    {
     "data": {
      "text/plain": [
       "['CAMEO_INTL_2015',\n",
       " 'LP_LEBENSPHASE_FEIN',\n",
       " 'LP_LEBENSPHASE_GROB',\n",
       " 'PRAEGENDE_JUGENDJAHRE']"
      ]
     },
     "execution_count": 51,
     "metadata": {},
     "output_type": "execute_result"
    }
   ],
   "source": [
    "# mixed features in azdias: we will encode these mixed features\n",
    "mixed_feat_azdias"
   ]
  },
  {
   "cell_type": "markdown",
   "metadata": {},
   "source": [
    "**1. Categorical Features to Numerical Features**\n",
    "\n",
    "-> For binary categorical variables that take numeric values, no change is needed.\n",
    "\n",
    "-> For binary categorical variables that take on non-numeric values, we need to re-encode the values as numbers (numerical type).\n",
    "\n",
    "-> For multi-level categorical variables (>2 values), we need to one-hot encode the values."
   ]
  },
  {
   "cell_type": "code",
   "execution_count": 52,
   "metadata": {},
   "outputs": [],
   "source": [
    "binary_num_attributes = []\n",
    "binary_non_num_attributes = []\n",
    "multi_level_attributes = []\n",
    "\n",
    "for attribute in cat_feat_azdias:\n",
    "    dtype = azdias[attribute].dtype\n",
    "    count = len(azdias[attribute].value_counts())\n",
    "\n",
    "    # if multi-level categorical feature\n",
    "    if count > 2:\n",
    "        multi_level_attributes.append(attribute)\n",
    "    else:\n",
    "        if dtype == 'object':\n",
    "            binary_non_num_attributes.append(attribute)\n",
    "        else:\n",
    "            binary_num_attributes.append(attribute)"
   ]
  },
  {
   "cell_type": "code",
   "execution_count": 53,
   "metadata": {},
   "outputs": [
    {
     "data": {
      "text/plain": [
       "['ANREDE_KZ',\n",
       " 'DSL_FLAG',\n",
       " 'GREEN_AVANTGARDE',\n",
       " 'HH_DELTA_FLAG',\n",
       " 'KONSUMZELLE',\n",
       " 'SOHO_KZ',\n",
       " 'UNGLEICHENN_FLAG',\n",
       " 'VERS_TYP']"
      ]
     },
     "execution_count": 53,
     "metadata": {},
     "output_type": "execute_result"
    }
   ],
   "source": [
    "binary_num_attributes"
   ]
  },
  {
   "cell_type": "code",
   "execution_count": 54,
   "metadata": {},
   "outputs": [
    {
     "data": {
      "text/plain": [
       "['OST_WEST_KZ']"
      ]
     },
     "execution_count": 54,
     "metadata": {},
     "output_type": "execute_result"
    }
   ],
   "source": [
    "binary_non_num_attributes"
   ]
  },
  {
   "cell_type": "code",
   "execution_count": 55,
   "metadata": {},
   "outputs": [
    {
     "data": {
      "text/plain": [
       "['CAMEO_DEUG_2015',\n",
       " 'CAMEO_DEU_2015',\n",
       " 'CJT_GESAMTTYP',\n",
       " 'FINANZTYP',\n",
       " 'GEBAEUDETYP',\n",
       " 'GFK_URLAUBERTYP',\n",
       " 'LP_FAMILIE_FEIN',\n",
       " 'LP_FAMILIE_GROB',\n",
       " 'LP_STATUS_FEIN',\n",
       " 'LP_STATUS_GROB',\n",
       " 'NATIONALITAET_KZ',\n",
       " 'SHOPPER_TYP',\n",
       " 'ZABEOTYP']"
      ]
     },
     "execution_count": 55,
     "metadata": {},
     "output_type": "execute_result"
    }
   ],
   "source": [
    "multi_level_attributes"
   ]
  },
  {
   "cell_type": "markdown",
   "metadata": {},
   "source": [
    "Encoding binary string categorical attribute/feature: `OST_WEST_KZ`"
   ]
  },
  {
   "cell_type": "code",
   "execution_count": 56,
   "metadata": {},
   "outputs": [],
   "source": [
    "# Re-encode OST_WEST_KZ binary non-numerical feature as dummy variable\n",
    "# look at DIAS Attributes - Values 2017 (1) file to see what the original values are for OST_EST_KZ \n",
    "# it is: 'O' for East(GDR) and 'W' for West (FRG)\n",
    "\n",
    "azdias['OST_WEST_KZ'] = azdias['OST_WEST_KZ'].map({'W': 1, 'O': 2})"
   ]
  },
  {
   "cell_type": "markdown",
   "metadata": {},
   "source": [
    "Encoding multi-level categorical attributes/features: `multi_level_attributes`"
   ]
  },
  {
   "cell_type": "code",
   "execution_count": 57,
   "metadata": {},
   "outputs": [],
   "source": [
    "list_columns_to_add = []\n",
    "\n",
    "for column in multi_level_attributes:\n",
    "    \n",
    "    # get rid of multi-level categorical columns with more than 10 levels\n",
    "    if len(azdias[column].value_counts()) < 10:\n",
    "        list_columns_to_add.append(pd.get_dummies(azdias[column], prefix=column))\n",
    "        \n",
    "    \n",
    "# drop the original multi-level categorical features \n",
    "azdias.drop(multi_level_attributes, axis=1, inplace=True)\n",
    "\n",
    "list_columns_to_add.append(azdias) \n",
    "\n",
    "# add the re-encoded multi-level categorical features to azdias dataframe\n",
    "azdias = pd.concat(list_columns_to_add, axis=1)"
   ]
  },
  {
   "cell_type": "code",
   "execution_count": 58,
   "metadata": {},
   "outputs": [
    {
     "data": {
      "text/html": [
       "<div>\n",
       "<style scoped>\n",
       "    .dataframe tbody tr th:only-of-type {\n",
       "        vertical-align: middle;\n",
       "    }\n",
       "\n",
       "    .dataframe tbody tr th {\n",
       "        vertical-align: top;\n",
       "    }\n",
       "\n",
       "    .dataframe thead th {\n",
       "        text-align: right;\n",
       "    }\n",
       "</style>\n",
       "<table border=\"1\" class=\"dataframe\">\n",
       "  <thead>\n",
       "    <tr style=\"text-align: right;\">\n",
       "      <th></th>\n",
       "      <th>CJT_GESAMTTYP_1.0</th>\n",
       "      <th>CJT_GESAMTTYP_2.0</th>\n",
       "      <th>CJT_GESAMTTYP_3.0</th>\n",
       "      <th>CJT_GESAMTTYP_4.0</th>\n",
       "      <th>CJT_GESAMTTYP_5.0</th>\n",
       "      <th>CJT_GESAMTTYP_6.0</th>\n",
       "      <th>FINANZTYP_1.0</th>\n",
       "      <th>FINANZTYP_2.0</th>\n",
       "      <th>FINANZTYP_3.0</th>\n",
       "      <th>FINANZTYP_4.0</th>\n",
       "      <th>...</th>\n",
       "      <th>SEMIO_TRADV</th>\n",
       "      <th>SEMIO_VERT</th>\n",
       "      <th>SOHO_KZ</th>\n",
       "      <th>UNGLEICHENN_FLAG</th>\n",
       "      <th>VERS_TYP</th>\n",
       "      <th>W_KEIT_KIND_HH</th>\n",
       "      <th>WOHNDAUER_2008</th>\n",
       "      <th>WOHNLAGE</th>\n",
       "      <th>ANREDE_KZ</th>\n",
       "      <th>ALTERSKATEGORIE_GROB</th>\n",
       "    </tr>\n",
       "  </thead>\n",
       "  <tbody>\n",
       "    <tr>\n",
       "      <th>1</th>\n",
       "      <td>0</td>\n",
       "      <td>0</td>\n",
       "      <td>0</td>\n",
       "      <td>0</td>\n",
       "      <td>1</td>\n",
       "      <td>0</td>\n",
       "      <td>1</td>\n",
       "      <td>0</td>\n",
       "      <td>0</td>\n",
       "      <td>0</td>\n",
       "      <td>...</td>\n",
       "      <td>6.0</td>\n",
       "      <td>1.0</td>\n",
       "      <td>1.0</td>\n",
       "      <td>1.0</td>\n",
       "      <td>2.0</td>\n",
       "      <td>3.0</td>\n",
       "      <td>9.0</td>\n",
       "      <td>4.0</td>\n",
       "      <td>2.0</td>\n",
       "      <td>1.0</td>\n",
       "    </tr>\n",
       "    <tr>\n",
       "      <th>2</th>\n",
       "      <td>0</td>\n",
       "      <td>0</td>\n",
       "      <td>1</td>\n",
       "      <td>0</td>\n",
       "      <td>0</td>\n",
       "      <td>0</td>\n",
       "      <td>1</td>\n",
       "      <td>0</td>\n",
       "      <td>0</td>\n",
       "      <td>0</td>\n",
       "      <td>...</td>\n",
       "      <td>3.0</td>\n",
       "      <td>4.0</td>\n",
       "      <td>0.0</td>\n",
       "      <td>0.0</td>\n",
       "      <td>1.0</td>\n",
       "      <td>3.0</td>\n",
       "      <td>9.0</td>\n",
       "      <td>2.0</td>\n",
       "      <td>2.0</td>\n",
       "      <td>3.0</td>\n",
       "    </tr>\n",
       "    <tr>\n",
       "      <th>3</th>\n",
       "      <td>0</td>\n",
       "      <td>1</td>\n",
       "      <td>0</td>\n",
       "      <td>0</td>\n",
       "      <td>0</td>\n",
       "      <td>0</td>\n",
       "      <td>0</td>\n",
       "      <td>0</td>\n",
       "      <td>0</td>\n",
       "      <td>0</td>\n",
       "      <td>...</td>\n",
       "      <td>4.0</td>\n",
       "      <td>4.0</td>\n",
       "      <td>0.0</td>\n",
       "      <td>0.0</td>\n",
       "      <td>1.0</td>\n",
       "      <td>NaN</td>\n",
       "      <td>9.0</td>\n",
       "      <td>7.0</td>\n",
       "      <td>2.0</td>\n",
       "      <td>4.0</td>\n",
       "    </tr>\n",
       "    <tr>\n",
       "      <th>4</th>\n",
       "      <td>0</td>\n",
       "      <td>0</td>\n",
       "      <td>0</td>\n",
       "      <td>0</td>\n",
       "      <td>1</td>\n",
       "      <td>0</td>\n",
       "      <td>0</td>\n",
       "      <td>0</td>\n",
       "      <td>0</td>\n",
       "      <td>0</td>\n",
       "      <td>...</td>\n",
       "      <td>2.0</td>\n",
       "      <td>7.0</td>\n",
       "      <td>0.0</td>\n",
       "      <td>0.0</td>\n",
       "      <td>2.0</td>\n",
       "      <td>2.0</td>\n",
       "      <td>9.0</td>\n",
       "      <td>3.0</td>\n",
       "      <td>1.0</td>\n",
       "      <td>3.0</td>\n",
       "    </tr>\n",
       "    <tr>\n",
       "      <th>5</th>\n",
       "      <td>0</td>\n",
       "      <td>1</td>\n",
       "      <td>0</td>\n",
       "      <td>0</td>\n",
       "      <td>0</td>\n",
       "      <td>0</td>\n",
       "      <td>0</td>\n",
       "      <td>1</td>\n",
       "      <td>0</td>\n",
       "      <td>0</td>\n",
       "      <td>...</td>\n",
       "      <td>6.0</td>\n",
       "      <td>2.0</td>\n",
       "      <td>0.0</td>\n",
       "      <td>0.0</td>\n",
       "      <td>2.0</td>\n",
       "      <td>6.0</td>\n",
       "      <td>9.0</td>\n",
       "      <td>7.0</td>\n",
       "      <td>2.0</td>\n",
       "      <td>1.0</td>\n",
       "    </tr>\n",
       "  </tbody>\n",
       "</table>\n",
       "<p>5 rows × 290 columns</p>\n",
       "</div>"
      ],
      "text/plain": [
       "   CJT_GESAMTTYP_1.0  CJT_GESAMTTYP_2.0  CJT_GESAMTTYP_3.0  CJT_GESAMTTYP_4.0  \\\n",
       "1                  0                  0                  0                  0   \n",
       "2                  0                  0                  1                  0   \n",
       "3                  0                  1                  0                  0   \n",
       "4                  0                  0                  0                  0   \n",
       "5                  0                  1                  0                  0   \n",
       "\n",
       "   CJT_GESAMTTYP_5.0  CJT_GESAMTTYP_6.0  FINANZTYP_1.0  FINANZTYP_2.0  \\\n",
       "1                  1                  0              1              0   \n",
       "2                  0                  0              1              0   \n",
       "3                  0                  0              0              0   \n",
       "4                  1                  0              0              0   \n",
       "5                  0                  0              0              1   \n",
       "\n",
       "   FINANZTYP_3.0  FINANZTYP_4.0  ...  SEMIO_TRADV  SEMIO_VERT  SOHO_KZ  \\\n",
       "1              0              0  ...          6.0         1.0      1.0   \n",
       "2              0              0  ...          3.0         4.0      0.0   \n",
       "3              0              0  ...          4.0         4.0      0.0   \n",
       "4              0              0  ...          2.0         7.0      0.0   \n",
       "5              0              0  ...          6.0         2.0      0.0   \n",
       "\n",
       "   UNGLEICHENN_FLAG  VERS_TYP  W_KEIT_KIND_HH  WOHNDAUER_2008  WOHNLAGE  \\\n",
       "1               1.0       2.0             3.0             9.0       4.0   \n",
       "2               0.0       1.0             3.0             9.0       2.0   \n",
       "3               0.0       1.0             NaN             9.0       7.0   \n",
       "4               0.0       2.0             2.0             9.0       3.0   \n",
       "5               0.0       2.0             6.0             9.0       7.0   \n",
       "\n",
       "   ANREDE_KZ  ALTERSKATEGORIE_GROB  \n",
       "1        2.0                   1.0  \n",
       "2        2.0                   3.0  \n",
       "3        2.0                   4.0  \n",
       "4        1.0                   3.0  \n",
       "5        2.0                   1.0  \n",
       "\n",
       "[5 rows x 290 columns]"
      ]
     },
     "execution_count": 58,
     "metadata": {},
     "output_type": "execute_result"
    }
   ],
   "source": [
    "azdias.head()"
   ]
  },
  {
   "cell_type": "code",
   "execution_count": 59,
   "metadata": {},
   "outputs": [
    {
     "data": {
      "text/plain": [
       "(737288, 290)"
      ]
     },
     "execution_count": 59,
     "metadata": {},
     "output_type": "execute_result"
    }
   ],
   "source": [
    "azdias.shape"
   ]
  },
  {
   "cell_type": "markdown",
   "metadata": {},
   "source": [
    "**2. Mixed Features to Numerical Features**"
   ]
  },
  {
   "cell_type": "code",
   "execution_count": 60,
   "metadata": {},
   "outputs": [
    {
     "data": {
      "text/plain": [
       "['CAMEO_INTL_2015',\n",
       " 'LP_LEBENSPHASE_FEIN',\n",
       " 'LP_LEBENSPHASE_GROB',\n",
       " 'PRAEGENDE_JUGENDJAHRE']"
      ]
     },
     "execution_count": 60,
     "metadata": {},
     "output_type": "execute_result"
    }
   ],
   "source": [
    "# recall the mixed features of azdias\n",
    "mixed_feat_azdias"
   ]
  },
  {
   "cell_type": "markdown",
   "metadata": {},
   "source": [
    "a) Re-encoding `PRAEGENDE_JUGENDJAHRE` feature"
   ]
  },
  {
   "cell_type": "markdown",
   "metadata": {},
   "source": [
    "In DIAS Attributes - Values 2017 file, we see that this column/feature can take a range of value between -1 and 15 (with 0 and -1 being unknown values, thus converted to NaN). The feature PRAEGENDE_JUGENDJAHRE is indicating the 'dominating movement in the person's youth (avantgarde or mainstream)'.\n",
    "\n",
    "The xlsx file memtioned above shows us a dichotomy, with some values belonging to 'Avantgarde' and others belonging to 'Mainstream'.\n",
    "\n",
    "We can re-encode PRAEGENDE_JUGENDJAHRE, which will then take on either 0 or 1 as a value for each row of the dataset, with 0 refering to 'Mainstream' and 1 to ' Avantgarde'."
   ]
  },
  {
   "cell_type": "code",
   "execution_count": 106,
   "metadata": {},
   "outputs": [],
   "source": [
    "# pj = short for PRAEGENDE_JUGENDJAHRE\n",
    "\n",
    "def encode_pj(value): \n",
    "    \n",
    "    re_encoded_value = 0\n",
    "    \n",
    "    # re-encoding for Mainstream movement: 0\n",
    "    if value in [1, 3, 5, 8, 10, 12, 14]:\n",
    "        re_encoded_value = 0\n",
    "    \n",
    "    # re-encoding for Avantgarde movement: 1\n",
    "    elif value in [2, 4, 6, 7, 9, 11, 13, 15]:\n",
    "        re_encoded_value = 1\n",
    "        \n",
    "    return re_encoded_value"
   ]
  },
  {
   "cell_type": "code",
   "execution_count": 62,
   "metadata": {},
   "outputs": [],
   "source": [
    "azdias['PRAEGENDE_JUGENDJAHRE'] = azdias['PRAEGENDE_JUGENDJAHRE'].apply(lambda x: encode_pj(x))"
   ]
  },
  {
   "cell_type": "code",
   "execution_count": 63,
   "metadata": {},
   "outputs": [
    {
     "data": {
      "text/plain": [
       "1         0\n",
       "2         1\n",
       "3         0\n",
       "4         0\n",
       "5         0\n",
       "         ..\n",
       "891216    0\n",
       "891217    0\n",
       "891218    0\n",
       "891219    0\n",
       "891220    0\n",
       "Name: PRAEGENDE_JUGENDJAHRE, Length: 737288, dtype: int64"
      ]
     },
     "execution_count": 63,
     "metadata": {},
     "output_type": "execute_result"
    }
   ],
   "source": [
    "azdias['PRAEGENDE_JUGENDJAHRE']"
   ]
  },
  {
   "cell_type": "markdown",
   "metadata": {},
   "source": [
    "b) Dropping `LP_LEBENSPHASE_FEIN` and `LP_LEBENSPHASE_GROB` features"
   ]
  },
  {
   "cell_type": "markdown",
   "metadata": {},
   "source": [
    "The DIAS Attributes - Values 2017 file (file describing features, the range of values they can take on) shows us that these 2 features/columns take on numerous values, with `LP_LEBENSPHASE_FEIN` that can take any integer value between 1 and 40 (a lot). \n",
    "\n",
    "As these 2 features are quite complex (relative to the rest of features), and given the number of other features at hand, we make the decision to simply drop them."
   ]
  },
  {
   "cell_type": "code",
   "execution_count": 64,
   "metadata": {},
   "outputs": [
    {
     "data": {
      "text/plain": [
       "1         21.0\n",
       "2          3.0\n",
       "3          NaN\n",
       "4         32.0\n",
       "5          8.0\n",
       "          ... \n",
       "891216     2.0\n",
       "891217     2.0\n",
       "891218     NaN\n",
       "891219    29.0\n",
       "891220     6.0\n",
       "Name: LP_LEBENSPHASE_FEIN, Length: 737288, dtype: float64"
      ]
     },
     "execution_count": 64,
     "metadata": {},
     "output_type": "execute_result"
    }
   ],
   "source": [
    "# check out the 2 mentioned features\n",
    "azdias['LP_LEBENSPHASE_FEIN']"
   ]
  },
  {
   "cell_type": "code",
   "execution_count": 65,
   "metadata": {},
   "outputs": [
    {
     "data": {
      "text/plain": [
       "1          6.0\n",
       "2          1.0\n",
       "3          NaN\n",
       "4         10.0\n",
       "5          2.0\n",
       "          ... \n",
       "891216     1.0\n",
       "891217     1.0\n",
       "891218     NaN\n",
       "891219     9.0\n",
       "891220     2.0\n",
       "Name: LP_LEBENSPHASE_GROB, Length: 737288, dtype: float64"
      ]
     },
     "execution_count": 65,
     "metadata": {},
     "output_type": "execute_result"
    }
   ],
   "source": [
    "azdias['LP_LEBENSPHASE_GROB']"
   ]
  },
  {
   "cell_type": "code",
   "execution_count": 66,
   "metadata": {},
   "outputs": [],
   "source": [
    "# dropping the features, as decided above\n",
    "azdias.drop(['LP_LEBENSPHASE_FEIN', 'LP_LEBENSPHASE_GROB'], axis=1, inplace=True)"
   ]
  },
  {
   "cell_type": "markdown",
   "metadata": {},
   "source": [
    "c) Re-encoding `CAMEO_INTL_2015` feature"
   ]
  },
  {
   "cell_type": "code",
   "execution_count": 67,
   "metadata": {},
   "outputs": [
    {
     "data": {
      "text/plain": [
       "1    51\n",
       "2    24\n",
       "3    12\n",
       "4    43\n",
       "5    54\n",
       "Name: CAMEO_INTL_2015, dtype: object"
      ]
     },
     "execution_count": 67,
     "metadata": {},
     "output_type": "execute_result"
    }
   ],
   "source": [
    "azdias['CAMEO_INTL_2015'].head()"
   ]
  },
  {
   "cell_type": "markdown",
   "metadata": {},
   "source": [
    "The `CAMEO_INTL_2015` feature actually encodes 2 variables, one being the level of wealth ('wealthy', 'prosperous', 'comfortable', 'less affluent', 'poorer') and the other being status ('Pre-Family Couples & Singles', 'Young Couples With Children', 'Families With School Age Children', 'Older Families & Mature Couples', 'Elders In Retirement').\n",
    "\n",
    "These values are encoded as the following:\n",
    "\n",
    "--FOR STATUS--\n",
    "\n",
    "> if the unit digit is 1 => Pre-Family Couples & Singles\n",
    "\n",
    "> if the unit digit is 2 => Young Couples With Children\n",
    "\n",
    "> if the unit digit is 3 => Families With School Age Children\n",
    "\n",
    "> if the unit digit is 4 => Older Families & Mature Couples\n",
    "\n",
    "> if the unit digit is 5 => Elders In Retirement\n",
    "\n",
    "--FOR WEALTH LEVEL--\n",
    "\n",
    "> if the ten digit is 1 => wealthy\n",
    "\n",
    "> if the ten digit is 2 => prosperous\n",
    "\n",
    "> if the ten digit is 3 => comfortable \n",
    "\n",
    "> if the ten digit is 4 => less affluent\n",
    "\n",
    "> if the ten digit is 5 => poorer"
   ]
  },
  {
   "cell_type": "markdown",
   "metadata": {},
   "source": [
    "These patterns enable us to create 2 news features from the original CAMEO_INTL_2015, with the following code cell:"
   ]
  },
  {
   "cell_type": "code",
   "execution_count": 68,
   "metadata": {},
   "outputs": [],
   "source": [
    "azdias['WEALTH_LEVEL'] = azdias['CAMEO_INTL_2015'].apply(lambda x: np.floor(pd.to_numeric(x)/10))\n",
    "\n",
    "azdias['STATUS'] = azdias['CAMEO_INTL_2015'].apply(lambda x: pd.to_numeric(x)%10)"
   ]
  },
  {
   "cell_type": "markdown",
   "metadata": {},
   "source": [
    "Don't forget to drop CAMEO_INTL_2015, that will no longer be used."
   ]
  },
  {
   "cell_type": "code",
   "execution_count": 69,
   "metadata": {},
   "outputs": [],
   "source": [
    "# drop CAMEO_INTL_2015\n",
    "azdias.drop('CAMEO_INTL_2015', axis=1, inplace=True)"
   ]
  },
  {
   "cell_type": "markdown",
   "metadata": {},
   "source": [
    "Let's review `azdias` again:"
   ]
  },
  {
   "cell_type": "code",
   "execution_count": 70,
   "metadata": {},
   "outputs": [
    {
     "data": {
      "text/html": [
       "<div>\n",
       "<style scoped>\n",
       "    .dataframe tbody tr th:only-of-type {\n",
       "        vertical-align: middle;\n",
       "    }\n",
       "\n",
       "    .dataframe tbody tr th {\n",
       "        vertical-align: top;\n",
       "    }\n",
       "\n",
       "    .dataframe thead th {\n",
       "        text-align: right;\n",
       "    }\n",
       "</style>\n",
       "<table border=\"1\" class=\"dataframe\">\n",
       "  <thead>\n",
       "    <tr style=\"text-align: right;\">\n",
       "      <th></th>\n",
       "      <th>CJT_GESAMTTYP_1.0</th>\n",
       "      <th>CJT_GESAMTTYP_2.0</th>\n",
       "      <th>CJT_GESAMTTYP_3.0</th>\n",
       "      <th>CJT_GESAMTTYP_4.0</th>\n",
       "      <th>CJT_GESAMTTYP_5.0</th>\n",
       "      <th>CJT_GESAMTTYP_6.0</th>\n",
       "      <th>FINANZTYP_1.0</th>\n",
       "      <th>FINANZTYP_2.0</th>\n",
       "      <th>FINANZTYP_3.0</th>\n",
       "      <th>FINANZTYP_4.0</th>\n",
       "      <th>...</th>\n",
       "      <th>SOHO_KZ</th>\n",
       "      <th>UNGLEICHENN_FLAG</th>\n",
       "      <th>VERS_TYP</th>\n",
       "      <th>W_KEIT_KIND_HH</th>\n",
       "      <th>WOHNDAUER_2008</th>\n",
       "      <th>WOHNLAGE</th>\n",
       "      <th>ANREDE_KZ</th>\n",
       "      <th>ALTERSKATEGORIE_GROB</th>\n",
       "      <th>WEALTH_LEVEL</th>\n",
       "      <th>STATUS</th>\n",
       "    </tr>\n",
       "  </thead>\n",
       "  <tbody>\n",
       "    <tr>\n",
       "      <th>1</th>\n",
       "      <td>0</td>\n",
       "      <td>0</td>\n",
       "      <td>0</td>\n",
       "      <td>0</td>\n",
       "      <td>1</td>\n",
       "      <td>0</td>\n",
       "      <td>1</td>\n",
       "      <td>0</td>\n",
       "      <td>0</td>\n",
       "      <td>0</td>\n",
       "      <td>...</td>\n",
       "      <td>1.0</td>\n",
       "      <td>1.0</td>\n",
       "      <td>2.0</td>\n",
       "      <td>3.0</td>\n",
       "      <td>9.0</td>\n",
       "      <td>4.0</td>\n",
       "      <td>2.0</td>\n",
       "      <td>1.0</td>\n",
       "      <td>5.0</td>\n",
       "      <td>1.0</td>\n",
       "    </tr>\n",
       "    <tr>\n",
       "      <th>2</th>\n",
       "      <td>0</td>\n",
       "      <td>0</td>\n",
       "      <td>1</td>\n",
       "      <td>0</td>\n",
       "      <td>0</td>\n",
       "      <td>0</td>\n",
       "      <td>1</td>\n",
       "      <td>0</td>\n",
       "      <td>0</td>\n",
       "      <td>0</td>\n",
       "      <td>...</td>\n",
       "      <td>0.0</td>\n",
       "      <td>0.0</td>\n",
       "      <td>1.0</td>\n",
       "      <td>3.0</td>\n",
       "      <td>9.0</td>\n",
       "      <td>2.0</td>\n",
       "      <td>2.0</td>\n",
       "      <td>3.0</td>\n",
       "      <td>2.0</td>\n",
       "      <td>4.0</td>\n",
       "    </tr>\n",
       "    <tr>\n",
       "      <th>3</th>\n",
       "      <td>0</td>\n",
       "      <td>1</td>\n",
       "      <td>0</td>\n",
       "      <td>0</td>\n",
       "      <td>0</td>\n",
       "      <td>0</td>\n",
       "      <td>0</td>\n",
       "      <td>0</td>\n",
       "      <td>0</td>\n",
       "      <td>0</td>\n",
       "      <td>...</td>\n",
       "      <td>0.0</td>\n",
       "      <td>0.0</td>\n",
       "      <td>1.0</td>\n",
       "      <td>NaN</td>\n",
       "      <td>9.0</td>\n",
       "      <td>7.0</td>\n",
       "      <td>2.0</td>\n",
       "      <td>4.0</td>\n",
       "      <td>1.0</td>\n",
       "      <td>2.0</td>\n",
       "    </tr>\n",
       "    <tr>\n",
       "      <th>4</th>\n",
       "      <td>0</td>\n",
       "      <td>0</td>\n",
       "      <td>0</td>\n",
       "      <td>0</td>\n",
       "      <td>1</td>\n",
       "      <td>0</td>\n",
       "      <td>0</td>\n",
       "      <td>0</td>\n",
       "      <td>0</td>\n",
       "      <td>0</td>\n",
       "      <td>...</td>\n",
       "      <td>0.0</td>\n",
       "      <td>0.0</td>\n",
       "      <td>2.0</td>\n",
       "      <td>2.0</td>\n",
       "      <td>9.0</td>\n",
       "      <td>3.0</td>\n",
       "      <td>1.0</td>\n",
       "      <td>3.0</td>\n",
       "      <td>4.0</td>\n",
       "      <td>3.0</td>\n",
       "    </tr>\n",
       "    <tr>\n",
       "      <th>5</th>\n",
       "      <td>0</td>\n",
       "      <td>1</td>\n",
       "      <td>0</td>\n",
       "      <td>0</td>\n",
       "      <td>0</td>\n",
       "      <td>0</td>\n",
       "      <td>0</td>\n",
       "      <td>1</td>\n",
       "      <td>0</td>\n",
       "      <td>0</td>\n",
       "      <td>...</td>\n",
       "      <td>0.0</td>\n",
       "      <td>0.0</td>\n",
       "      <td>2.0</td>\n",
       "      <td>6.0</td>\n",
       "      <td>9.0</td>\n",
       "      <td>7.0</td>\n",
       "      <td>2.0</td>\n",
       "      <td>1.0</td>\n",
       "      <td>5.0</td>\n",
       "      <td>4.0</td>\n",
       "    </tr>\n",
       "  </tbody>\n",
       "</table>\n",
       "<p>5 rows × 289 columns</p>\n",
       "</div>"
      ],
      "text/plain": [
       "   CJT_GESAMTTYP_1.0  CJT_GESAMTTYP_2.0  CJT_GESAMTTYP_3.0  CJT_GESAMTTYP_4.0  \\\n",
       "1                  0                  0                  0                  0   \n",
       "2                  0                  0                  1                  0   \n",
       "3                  0                  1                  0                  0   \n",
       "4                  0                  0                  0                  0   \n",
       "5                  0                  1                  0                  0   \n",
       "\n",
       "   CJT_GESAMTTYP_5.0  CJT_GESAMTTYP_6.0  FINANZTYP_1.0  FINANZTYP_2.0  \\\n",
       "1                  1                  0              1              0   \n",
       "2                  0                  0              1              0   \n",
       "3                  0                  0              0              0   \n",
       "4                  1                  0              0              0   \n",
       "5                  0                  0              0              1   \n",
       "\n",
       "   FINANZTYP_3.0  FINANZTYP_4.0  ...  SOHO_KZ  UNGLEICHENN_FLAG  VERS_TYP  \\\n",
       "1              0              0  ...      1.0               1.0       2.0   \n",
       "2              0              0  ...      0.0               0.0       1.0   \n",
       "3              0              0  ...      0.0               0.0       1.0   \n",
       "4              0              0  ...      0.0               0.0       2.0   \n",
       "5              0              0  ...      0.0               0.0       2.0   \n",
       "\n",
       "   W_KEIT_KIND_HH  WOHNDAUER_2008  WOHNLAGE  ANREDE_KZ  ALTERSKATEGORIE_GROB  \\\n",
       "1             3.0             9.0       4.0        2.0                   1.0   \n",
       "2             3.0             9.0       2.0        2.0                   3.0   \n",
       "3             NaN             9.0       7.0        2.0                   4.0   \n",
       "4             2.0             9.0       3.0        1.0                   3.0   \n",
       "5             6.0             9.0       7.0        2.0                   1.0   \n",
       "\n",
       "   WEALTH_LEVEL  STATUS  \n",
       "1           5.0     1.0  \n",
       "2           2.0     4.0  \n",
       "3           1.0     2.0  \n",
       "4           4.0     3.0  \n",
       "5           5.0     4.0  \n",
       "\n",
       "[5 rows x 289 columns]"
      ]
     },
     "execution_count": 70,
     "metadata": {},
     "output_type": "execute_result"
    }
   ],
   "source": [
    "azdias.head()"
   ]
  },
  {
   "cell_type": "code",
   "execution_count": 71,
   "metadata": {},
   "outputs": [
    {
     "data": {
      "text/plain": [
       "(737288, 289)"
      ]
     },
     "execution_count": 71,
     "metadata": {},
     "output_type": "execute_result"
    }
   ],
   "source": [
    "azdias.shape"
   ]
  },
  {
   "cell_type": "markdown",
   "metadata": {},
   "source": [
    "All-in-one Preprocessing Cleaning Function"
   ]
  },
  {
   "cell_type": "code",
   "execution_count": 72,
   "metadata": {},
   "outputs": [],
   "source": [
    "def cleaning_function(df, attributes_info, not_described_features, columns_to_drop, nan_threshold=0.2):\n",
    "    \"\"\"\n",
    "    Cleans and Preprocess a DataFrame df:\n",
    "    - Drop features that are not described (described features summarised in attributes_info)\n",
    "    - Convert missing and unknown values to NaN\n",
    "    - Drop columns (so, features) with high percentage of NaN values (relative to nan_threshold)\n",
    "    - Drop rows with high percentage of NaN values (relative to nan_threshold)\n",
    "    - Re-encode categorical features and mixed features\n",
    "\n",
    "    INPUT:\n",
    "    - df (DataFrame): the DataFrame to be cleaned and preprocessed\n",
    "    - attributes_info (DataFrame): the DataFrame containing the features information/description (Attribute, Type, Unknown_Values)\n",
    "    - not_described_features (list): list of features to be dropped because they are not described (not in attributes_info)\n",
    "    - columns_to_drop (list): list of columns/features to be dropped because of a high percentage of NaN values (computed in prior steps)\n",
    "    \n",
    "    OUTPUT:\n",
    "    - df (DataFrame): cleaned and preprocessed DataFrame\n",
    "    \"\"\"\n",
    "    \n",
    "    # drop features that are not described \n",
    "    df.drop(labels=not_described_features, axis=1, inplace=True)\n",
    "    \n",
    "    for column in df.columns:\n",
    "        if df[column].dtype == np.int64:\n",
    "            df[column] = df[column].astype(np.float64)\n",
    "            \n",
    "    unknown_series = pd.Series(attributes_info['Unknown_Values'].values, index=attributes_info['Attribute'])\n",
    "    # convert missing and unknown values to NaN values\n",
    "    for column in df.columns:\n",
    "            isin = ast.literal_eval(unknown_series[column])\n",
    "            df[column] = df[column].mask(df[column].isin(isin), other=np.nan)\n",
    "        \n",
    "    # drop columns with percentage of NaN values higher than threshold (nan_threshold)   \n",
    "    df.drop(labels=columns_to_drop, axis=1, inplace=True)\n",
    "    \n",
    "    # drop rows with percentage of NaN values higher than threshold (nan_threshold)   \n",
    "    missing_perct_row = df.isnull().mean(axis=1)\n",
    "    df = df[missing_perct_row < nan_threshold]\n",
    "    \n",
    "    # categorical features of df\n",
    "    cat_feat_df = [] # categorical features (in attributes_info) that are also in df\n",
    "    for cat_feat in categorical_features_attributes:\n",
    "        if cat_feat in df.columns:\n",
    "            cat_feat_df.append(cat_feat)\n",
    "    \n",
    "    # mixed features of df\n",
    "    mixed_feat_df = [] # mixed features (in attributes_info) that are also in df\n",
    "    for mixed_feat in mixed_features_attributes:\n",
    "        if mixed_feat in df.columns:\n",
    "            mixed_feat_df.append(mixed_feat)\n",
    "\n",
    "            \n",
    "    ### df categorical features re-encoding ###\n",
    "    binary_num_attributes = []\n",
    "    binary_non_num_attributes = []\n",
    "    multi_level_attributes = []\n",
    "\n",
    "    for attribute in cat_feat_df:\n",
    "        dtype = df[attribute].dtype\n",
    "        count = len(df[attribute].value_counts())\n",
    "\n",
    "        # if multi-level categorical feature\n",
    "        if count > 2:\n",
    "            multi_level_attributes.append(attribute)\n",
    "        else:\n",
    "            if dtype == 'object':\n",
    "                binary_non_num_attributes.append(attribute)\n",
    "            else:\n",
    "                binary_num_attributes.append(attribute)\n",
    "    \n",
    "    # re-encode binary string (non-numerical) feature into numerical values         \n",
    "    df['OST_WEST_KZ'] = df['OST_WEST_KZ'].map({'W': 1, 'O': 2})\n",
    "    \n",
    "    # re-encode multi-level categorical features\n",
    "    list_columns_to_add = []\n",
    "\n",
    "    for column in multi_level_attributes:\n",
    "        \n",
    "        # get rid of multi-level categorical columns with more than 10 levels\n",
    "        if len(df[column].value_counts()) < 10:\n",
    "            list_columns_to_add.append(pd.get_dummies(df[column], prefix=column))\n",
    "        \n",
    "    \n",
    "    df.drop(multi_level_attributes, axis=1, inplace=True)\n",
    "\n",
    "    list_columns_to_add.append(df) \n",
    "\n",
    "    df = pd.concat(list_columns_to_add, axis=1)\n",
    "    \n",
    "    \n",
    "    ### df mixed features re-encoding ###\n",
    "    \n",
    "    # Re-encoding PRAEGENDE_JUGENDJAHRE feature\n",
    "    df['PRAEGENDE_JUGENDJAHRE'] = df['PRAEGENDE_JUGENDJAHRE'].apply(lambda x: encode_pj(x))\n",
    "    \n",
    "    # Dropping LP_LEBENSPHASE_FEIN and LP_LEBENSPHASE_GROB features\n",
    "    df.drop(['LP_LEBENSPHASE_FEIN', 'LP_LEBENSPHASE_GROB'], axis=1, inplace=True)\n",
    "    \n",
    "    # Re-encoding CAMEO_INTL_2015 feature\n",
    "    df['WEALTH_LEVEL'] = df['CAMEO_INTL_2015'].apply(lambda x: np.floor(pd.to_numeric(x)/10))\n",
    "    df['STATUS'] = df['CAMEO_INTL_2015'].apply(lambda x: pd.to_numeric(x)%10)\n",
    "    df.drop('CAMEO_INTL_2015', axis=1, inplace=True)\n",
    "    \n",
    "\n",
    "    \n",
    "    return df"
   ]
  },
  {
   "cell_type": "markdown",
   "metadata": {},
   "source": [
    "### Preprocessing the CUSTOMERS Dataset with the cleaning function defined above"
   ]
  },
  {
   "cell_type": "code",
   "execution_count": 73,
   "metadata": {},
   "outputs": [],
   "source": [
    "# customers = pd.read_csv('../../data/Term2/capstone/arvato_data/Udacity_CUSTOMERS_052018.csv', sep=';')"
   ]
  },
  {
   "cell_type": "markdown",
   "metadata": {},
   "source": [
    "First, let's review the uncleaned original `customers`:"
   ]
  },
  {
   "cell_type": "code",
   "execution_count": 74,
   "metadata": {},
   "outputs": [
    {
     "data": {
      "text/html": [
       "<div>\n",
       "<style scoped>\n",
       "    .dataframe tbody tr th:only-of-type {\n",
       "        vertical-align: middle;\n",
       "    }\n",
       "\n",
       "    .dataframe tbody tr th {\n",
       "        vertical-align: top;\n",
       "    }\n",
       "\n",
       "    .dataframe thead th {\n",
       "        text-align: right;\n",
       "    }\n",
       "</style>\n",
       "<table border=\"1\" class=\"dataframe\">\n",
       "  <thead>\n",
       "    <tr style=\"text-align: right;\">\n",
       "      <th></th>\n",
       "      <th>LNR</th>\n",
       "      <th>AGER_TYP</th>\n",
       "      <th>AKT_DAT_KL</th>\n",
       "      <th>ALTER_HH</th>\n",
       "      <th>ALTER_KIND1</th>\n",
       "      <th>ALTER_KIND2</th>\n",
       "      <th>ALTER_KIND3</th>\n",
       "      <th>ALTER_KIND4</th>\n",
       "      <th>ALTERSKATEGORIE_FEIN</th>\n",
       "      <th>ANZ_HAUSHALTE_AKTIV</th>\n",
       "      <th>...</th>\n",
       "      <th>VK_ZG11</th>\n",
       "      <th>W_KEIT_KIND_HH</th>\n",
       "      <th>WOHNDAUER_2008</th>\n",
       "      <th>WOHNLAGE</th>\n",
       "      <th>ZABEOTYP</th>\n",
       "      <th>PRODUCT_GROUP</th>\n",
       "      <th>CUSTOMER_GROUP</th>\n",
       "      <th>ONLINE_PURCHASE</th>\n",
       "      <th>ANREDE_KZ</th>\n",
       "      <th>ALTERSKATEGORIE_GROB</th>\n",
       "    </tr>\n",
       "  </thead>\n",
       "  <tbody>\n",
       "    <tr>\n",
       "      <th>0</th>\n",
       "      <td>9626</td>\n",
       "      <td>2</td>\n",
       "      <td>1.0</td>\n",
       "      <td>10.0</td>\n",
       "      <td>NaN</td>\n",
       "      <td>NaN</td>\n",
       "      <td>NaN</td>\n",
       "      <td>NaN</td>\n",
       "      <td>10.0</td>\n",
       "      <td>1.0</td>\n",
       "      <td>...</td>\n",
       "      <td>2.0</td>\n",
       "      <td>6.0</td>\n",
       "      <td>9.0</td>\n",
       "      <td>7.0</td>\n",
       "      <td>3</td>\n",
       "      <td>COSMETIC_AND_FOOD</td>\n",
       "      <td>MULTI_BUYER</td>\n",
       "      <td>0</td>\n",
       "      <td>1</td>\n",
       "      <td>4</td>\n",
       "    </tr>\n",
       "    <tr>\n",
       "      <th>1</th>\n",
       "      <td>9628</td>\n",
       "      <td>-1</td>\n",
       "      <td>9.0</td>\n",
       "      <td>11.0</td>\n",
       "      <td>NaN</td>\n",
       "      <td>NaN</td>\n",
       "      <td>NaN</td>\n",
       "      <td>NaN</td>\n",
       "      <td>NaN</td>\n",
       "      <td>NaN</td>\n",
       "      <td>...</td>\n",
       "      <td>3.0</td>\n",
       "      <td>0.0</td>\n",
       "      <td>9.0</td>\n",
       "      <td>NaN</td>\n",
       "      <td>3</td>\n",
       "      <td>FOOD</td>\n",
       "      <td>SINGLE_BUYER</td>\n",
       "      <td>0</td>\n",
       "      <td>1</td>\n",
       "      <td>4</td>\n",
       "    </tr>\n",
       "    <tr>\n",
       "      <th>2</th>\n",
       "      <td>143872</td>\n",
       "      <td>-1</td>\n",
       "      <td>1.0</td>\n",
       "      <td>6.0</td>\n",
       "      <td>NaN</td>\n",
       "      <td>NaN</td>\n",
       "      <td>NaN</td>\n",
       "      <td>NaN</td>\n",
       "      <td>0.0</td>\n",
       "      <td>1.0</td>\n",
       "      <td>...</td>\n",
       "      <td>11.0</td>\n",
       "      <td>6.0</td>\n",
       "      <td>9.0</td>\n",
       "      <td>2.0</td>\n",
       "      <td>3</td>\n",
       "      <td>COSMETIC_AND_FOOD</td>\n",
       "      <td>MULTI_BUYER</td>\n",
       "      <td>0</td>\n",
       "      <td>2</td>\n",
       "      <td>4</td>\n",
       "    </tr>\n",
       "    <tr>\n",
       "      <th>3</th>\n",
       "      <td>143873</td>\n",
       "      <td>1</td>\n",
       "      <td>1.0</td>\n",
       "      <td>8.0</td>\n",
       "      <td>NaN</td>\n",
       "      <td>NaN</td>\n",
       "      <td>NaN</td>\n",
       "      <td>NaN</td>\n",
       "      <td>8.0</td>\n",
       "      <td>0.0</td>\n",
       "      <td>...</td>\n",
       "      <td>2.0</td>\n",
       "      <td>NaN</td>\n",
       "      <td>9.0</td>\n",
       "      <td>7.0</td>\n",
       "      <td>1</td>\n",
       "      <td>COSMETIC</td>\n",
       "      <td>MULTI_BUYER</td>\n",
       "      <td>0</td>\n",
       "      <td>1</td>\n",
       "      <td>4</td>\n",
       "    </tr>\n",
       "    <tr>\n",
       "      <th>4</th>\n",
       "      <td>143874</td>\n",
       "      <td>-1</td>\n",
       "      <td>1.0</td>\n",
       "      <td>20.0</td>\n",
       "      <td>NaN</td>\n",
       "      <td>NaN</td>\n",
       "      <td>NaN</td>\n",
       "      <td>NaN</td>\n",
       "      <td>14.0</td>\n",
       "      <td>7.0</td>\n",
       "      <td>...</td>\n",
       "      <td>4.0</td>\n",
       "      <td>2.0</td>\n",
       "      <td>9.0</td>\n",
       "      <td>3.0</td>\n",
       "      <td>1</td>\n",
       "      <td>FOOD</td>\n",
       "      <td>MULTI_BUYER</td>\n",
       "      <td>0</td>\n",
       "      <td>1</td>\n",
       "      <td>3</td>\n",
       "    </tr>\n",
       "  </tbody>\n",
       "</table>\n",
       "<p>5 rows × 369 columns</p>\n",
       "</div>"
      ],
      "text/plain": [
       "      LNR  AGER_TYP  AKT_DAT_KL  ALTER_HH  ALTER_KIND1  ALTER_KIND2  \\\n",
       "0    9626         2         1.0      10.0          NaN          NaN   \n",
       "1    9628        -1         9.0      11.0          NaN          NaN   \n",
       "2  143872        -1         1.0       6.0          NaN          NaN   \n",
       "3  143873         1         1.0       8.0          NaN          NaN   \n",
       "4  143874        -1         1.0      20.0          NaN          NaN   \n",
       "\n",
       "   ALTER_KIND3  ALTER_KIND4  ALTERSKATEGORIE_FEIN  ANZ_HAUSHALTE_AKTIV  ...  \\\n",
       "0          NaN          NaN                  10.0                  1.0  ...   \n",
       "1          NaN          NaN                   NaN                  NaN  ...   \n",
       "2          NaN          NaN                   0.0                  1.0  ...   \n",
       "3          NaN          NaN                   8.0                  0.0  ...   \n",
       "4          NaN          NaN                  14.0                  7.0  ...   \n",
       "\n",
       "   VK_ZG11  W_KEIT_KIND_HH  WOHNDAUER_2008  WOHNLAGE  ZABEOTYP  \\\n",
       "0      2.0             6.0             9.0       7.0         3   \n",
       "1      3.0             0.0             9.0       NaN         3   \n",
       "2     11.0             6.0             9.0       2.0         3   \n",
       "3      2.0             NaN             9.0       7.0         1   \n",
       "4      4.0             2.0             9.0       3.0         1   \n",
       "\n",
       "       PRODUCT_GROUP  CUSTOMER_GROUP ONLINE_PURCHASE ANREDE_KZ  \\\n",
       "0  COSMETIC_AND_FOOD     MULTI_BUYER               0         1   \n",
       "1               FOOD    SINGLE_BUYER               0         1   \n",
       "2  COSMETIC_AND_FOOD     MULTI_BUYER               0         2   \n",
       "3           COSMETIC     MULTI_BUYER               0         1   \n",
       "4               FOOD     MULTI_BUYER               0         1   \n",
       "\n",
       "  ALTERSKATEGORIE_GROB  \n",
       "0                    4  \n",
       "1                    4  \n",
       "2                    4  \n",
       "3                    4  \n",
       "4                    3  \n",
       "\n",
       "[5 rows x 369 columns]"
      ]
     },
     "execution_count": 74,
     "metadata": {},
     "output_type": "execute_result"
    }
   ],
   "source": [
    "customers.head()"
   ]
  },
  {
   "cell_type": "code",
   "execution_count": 75,
   "metadata": {},
   "outputs": [
    {
     "data": {
      "text/plain": [
       "(191652, 369)"
      ]
     },
     "execution_count": 75,
     "metadata": {},
     "output_type": "execute_result"
    }
   ],
   "source": [
    "customers.shape"
   ]
  },
  {
   "cell_type": "code",
   "execution_count": 76,
   "metadata": {},
   "outputs": [
    {
     "data": {
      "text/plain": [
       "369"
      ]
     },
     "execution_count": 76,
     "metadata": {},
     "output_type": "execute_result"
    }
   ],
   "source": [
    "len(customers.columns)"
   ]
  },
  {
   "cell_type": "markdown",
   "metadata": {},
   "source": [
    "Cleaning and Preprocessing `customers`:"
   ]
  },
  {
   "cell_type": "markdown",
   "metadata": {},
   "source": [
    "First, recall that `customers` contains 3 additional features, relative to the original `azdias`.\n",
    "\n",
    "We need to drop `CUSTOMER_GROUP`, `PRODUCT_TYPE` and `ONLINE_PURCHASE` before cleaning `customers`."
   ]
  },
  {
   "cell_type": "code",
   "execution_count": 77,
   "metadata": {},
   "outputs": [],
   "source": [
    "customers.drop(['CUSTOMER_GROUP', 'PRODUCT_GROUP', 'ONLINE_PURCHASE'], axis=1, inplace=True)"
   ]
  },
  {
   "cell_type": "markdown",
   "metadata": {},
   "source": [
    "Now, let's do the cleaning of `customers`."
   ]
  },
  {
   "cell_type": "code",
   "execution_count": 78,
   "metadata": {},
   "outputs": [],
   "source": [
    "# attributes_info = pd.read_csv('./attributes.csv', sep=';') "
   ]
  },
  {
   "cell_type": "code",
   "execution_count": 79,
   "metadata": {},
   "outputs": [],
   "source": [
    "# features_in_attributes_info = attributes_info['Attribute'].tolist()"
   ]
  },
  {
   "cell_type": "code",
   "execution_count": 80,
   "metadata": {},
   "outputs": [],
   "source": [
    "# from 1)\n",
    "\n",
    "not_described_features = azdias_columns_not_described"
   ]
  },
  {
   "cell_type": "code",
   "execution_count": 81,
   "metadata": {},
   "outputs": [],
   "source": [
    "# from 3.a) \n",
    "\n",
    "#columns_to_drop = ['AGER_TYP', 'ALTER_HH', 'ALTERSKATEGORIE_FEIN', 'D19_BANKEN_ANZ_12',\n",
    "   #    'D19_BANKEN_ANZ_24', 'D19_BANKEN_DATUM', 'D19_BANKEN_DIREKT',\n",
    "   #    'D19_BANKEN_GROSS', 'D19_BANKEN_LOKAL', 'D19_BANKEN_OFFLINE_DATUM',\n",
    "   #    'D19_BANKEN_ONLINE_DATUM', 'D19_BANKEN_ONLINE_QUOTE_12',\n",
    "   #    'D19_BANKEN_REST', 'D19_BEKLEIDUNG_GEH', 'D19_BEKLEIDUNG_REST',\n",
    "   #    'D19_BILDUNG', 'D19_BIO_OEKO', 'D19_BUCH_CD', 'D19_DIGIT_SERV',\n",
    "   #    'D19_DROGERIEARTIKEL', 'D19_ENERGIE', 'D19_FREIZEIT', 'D19_GARTEN',\n",
    "   #    'D19_GESAMT_ANZ_12', 'D19_GESAMT_ANZ_24', 'D19_GESAMT_DATUM',\n",
    "   #    'D19_GESAMT_OFFLINE_DATUM', 'D19_GESAMT_ONLINE_DATUM',\n",
    "   #    'D19_GESAMT_ONLINE_QUOTE_12', 'D19_HANDWERK', 'D19_HAUS_DEKO',\n",
    "   #    'D19_KINDERARTIKEL', 'D19_KONSUMTYP', 'D19_KOSMETIK',\n",
    "   #    'D19_LEBENSMITTEL', 'D19_LOTTO', 'D19_NAHRUNGSERGAENZUNG',\n",
    "   #    'D19_RATGEBER', 'D19_REISEN', 'D19_SAMMELARTIKEL', 'D19_SCHUHE',\n",
    "   #    'D19_SONSTIGE', 'D19_SOZIALES', 'D19_TECHNIK', 'D19_TELKO_ANZ_12',\n",
    "   #    'D19_TELKO_ANZ_24', 'D19_TELKO_DATUM', 'D19_TELKO_MOBILE',\n",
    "   #    'D19_TELKO_OFFLINE_DATUM', 'D19_TELKO_ONLINE_DATUM',\n",
    "   #    'D19_TELKO_ONLINE_QUOTE_12', 'D19_TELKO_REST', 'D19_TIERARTIKEL',\n",
    "   #    'D19_VERSAND_ANZ_12', 'D19_VERSAND_ANZ_24', 'D19_VERSAND_DATUM',\n",
    "   #    'D19_VERSAND_OFFLINE_DATUM', 'D19_VERSAND_ONLINE_DATUM',\n",
    "   #    'D19_VERSAND_ONLINE_QUOTE_12', 'D19_VERSAND_REST', 'D19_VERSI_ANZ_12',\n",
    "   #    'D19_VERSI_ANZ_24', 'D19_VERSI_DATUM', 'D19_VERSI_OFFLINE_DATUM',\n",
    "   #    'D19_VERSI_ONLINE_DATUM', 'D19_VERSI_ONLINE_QUOTE_12',\n",
    "   #    'D19_VERSICHERUNGEN', 'D19_VOLLSORTIMENT', 'D19_WEIN_FEINKOST',\n",
    "   #    'GEBURTSJAHR', 'KBA05_BAUMAX', 'KK_KUNDENTYP', 'TITEL_KZ']"
   ]
  },
  {
   "cell_type": "code",
   "execution_count": 82,
   "metadata": {},
   "outputs": [
    {
     "name": "stderr",
     "output_type": "stream",
     "text": [
      "/Users/dilay/opt/anaconda3/lib/python3.7/site-packages/ipykernel_launcher.py:72: SettingWithCopyWarning: \n",
      "A value is trying to be set on a copy of a slice from a DataFrame.\n",
      "Try using .loc[row_indexer,col_indexer] = value instead\n",
      "\n",
      "See the caveats in the documentation: https://pandas.pydata.org/pandas-docs/stable/user_guide/indexing.html#returning-a-view-versus-a-copy\n",
      "/Users/dilay/opt/anaconda3/lib/python3.7/site-packages/pandas/core/frame.py:3997: SettingWithCopyWarning: \n",
      "A value is trying to be set on a copy of a slice from a DataFrame\n",
      "\n",
      "See the caveats in the documentation: https://pandas.pydata.org/pandas-docs/stable/user_guide/indexing.html#returning-a-view-versus-a-copy\n",
      "  errors=errors,\n"
     ]
    }
   ],
   "source": [
    "customers = cleaning_function(customers, attributes_info, not_described_features, columns_to_drop)"
   ]
  },
  {
   "cell_type": "code",
   "execution_count": 83,
   "metadata": {},
   "outputs": [
    {
     "data": {
      "text/plain": [
       "Index([], dtype='object')"
      ]
     },
     "execution_count": 83,
     "metadata": {},
     "output_type": "execute_result"
    }
   ],
   "source": [
    "# see if there are columns that are in the cleaned customers dataframe\n",
    "# but not the cleaned azdias dataframe (these 3 are expected)\n",
    "customers.columns[~customers.columns.isin(azdias.columns)]"
   ]
  },
  {
   "cell_type": "markdown",
   "metadata": {},
   "source": [
    "Now, let's look at the cleaned `customers`:"
   ]
  },
  {
   "cell_type": "code",
   "execution_count": 84,
   "metadata": {},
   "outputs": [
    {
     "data": {
      "text/html": [
       "<div>\n",
       "<style scoped>\n",
       "    .dataframe tbody tr th:only-of-type {\n",
       "        vertical-align: middle;\n",
       "    }\n",
       "\n",
       "    .dataframe tbody tr th {\n",
       "        vertical-align: top;\n",
       "    }\n",
       "\n",
       "    .dataframe thead th {\n",
       "        text-align: right;\n",
       "    }\n",
       "</style>\n",
       "<table border=\"1\" class=\"dataframe\">\n",
       "  <thead>\n",
       "    <tr style=\"text-align: right;\">\n",
       "      <th></th>\n",
       "      <th>CJT_GESAMTTYP_1.0</th>\n",
       "      <th>CJT_GESAMTTYP_2.0</th>\n",
       "      <th>CJT_GESAMTTYP_3.0</th>\n",
       "      <th>CJT_GESAMTTYP_4.0</th>\n",
       "      <th>CJT_GESAMTTYP_5.0</th>\n",
       "      <th>CJT_GESAMTTYP_6.0</th>\n",
       "      <th>FINANZTYP_1.0</th>\n",
       "      <th>FINANZTYP_2.0</th>\n",
       "      <th>FINANZTYP_3.0</th>\n",
       "      <th>FINANZTYP_4.0</th>\n",
       "      <th>...</th>\n",
       "      <th>SOHO_KZ</th>\n",
       "      <th>UNGLEICHENN_FLAG</th>\n",
       "      <th>VERS_TYP</th>\n",
       "      <th>W_KEIT_KIND_HH</th>\n",
       "      <th>WOHNDAUER_2008</th>\n",
       "      <th>WOHNLAGE</th>\n",
       "      <th>ANREDE_KZ</th>\n",
       "      <th>ALTERSKATEGORIE_GROB</th>\n",
       "      <th>WEALTH_LEVEL</th>\n",
       "      <th>STATUS</th>\n",
       "    </tr>\n",
       "  </thead>\n",
       "  <tbody>\n",
       "    <tr>\n",
       "      <th>0</th>\n",
       "      <td>0</td>\n",
       "      <td>0</td>\n",
       "      <td>0</td>\n",
       "      <td>0</td>\n",
       "      <td>1</td>\n",
       "      <td>0</td>\n",
       "      <td>0</td>\n",
       "      <td>1</td>\n",
       "      <td>0</td>\n",
       "      <td>0</td>\n",
       "      <td>...</td>\n",
       "      <td>0.0</td>\n",
       "      <td>0.0</td>\n",
       "      <td>1.0</td>\n",
       "      <td>6.0</td>\n",
       "      <td>9.0</td>\n",
       "      <td>7.0</td>\n",
       "      <td>1.0</td>\n",
       "      <td>4.0</td>\n",
       "      <td>1.0</td>\n",
       "      <td>3.0</td>\n",
       "    </tr>\n",
       "    <tr>\n",
       "      <th>2</th>\n",
       "      <td>0</td>\n",
       "      <td>1</td>\n",
       "      <td>0</td>\n",
       "      <td>0</td>\n",
       "      <td>0</td>\n",
       "      <td>0</td>\n",
       "      <td>0</td>\n",
       "      <td>1</td>\n",
       "      <td>0</td>\n",
       "      <td>0</td>\n",
       "      <td>...</td>\n",
       "      <td>0.0</td>\n",
       "      <td>0.0</td>\n",
       "      <td>2.0</td>\n",
       "      <td>6.0</td>\n",
       "      <td>9.0</td>\n",
       "      <td>2.0</td>\n",
       "      <td>2.0</td>\n",
       "      <td>4.0</td>\n",
       "      <td>3.0</td>\n",
       "      <td>4.0</td>\n",
       "    </tr>\n",
       "    <tr>\n",
       "      <th>3</th>\n",
       "      <td>0</td>\n",
       "      <td>1</td>\n",
       "      <td>0</td>\n",
       "      <td>0</td>\n",
       "      <td>0</td>\n",
       "      <td>0</td>\n",
       "      <td>0</td>\n",
       "      <td>0</td>\n",
       "      <td>0</td>\n",
       "      <td>0</td>\n",
       "      <td>...</td>\n",
       "      <td>0.0</td>\n",
       "      <td>0.0</td>\n",
       "      <td>1.0</td>\n",
       "      <td>NaN</td>\n",
       "      <td>9.0</td>\n",
       "      <td>7.0</td>\n",
       "      <td>1.0</td>\n",
       "      <td>4.0</td>\n",
       "      <td>2.0</td>\n",
       "      <td>4.0</td>\n",
       "    </tr>\n",
       "    <tr>\n",
       "      <th>4</th>\n",
       "      <td>0</td>\n",
       "      <td>0</td>\n",
       "      <td>0</td>\n",
       "      <td>0</td>\n",
       "      <td>0</td>\n",
       "      <td>1</td>\n",
       "      <td>0</td>\n",
       "      <td>1</td>\n",
       "      <td>0</td>\n",
       "      <td>0</td>\n",
       "      <td>...</td>\n",
       "      <td>0.0</td>\n",
       "      <td>0.0</td>\n",
       "      <td>2.0</td>\n",
       "      <td>2.0</td>\n",
       "      <td>9.0</td>\n",
       "      <td>3.0</td>\n",
       "      <td>1.0</td>\n",
       "      <td>3.0</td>\n",
       "      <td>4.0</td>\n",
       "      <td>1.0</td>\n",
       "    </tr>\n",
       "    <tr>\n",
       "      <th>5</th>\n",
       "      <td>0</td>\n",
       "      <td>0</td>\n",
       "      <td>0</td>\n",
       "      <td>1</td>\n",
       "      <td>0</td>\n",
       "      <td>0</td>\n",
       "      <td>0</td>\n",
       "      <td>0</td>\n",
       "      <td>0</td>\n",
       "      <td>0</td>\n",
       "      <td>...</td>\n",
       "      <td>0.0</td>\n",
       "      <td>0.0</td>\n",
       "      <td>2.0</td>\n",
       "      <td>6.0</td>\n",
       "      <td>9.0</td>\n",
       "      <td>1.0</td>\n",
       "      <td>1.0</td>\n",
       "      <td>3.0</td>\n",
       "      <td>3.0</td>\n",
       "      <td>4.0</td>\n",
       "    </tr>\n",
       "  </tbody>\n",
       "</table>\n",
       "<p>5 rows × 288 columns</p>\n",
       "</div>"
      ],
      "text/plain": [
       "   CJT_GESAMTTYP_1.0  CJT_GESAMTTYP_2.0  CJT_GESAMTTYP_3.0  CJT_GESAMTTYP_4.0  \\\n",
       "0                  0                  0                  0                  0   \n",
       "2                  0                  1                  0                  0   \n",
       "3                  0                  1                  0                  0   \n",
       "4                  0                  0                  0                  0   \n",
       "5                  0                  0                  0                  1   \n",
       "\n",
       "   CJT_GESAMTTYP_5.0  CJT_GESAMTTYP_6.0  FINANZTYP_1.0  FINANZTYP_2.0  \\\n",
       "0                  1                  0              0              1   \n",
       "2                  0                  0              0              1   \n",
       "3                  0                  0              0              0   \n",
       "4                  0                  1              0              1   \n",
       "5                  0                  0              0              0   \n",
       "\n",
       "   FINANZTYP_3.0  FINANZTYP_4.0  ...  SOHO_KZ  UNGLEICHENN_FLAG  VERS_TYP  \\\n",
       "0              0              0  ...      0.0               0.0       1.0   \n",
       "2              0              0  ...      0.0               0.0       2.0   \n",
       "3              0              0  ...      0.0               0.0       1.0   \n",
       "4              0              0  ...      0.0               0.0       2.0   \n",
       "5              0              0  ...      0.0               0.0       2.0   \n",
       "\n",
       "   W_KEIT_KIND_HH  WOHNDAUER_2008  WOHNLAGE  ANREDE_KZ  ALTERSKATEGORIE_GROB  \\\n",
       "0             6.0             9.0       7.0        1.0                   4.0   \n",
       "2             6.0             9.0       2.0        2.0                   4.0   \n",
       "3             NaN             9.0       7.0        1.0                   4.0   \n",
       "4             2.0             9.0       3.0        1.0                   3.0   \n",
       "5             6.0             9.0       1.0        1.0                   3.0   \n",
       "\n",
       "   WEALTH_LEVEL  STATUS  \n",
       "0           1.0     3.0  \n",
       "2           3.0     4.0  \n",
       "3           2.0     4.0  \n",
       "4           4.0     1.0  \n",
       "5           3.0     4.0  \n",
       "\n",
       "[5 rows x 288 columns]"
      ]
     },
     "execution_count": 84,
     "metadata": {},
     "output_type": "execute_result"
    }
   ],
   "source": [
    "customers.head()"
   ]
  },
  {
   "cell_type": "code",
   "execution_count": 85,
   "metadata": {},
   "outputs": [
    {
     "data": {
      "text/plain": [
       "(134246, 288)"
      ]
     },
     "execution_count": 85,
     "metadata": {},
     "output_type": "execute_result"
    }
   ],
   "source": [
    "customers.shape"
   ]
  },
  {
   "cell_type": "code",
   "execution_count": 86,
   "metadata": {},
   "outputs": [],
   "source": [
    "# azdias.to_pickle('azdias_before_impute.pkl')\n",
    "\n",
    "# customers.to_pickle('customers_before_impute.pkl')"
   ]
  },
  {
   "cell_type": "markdown",
   "metadata": {},
   "source": [
    "## Impute Remaining NaN Values"
   ]
  },
  {
   "cell_type": "code",
   "execution_count": 87,
   "metadata": {},
   "outputs": [],
   "source": [
    "# azdias = pd.read_pickle('azdias_before_impute.pkl')"
   ]
  },
  {
   "cell_type": "code",
   "execution_count": 88,
   "metadata": {},
   "outputs": [],
   "source": [
    "# customers = pd.read_pickle('customers_before_impute.pkl')"
   ]
  },
  {
   "cell_type": "markdown",
   "metadata": {},
   "source": [
    "Review `azdias` and `customers`"
   ]
  },
  {
   "cell_type": "code",
   "execution_count": 89,
   "metadata": {},
   "outputs": [
    {
     "data": {
      "text/html": [
       "<div>\n",
       "<style scoped>\n",
       "    .dataframe tbody tr th:only-of-type {\n",
       "        vertical-align: middle;\n",
       "    }\n",
       "\n",
       "    .dataframe tbody tr th {\n",
       "        vertical-align: top;\n",
       "    }\n",
       "\n",
       "    .dataframe thead th {\n",
       "        text-align: right;\n",
       "    }\n",
       "</style>\n",
       "<table border=\"1\" class=\"dataframe\">\n",
       "  <thead>\n",
       "    <tr style=\"text-align: right;\">\n",
       "      <th></th>\n",
       "      <th>CJT_GESAMTTYP_1.0</th>\n",
       "      <th>CJT_GESAMTTYP_2.0</th>\n",
       "      <th>CJT_GESAMTTYP_3.0</th>\n",
       "      <th>CJT_GESAMTTYP_4.0</th>\n",
       "      <th>CJT_GESAMTTYP_5.0</th>\n",
       "      <th>CJT_GESAMTTYP_6.0</th>\n",
       "      <th>FINANZTYP_1.0</th>\n",
       "      <th>FINANZTYP_2.0</th>\n",
       "      <th>FINANZTYP_3.0</th>\n",
       "      <th>FINANZTYP_4.0</th>\n",
       "      <th>...</th>\n",
       "      <th>SOHO_KZ</th>\n",
       "      <th>UNGLEICHENN_FLAG</th>\n",
       "      <th>VERS_TYP</th>\n",
       "      <th>W_KEIT_KIND_HH</th>\n",
       "      <th>WOHNDAUER_2008</th>\n",
       "      <th>WOHNLAGE</th>\n",
       "      <th>ANREDE_KZ</th>\n",
       "      <th>ALTERSKATEGORIE_GROB</th>\n",
       "      <th>WEALTH_LEVEL</th>\n",
       "      <th>STATUS</th>\n",
       "    </tr>\n",
       "  </thead>\n",
       "  <tbody>\n",
       "    <tr>\n",
       "      <th>1</th>\n",
       "      <td>0</td>\n",
       "      <td>0</td>\n",
       "      <td>0</td>\n",
       "      <td>0</td>\n",
       "      <td>1</td>\n",
       "      <td>0</td>\n",
       "      <td>1</td>\n",
       "      <td>0</td>\n",
       "      <td>0</td>\n",
       "      <td>0</td>\n",
       "      <td>...</td>\n",
       "      <td>1.0</td>\n",
       "      <td>1.0</td>\n",
       "      <td>2.0</td>\n",
       "      <td>3.0</td>\n",
       "      <td>9.0</td>\n",
       "      <td>4.0</td>\n",
       "      <td>2.0</td>\n",
       "      <td>1.0</td>\n",
       "      <td>5.0</td>\n",
       "      <td>1.0</td>\n",
       "    </tr>\n",
       "    <tr>\n",
       "      <th>2</th>\n",
       "      <td>0</td>\n",
       "      <td>0</td>\n",
       "      <td>1</td>\n",
       "      <td>0</td>\n",
       "      <td>0</td>\n",
       "      <td>0</td>\n",
       "      <td>1</td>\n",
       "      <td>0</td>\n",
       "      <td>0</td>\n",
       "      <td>0</td>\n",
       "      <td>...</td>\n",
       "      <td>0.0</td>\n",
       "      <td>0.0</td>\n",
       "      <td>1.0</td>\n",
       "      <td>3.0</td>\n",
       "      <td>9.0</td>\n",
       "      <td>2.0</td>\n",
       "      <td>2.0</td>\n",
       "      <td>3.0</td>\n",
       "      <td>2.0</td>\n",
       "      <td>4.0</td>\n",
       "    </tr>\n",
       "    <tr>\n",
       "      <th>3</th>\n",
       "      <td>0</td>\n",
       "      <td>1</td>\n",
       "      <td>0</td>\n",
       "      <td>0</td>\n",
       "      <td>0</td>\n",
       "      <td>0</td>\n",
       "      <td>0</td>\n",
       "      <td>0</td>\n",
       "      <td>0</td>\n",
       "      <td>0</td>\n",
       "      <td>...</td>\n",
       "      <td>0.0</td>\n",
       "      <td>0.0</td>\n",
       "      <td>1.0</td>\n",
       "      <td>NaN</td>\n",
       "      <td>9.0</td>\n",
       "      <td>7.0</td>\n",
       "      <td>2.0</td>\n",
       "      <td>4.0</td>\n",
       "      <td>1.0</td>\n",
       "      <td>2.0</td>\n",
       "    </tr>\n",
       "    <tr>\n",
       "      <th>4</th>\n",
       "      <td>0</td>\n",
       "      <td>0</td>\n",
       "      <td>0</td>\n",
       "      <td>0</td>\n",
       "      <td>1</td>\n",
       "      <td>0</td>\n",
       "      <td>0</td>\n",
       "      <td>0</td>\n",
       "      <td>0</td>\n",
       "      <td>0</td>\n",
       "      <td>...</td>\n",
       "      <td>0.0</td>\n",
       "      <td>0.0</td>\n",
       "      <td>2.0</td>\n",
       "      <td>2.0</td>\n",
       "      <td>9.0</td>\n",
       "      <td>3.0</td>\n",
       "      <td>1.0</td>\n",
       "      <td>3.0</td>\n",
       "      <td>4.0</td>\n",
       "      <td>3.0</td>\n",
       "    </tr>\n",
       "    <tr>\n",
       "      <th>5</th>\n",
       "      <td>0</td>\n",
       "      <td>1</td>\n",
       "      <td>0</td>\n",
       "      <td>0</td>\n",
       "      <td>0</td>\n",
       "      <td>0</td>\n",
       "      <td>0</td>\n",
       "      <td>1</td>\n",
       "      <td>0</td>\n",
       "      <td>0</td>\n",
       "      <td>...</td>\n",
       "      <td>0.0</td>\n",
       "      <td>0.0</td>\n",
       "      <td>2.0</td>\n",
       "      <td>6.0</td>\n",
       "      <td>9.0</td>\n",
       "      <td>7.0</td>\n",
       "      <td>2.0</td>\n",
       "      <td>1.0</td>\n",
       "      <td>5.0</td>\n",
       "      <td>4.0</td>\n",
       "    </tr>\n",
       "  </tbody>\n",
       "</table>\n",
       "<p>5 rows × 289 columns</p>\n",
       "</div>"
      ],
      "text/plain": [
       "   CJT_GESAMTTYP_1.0  CJT_GESAMTTYP_2.0  CJT_GESAMTTYP_3.0  CJT_GESAMTTYP_4.0  \\\n",
       "1                  0                  0                  0                  0   \n",
       "2                  0                  0                  1                  0   \n",
       "3                  0                  1                  0                  0   \n",
       "4                  0                  0                  0                  0   \n",
       "5                  0                  1                  0                  0   \n",
       "\n",
       "   CJT_GESAMTTYP_5.0  CJT_GESAMTTYP_6.0  FINANZTYP_1.0  FINANZTYP_2.0  \\\n",
       "1                  1                  0              1              0   \n",
       "2                  0                  0              1              0   \n",
       "3                  0                  0              0              0   \n",
       "4                  1                  0              0              0   \n",
       "5                  0                  0              0              1   \n",
       "\n",
       "   FINANZTYP_3.0  FINANZTYP_4.0  ...  SOHO_KZ  UNGLEICHENN_FLAG  VERS_TYP  \\\n",
       "1              0              0  ...      1.0               1.0       2.0   \n",
       "2              0              0  ...      0.0               0.0       1.0   \n",
       "3              0              0  ...      0.0               0.0       1.0   \n",
       "4              0              0  ...      0.0               0.0       2.0   \n",
       "5              0              0  ...      0.0               0.0       2.0   \n",
       "\n",
       "   W_KEIT_KIND_HH  WOHNDAUER_2008  WOHNLAGE  ANREDE_KZ  ALTERSKATEGORIE_GROB  \\\n",
       "1             3.0             9.0       4.0        2.0                   1.0   \n",
       "2             3.0             9.0       2.0        2.0                   3.0   \n",
       "3             NaN             9.0       7.0        2.0                   4.0   \n",
       "4             2.0             9.0       3.0        1.0                   3.0   \n",
       "5             6.0             9.0       7.0        2.0                   1.0   \n",
       "\n",
       "   WEALTH_LEVEL  STATUS  \n",
       "1           5.0     1.0  \n",
       "2           2.0     4.0  \n",
       "3           1.0     2.0  \n",
       "4           4.0     3.0  \n",
       "5           5.0     4.0  \n",
       "\n",
       "[5 rows x 289 columns]"
      ]
     },
     "execution_count": 89,
     "metadata": {},
     "output_type": "execute_result"
    }
   ],
   "source": [
    "azdias.head()"
   ]
  },
  {
   "cell_type": "code",
   "execution_count": 90,
   "metadata": {},
   "outputs": [
    {
     "data": {
      "text/plain": [
       "(737288, 289)"
      ]
     },
     "execution_count": 90,
     "metadata": {},
     "output_type": "execute_result"
    }
   ],
   "source": [
    "azdias.shape"
   ]
  },
  {
   "cell_type": "code",
   "execution_count": 91,
   "metadata": {},
   "outputs": [
    {
     "data": {
      "text/html": [
       "<div>\n",
       "<style scoped>\n",
       "    .dataframe tbody tr th:only-of-type {\n",
       "        vertical-align: middle;\n",
       "    }\n",
       "\n",
       "    .dataframe tbody tr th {\n",
       "        vertical-align: top;\n",
       "    }\n",
       "\n",
       "    .dataframe thead th {\n",
       "        text-align: right;\n",
       "    }\n",
       "</style>\n",
       "<table border=\"1\" class=\"dataframe\">\n",
       "  <thead>\n",
       "    <tr style=\"text-align: right;\">\n",
       "      <th></th>\n",
       "      <th>CJT_GESAMTTYP_1.0</th>\n",
       "      <th>CJT_GESAMTTYP_2.0</th>\n",
       "      <th>CJT_GESAMTTYP_3.0</th>\n",
       "      <th>CJT_GESAMTTYP_4.0</th>\n",
       "      <th>CJT_GESAMTTYP_5.0</th>\n",
       "      <th>CJT_GESAMTTYP_6.0</th>\n",
       "      <th>FINANZTYP_1.0</th>\n",
       "      <th>FINANZTYP_2.0</th>\n",
       "      <th>FINANZTYP_3.0</th>\n",
       "      <th>FINANZTYP_4.0</th>\n",
       "      <th>...</th>\n",
       "      <th>SOHO_KZ</th>\n",
       "      <th>UNGLEICHENN_FLAG</th>\n",
       "      <th>VERS_TYP</th>\n",
       "      <th>W_KEIT_KIND_HH</th>\n",
       "      <th>WOHNDAUER_2008</th>\n",
       "      <th>WOHNLAGE</th>\n",
       "      <th>ANREDE_KZ</th>\n",
       "      <th>ALTERSKATEGORIE_GROB</th>\n",
       "      <th>WEALTH_LEVEL</th>\n",
       "      <th>STATUS</th>\n",
       "    </tr>\n",
       "  </thead>\n",
       "  <tbody>\n",
       "    <tr>\n",
       "      <th>0</th>\n",
       "      <td>0</td>\n",
       "      <td>0</td>\n",
       "      <td>0</td>\n",
       "      <td>0</td>\n",
       "      <td>1</td>\n",
       "      <td>0</td>\n",
       "      <td>0</td>\n",
       "      <td>1</td>\n",
       "      <td>0</td>\n",
       "      <td>0</td>\n",
       "      <td>...</td>\n",
       "      <td>0.0</td>\n",
       "      <td>0.0</td>\n",
       "      <td>1.0</td>\n",
       "      <td>6.0</td>\n",
       "      <td>9.0</td>\n",
       "      <td>7.0</td>\n",
       "      <td>1.0</td>\n",
       "      <td>4.0</td>\n",
       "      <td>1.0</td>\n",
       "      <td>3.0</td>\n",
       "    </tr>\n",
       "    <tr>\n",
       "      <th>2</th>\n",
       "      <td>0</td>\n",
       "      <td>1</td>\n",
       "      <td>0</td>\n",
       "      <td>0</td>\n",
       "      <td>0</td>\n",
       "      <td>0</td>\n",
       "      <td>0</td>\n",
       "      <td>1</td>\n",
       "      <td>0</td>\n",
       "      <td>0</td>\n",
       "      <td>...</td>\n",
       "      <td>0.0</td>\n",
       "      <td>0.0</td>\n",
       "      <td>2.0</td>\n",
       "      <td>6.0</td>\n",
       "      <td>9.0</td>\n",
       "      <td>2.0</td>\n",
       "      <td>2.0</td>\n",
       "      <td>4.0</td>\n",
       "      <td>3.0</td>\n",
       "      <td>4.0</td>\n",
       "    </tr>\n",
       "    <tr>\n",
       "      <th>3</th>\n",
       "      <td>0</td>\n",
       "      <td>1</td>\n",
       "      <td>0</td>\n",
       "      <td>0</td>\n",
       "      <td>0</td>\n",
       "      <td>0</td>\n",
       "      <td>0</td>\n",
       "      <td>0</td>\n",
       "      <td>0</td>\n",
       "      <td>0</td>\n",
       "      <td>...</td>\n",
       "      <td>0.0</td>\n",
       "      <td>0.0</td>\n",
       "      <td>1.0</td>\n",
       "      <td>NaN</td>\n",
       "      <td>9.0</td>\n",
       "      <td>7.0</td>\n",
       "      <td>1.0</td>\n",
       "      <td>4.0</td>\n",
       "      <td>2.0</td>\n",
       "      <td>4.0</td>\n",
       "    </tr>\n",
       "    <tr>\n",
       "      <th>4</th>\n",
       "      <td>0</td>\n",
       "      <td>0</td>\n",
       "      <td>0</td>\n",
       "      <td>0</td>\n",
       "      <td>0</td>\n",
       "      <td>1</td>\n",
       "      <td>0</td>\n",
       "      <td>1</td>\n",
       "      <td>0</td>\n",
       "      <td>0</td>\n",
       "      <td>...</td>\n",
       "      <td>0.0</td>\n",
       "      <td>0.0</td>\n",
       "      <td>2.0</td>\n",
       "      <td>2.0</td>\n",
       "      <td>9.0</td>\n",
       "      <td>3.0</td>\n",
       "      <td>1.0</td>\n",
       "      <td>3.0</td>\n",
       "      <td>4.0</td>\n",
       "      <td>1.0</td>\n",
       "    </tr>\n",
       "    <tr>\n",
       "      <th>5</th>\n",
       "      <td>0</td>\n",
       "      <td>0</td>\n",
       "      <td>0</td>\n",
       "      <td>1</td>\n",
       "      <td>0</td>\n",
       "      <td>0</td>\n",
       "      <td>0</td>\n",
       "      <td>0</td>\n",
       "      <td>0</td>\n",
       "      <td>0</td>\n",
       "      <td>...</td>\n",
       "      <td>0.0</td>\n",
       "      <td>0.0</td>\n",
       "      <td>2.0</td>\n",
       "      <td>6.0</td>\n",
       "      <td>9.0</td>\n",
       "      <td>1.0</td>\n",
       "      <td>1.0</td>\n",
       "      <td>3.0</td>\n",
       "      <td>3.0</td>\n",
       "      <td>4.0</td>\n",
       "    </tr>\n",
       "  </tbody>\n",
       "</table>\n",
       "<p>5 rows × 288 columns</p>\n",
       "</div>"
      ],
      "text/plain": [
       "   CJT_GESAMTTYP_1.0  CJT_GESAMTTYP_2.0  CJT_GESAMTTYP_3.0  CJT_GESAMTTYP_4.0  \\\n",
       "0                  0                  0                  0                  0   \n",
       "2                  0                  1                  0                  0   \n",
       "3                  0                  1                  0                  0   \n",
       "4                  0                  0                  0                  0   \n",
       "5                  0                  0                  0                  1   \n",
       "\n",
       "   CJT_GESAMTTYP_5.0  CJT_GESAMTTYP_6.0  FINANZTYP_1.0  FINANZTYP_2.0  \\\n",
       "0                  1                  0              0              1   \n",
       "2                  0                  0              0              1   \n",
       "3                  0                  0              0              0   \n",
       "4                  0                  1              0              1   \n",
       "5                  0                  0              0              0   \n",
       "\n",
       "   FINANZTYP_3.0  FINANZTYP_4.0  ...  SOHO_KZ  UNGLEICHENN_FLAG  VERS_TYP  \\\n",
       "0              0              0  ...      0.0               0.0       1.0   \n",
       "2              0              0  ...      0.0               0.0       2.0   \n",
       "3              0              0  ...      0.0               0.0       1.0   \n",
       "4              0              0  ...      0.0               0.0       2.0   \n",
       "5              0              0  ...      0.0               0.0       2.0   \n",
       "\n",
       "   W_KEIT_KIND_HH  WOHNDAUER_2008  WOHNLAGE  ANREDE_KZ  ALTERSKATEGORIE_GROB  \\\n",
       "0             6.0             9.0       7.0        1.0                   4.0   \n",
       "2             6.0             9.0       2.0        2.0                   4.0   \n",
       "3             NaN             9.0       7.0        1.0                   4.0   \n",
       "4             2.0             9.0       3.0        1.0                   3.0   \n",
       "5             6.0             9.0       1.0        1.0                   3.0   \n",
       "\n",
       "   WEALTH_LEVEL  STATUS  \n",
       "0           1.0     3.0  \n",
       "2           3.0     4.0  \n",
       "3           2.0     4.0  \n",
       "4           4.0     1.0  \n",
       "5           3.0     4.0  \n",
       "\n",
       "[5 rows x 288 columns]"
      ]
     },
     "execution_count": 91,
     "metadata": {},
     "output_type": "execute_result"
    }
   ],
   "source": [
    "customers.head()"
   ]
  },
  {
   "cell_type": "code",
   "execution_count": 92,
   "metadata": {},
   "outputs": [
    {
     "data": {
      "text/plain": [
       "(134246, 288)"
      ]
     },
     "execution_count": 92,
     "metadata": {},
     "output_type": "execute_result"
    }
   ],
   "source": [
    "customers.shape"
   ]
  },
  {
   "cell_type": "markdown",
   "metadata": {},
   "source": [
    "Imputing the NaN Values with the median method"
   ]
  },
  {
   "cell_type": "code",
   "execution_count": 93,
   "metadata": {},
   "outputs": [],
   "source": [
    "imputer = SimpleImputer(missing_values=np.nan, strategy='median') "
   ]
  },
  {
   "cell_type": "code",
   "execution_count": 100,
   "metadata": {},
   "outputs": [],
   "source": [
    "azdias_imputed = pd.DataFrame(imputer.fit_transform(azdias))  "
   ]
  },
  {
   "cell_type": "code",
   "execution_count": 101,
   "metadata": {},
   "outputs": [
    {
     "data": {
      "text/plain": [
       "(737288, 289)"
      ]
     },
     "execution_count": 101,
     "metadata": {},
     "output_type": "execute_result"
    }
   ],
   "source": [
    "azdias_imputed.shape"
   ]
  },
  {
   "cell_type": "code",
   "execution_count": 102,
   "metadata": {},
   "outputs": [],
   "source": [
    "customers_imputed = pd.DataFrame(imputer.fit_transform(customers))"
   ]
  },
  {
   "cell_type": "code",
   "execution_count": 103,
   "metadata": {},
   "outputs": [
    {
     "data": {
      "text/plain": [
       "(134246, 288)"
      ]
     },
     "execution_count": 103,
     "metadata": {},
     "output_type": "execute_result"
    }
   ],
   "source": [
    "customers_imputed.shape"
   ]
  },
  {
   "cell_type": "code",
   "execution_count": 104,
   "metadata": {},
   "outputs": [
    {
     "data": {
      "text/plain": [
       "[]"
      ]
     },
     "execution_count": 104,
     "metadata": {},
     "output_type": "execute_result"
    }
   ],
   "source": [
    "list(set(customers_imputed)-set(azdias_imputed))"
   ]
  },
  {
   "cell_type": "markdown",
   "metadata": {},
   "source": [
    "## Feature Scaling"
   ]
  },
  {
   "cell_type": "markdown",
   "metadata": {},
   "source": [
    "We will now scale the remaining features: this step is critical prior to applying PCA, as principal component vectors would otherwise be influenced by the differences in scale of our data features."
   ]
  },
  {
   "cell_type": "code",
   "execution_count": 111,
   "metadata": {},
   "outputs": [],
   "source": [
    "scaler = StandardScaler()"
   ]
  },
  {
   "cell_type": "code",
   "execution_count": 117,
   "metadata": {},
   "outputs": [],
   "source": [
    "azdias_scaled = pd.DataFrame(scaler.fit_transform(azdias_imputed))"
   ]
  },
  {
   "cell_type": "code",
   "execution_count": 118,
   "metadata": {},
   "outputs": [],
   "source": [
    "customers_scaled = pd.DataFrame(scaler.fit_transform(customers_imputed))"
   ]
  },
  {
   "cell_type": "code",
   "execution_count": 119,
   "metadata": {},
   "outputs": [
    {
     "data": {
      "text/plain": [
       "(737288, 289)"
      ]
     },
     "execution_count": 119,
     "metadata": {},
     "output_type": "execute_result"
    }
   ],
   "source": [
    "azdias_scaled.shape"
   ]
  },
  {
   "cell_type": "code",
   "execution_count": 120,
   "metadata": {},
   "outputs": [
    {
     "data": {
      "text/plain": [
       "(134246, 288)"
      ]
     },
     "execution_count": 120,
     "metadata": {},
     "output_type": "execute_result"
    }
   ],
   "source": [
    "customers_scaled.shape"
   ]
  },
  {
   "cell_type": "code",
   "execution_count": 121,
   "metadata": {},
   "outputs": [],
   "source": [
    "# For next use in Part 1 and 2\n",
    "\n",
    "azdias_scaled.to_pickle('azdias_scaled.pkl')\n",
    "\n",
    "customers_scaled.to_pickle('customers_scaled.pkl')"
   ]
  },
  {
   "cell_type": "markdown",
   "metadata": {},
   "source": [
    "## Part 1: Customer Segmentation Report\n",
    "\n",
    "The main bulk of your analysis will come in this part of the project. Here, you should use unsupervised learning techniques to describe the relationship between the demographics of the company's existing customers and the general population of Germany. By the end of this part, you should be able to describe parts of the general population that are more likely to be part of the mail-order company's main customer base, and which parts of the general population are less so."
   ]
  },
  {
   "cell_type": "markdown",
   "metadata": {},
   "source": [
    "### First, load cleaned datasets from Part 0 "
   ]
  },
  {
   "cell_type": "code",
   "execution_count": 122,
   "metadata": {},
   "outputs": [],
   "source": [
    "# final cleaned/preprocessed azdias object\n",
    "\n",
    "# azdias_scaled = pd.read_pickle('azdias_scaled.pkl')"
   ]
  },
  {
   "cell_type": "code",
   "execution_count": 123,
   "metadata": {},
   "outputs": [],
   "source": [
    "# final cleaned/preprocessed customers object\n",
    "\n",
    "# customers_scaled = pd.read_pickle('customers_scaled.pkl')"
   ]
  },
  {
   "cell_type": "markdown",
   "metadata": {},
   "source": [
    "### A. Dimensionality Reduction - PCA"
   ]
  },
  {
   "cell_type": "markdown",
   "metadata": {},
   "source": [
    "In the first step of Part 1 (unsupervised learning), we will employ Principal Component Analysis, with the goal to reduce the number of features within a dataset while retaining the “principal components”, defined as weighted, linear combinations of existing features. \n",
    "\n",
    "These principal components are meant to be linearly independent (solving the problem of highly correlated features) and account for the largest possible variability in the data. We will soon decide on the amount of variability we think is sufficient to then reliably employ for our (next) clustering task with k-Means clustering."
   ]
  },
  {
   "cell_type": "markdown",
   "metadata": {},
   "source": [
    "### PCA on AZDIAS"
   ]
  },
  {
   "cell_type": "markdown",
   "metadata": {},
   "source": [
    "Covariance Matrix"
   ]
  },
  {
   "cell_type": "code",
   "execution_count": 124,
   "metadata": {},
   "outputs": [
    {
     "name": "stdout",
     "output_type": "stream",
     "text": [
      "NumPy covariance matrix: \n",
      "[[ 1.00000136e+00 -1.69660200e-01 -1.70739281e-01 ...  1.93704043e-01\n",
      "  -8.11457472e-04  4.25559074e-02]\n",
      " [-1.69660200e-01  1.00000136e+00 -2.23038037e-01 ...  2.71092109e-01\n",
      "  -5.30494637e-02  7.89222711e-02]\n",
      " [-1.70739281e-01 -2.23038037e-01  1.00000136e+00 ... -9.76504430e-02\n",
      "   2.09000365e-02 -3.91318503e-02]\n",
      " ...\n",
      " [ 1.93704043e-01  2.71092109e-01 -9.76504430e-02 ...  1.00000136e+00\n",
      "  -6.66719618e-02  1.08699151e-01]\n",
      " [-8.11457472e-04 -5.30494637e-02  2.09000365e-02 ... -6.66719618e-02\n",
      "   1.00000136e+00 -4.66232717e-01]\n",
      " [ 4.25559074e-02  7.89222711e-02 -3.91318503e-02 ...  1.08699151e-01\n",
      "  -4.66232717e-01  1.00000136e+00]]\n"
     ]
    }
   ],
   "source": [
    "print('NumPy covariance matrix: \\n%s' %np.cov(azdias_scaled.T))"
   ]
  },
  {
   "cell_type": "markdown",
   "metadata": {},
   "source": [
    "Performing eigendecomposition on the covariance matrix above"
   ]
  },
  {
   "cell_type": "code",
   "execution_count": 125,
   "metadata": {},
   "outputs": [
    {
     "name": "stdout",
     "output_type": "stream",
     "text": [
      "Eigenvectors \n",
      "[[ 5.13376878e-03  6.18463751e-03 -6.68948521e-02 ... -3.00826451e-05\n",
      "   3.85868576e-05 -1.17738465e-05]\n",
      " [ 2.18977027e-02  1.39266894e-02 -1.07444080e-01 ... -9.11375406e-04\n",
      "   2.44331951e-03 -4.53223933e-03]\n",
      " [-9.83543823e-03 -1.06600382e-02  3.63846595e-02 ... -7.84766845e-04\n",
      "   4.38254813e-03  4.87194664e-04]\n",
      " ...\n",
      " [ 3.37868808e-02  9.93672612e-03 -2.30681253e-01 ... -4.65475352e-02\n",
      "   4.07963626e-03 -5.28627159e-02]\n",
      " [-1.43186177e-01  1.53178706e-03 -1.45159006e-03 ...  2.30305936e-03\n",
      "   5.41337119e-04  3.12124672e-03]\n",
      " [ 7.97111288e-02  1.27979786e-02 -5.67894868e-02 ...  2.18729857e-03\n",
      "  -5.03619481e-04  9.95222111e-04]]\n",
      "\n",
      "Eigenvalues \n",
      "[ 2.47646446e+01  1.73952544e+01  1.07892814e+01  8.36581117e+00\n",
      "  6.94186112e+00  6.71135023e+00  6.14604291e+00  5.41684157e+00\n",
      "  5.03407774e+00  4.55371769e+00  4.10140885e+00  3.75439315e+00\n",
      "  3.60887936e+00  3.40000666e+00  3.27656373e+00  3.16136866e+00\n",
      "  2.96852888e+00  2.74572884e+00  2.71642207e+00  2.65698463e+00\n",
      "  2.44728806e+00  2.32627236e+00  2.26893160e+00  2.22958130e+00\n",
      "  2.12673547e+00  2.10736582e+00  2.01322612e+00  1.98682541e+00\n",
      "  1.95160298e+00  1.90571705e+00  1.86734826e+00  1.76942270e+00\n",
      "  1.73165435e+00  1.68319180e+00  1.64000598e+00  1.60024887e+00\n",
      "  1.59060862e+00  1.56696195e+00  1.53125042e+00  1.49828568e+00\n",
      "  1.48862938e+00  1.45729925e+00  1.44517971e+00  1.42217996e+00\n",
      "  1.40806178e+00  1.37886025e+00  1.36558291e+00  1.34390498e+00\n",
      "  1.33492699e+00  1.29944290e+00  1.24457246e+00  1.24882618e+00\n",
      "  1.28257856e+00  1.27948914e+00  1.27231673e+00  1.26789390e+00\n",
      "  1.22648768e+00  1.21574270e+00  1.19860472e+00  1.19173113e+00\n",
      "  1.15771381e+00  1.13671982e+00  1.13229487e+00  1.12019000e+00\n",
      "  1.11504971e+00  1.09933359e+00  1.08702133e+00  1.07458494e+00\n",
      "  1.06790668e+00  1.05516663e+00  1.04846329e+00  1.03043197e+00\n",
      "  1.03928545e+00  1.04302545e+00  1.01752006e+00  1.00840368e+00\n",
      "  3.23840063e-03  1.08620198e-02  1.00644099e+00  1.00093829e+00\n",
      "  9.99641467e-01  9.93798155e-01  9.82567391e-01  9.88083013e-01\n",
      "  9.73289926e-01  9.67908268e-01  9.62493500e-01  9.45191208e-01\n",
      "  9.34641810e-01  9.26984455e-01  8.69162528e-01  9.14349117e-01\n",
      "  9.11841973e-01  9.05276952e-01  8.97819373e-01  8.91290509e-01\n",
      "  8.83282120e-01  8.77212525e-01  7.60730259e-01  7.72264197e-01\n",
      "  7.65449977e-01  8.54587208e-01  8.50777663e-01  7.87339090e-01\n",
      "  8.37885910e-01  7.95134386e-01  8.13471054e-01  8.02110531e-01\n",
      "  8.05252035e-01  8.27623065e-01  8.31068299e-01  7.16788978e-01\n",
      "  7.26284799e-01  7.42527817e-01  7.12214936e-01  7.03144191e-01\n",
      "  6.80626850e-01  6.91974789e-01  6.89529503e-01  6.62535731e-01\n",
      "  6.56457671e-01  6.49927058e-01  6.48636460e-01  6.32802509e-01\n",
      "  6.37642890e-01  6.20677406e-01  5.86684217e-01  6.07921860e-01\n",
      "  6.02343120e-01  5.96652457e-01  5.94678892e-01  5.81518461e-01\n",
      "  5.75658205e-01  5.69663483e-01  5.60999930e-01  5.55270955e-01\n",
      "  5.53876694e-01  5.35262400e-01  5.30552536e-01  5.39132407e-01\n",
      "  5.15637931e-01  5.02729994e-01  4.98925253e-01  4.89798494e-01\n",
      "  4.84879864e-01  4.55082923e-01  4.68156903e-01  4.63384247e-01\n",
      "  4.61055918e-01  4.24972074e-01  4.35280194e-01  4.33558486e-01\n",
      "  4.30839628e-01  3.97181392e-01  4.00185538e-01  4.03690800e-01\n",
      "  4.17801695e-01  4.13908167e-01  4.10286094e-01  3.58420314e-01\n",
      "  3.62212607e-01  3.71054602e-01  3.72628031e-01  3.75164734e-01\n",
      "  3.88654987e-01  3.85677809e-01  3.85814356e-01  1.73007474e-02\n",
      "  1.93792739e-02  3.53121947e-02  3.80766237e-02  3.45944401e-01\n",
      "  3.44420318e-01  3.39034601e-01  3.37146276e-01  3.36322928e-01\n",
      "  3.28329527e-01  3.24910001e-01  3.21025911e-01  3.19408910e-01\n",
      "  4.35219195e-02  4.64597890e-02  5.19705204e-02  5.26694966e-02\n",
      "  3.14639806e-01  3.13150729e-01  3.10105751e-01  3.07427266e-01\n",
      "  2.97154976e-01  3.02530607e-01  3.00914083e-01  2.99739066e-01\n",
      "  6.58800043e-02  6.69934986e-02  2.87950822e-01  2.82382631e-01\n",
      "  2.78749348e-01  2.80520046e-01  2.69822220e-01  2.67358933e-01\n",
      "  2.65329689e-01  4.55806817e-15 -4.25645935e-15 -1.23430640e-15\n",
      " -4.78210858e-16 -1.46190425e-16  1.61894522e-16  2.59798392e-01\n",
      "  2.51374735e-01  2.54030411e-01  2.55303433e-01  6.88360807e-02\n",
      "  7.23505407e-02  7.35704624e-02  7.39882815e-02  7.50917780e-02\n",
      "  7.51813449e-02  7.67061277e-02  7.63751394e-02  2.47146188e-01\n",
      "  2.42757413e-01  2.46340398e-01  7.74644148e-02  7.98209012e-02\n",
      "  1.62963651e-01  1.59297827e-01  1.57352180e-01  1.50733270e-01\n",
      "  1.45284079e-01  1.40182956e-01  2.16529858e-01  1.98422547e-01\n",
      "  1.92303702e-01  1.66243750e-01  1.38959679e-01  1.35702567e-01\n",
      "  9.22101571e-02  9.27888249e-02  8.93257029e-02  8.52285833e-02\n",
      "  8.41512641e-02  8.10981519e-02  8.82815369e-02  9.53002507e-02\n",
      "  2.35624652e-01  2.20565377e-01  2.12258826e-01  2.07446654e-01\n",
      "  2.04843214e-01  1.83758796e-01  1.89883675e-01  1.80802935e-01\n",
      "  1.70314212e-01  8.22007024e-02  9.71360769e-02  1.02501011e-01\n",
      "  1.03475747e-01  8.73295601e-02  2.34811245e-01  1.31882873e-01\n",
      "  8.15668510e-02  1.21198003e-01  1.23171784e-01  1.88737310e-01\n",
      "  1.75935903e-01  2.31583391e-01  2.23350198e-01  2.27024049e-01\n",
      "  2.29949605e-01  1.06430768e-01  1.78052358e-01  1.08588998e-01\n",
      "  9.67582373e-02  1.28707988e-01  1.16165260e-01  2.28850875e-01\n",
      "  2.03436357e-01  2.09924407e-01  1.70773302e-01  1.09822714e-01\n",
      "  1.16848141e-01  1.27056430e-01  1.29755682e-01  1.14236322e-01\n",
      "  1.12613151e-01  1.13168160e-01  1.28006803e-01  1.76662278e-01\n",
      "  1.10708657e-01]\n"
     ]
    }
   ],
   "source": [
    "#Perform eigendecomposition on covariance matrix\n",
    "\n",
    "cov_mat = np.cov(azdias_scaled.T)\n",
    "\n",
    "eig_vals, eig_vecs = np.linalg.eig(cov_mat)\n",
    "\n",
    "print('Eigenvectors \\n%s' %eig_vecs)\n",
    "print('\\nEigenvalues \\n%s' %eig_vals)"
   ]
  },
  {
   "cell_type": "code",
   "execution_count": 126,
   "metadata": {},
   "outputs": [
    {
     "name": "stdout",
     "output_type": "stream",
     "text": [
      "Eigenvalues in descending order:\n",
      "24.76464462494882\n",
      "17.395254421622788\n",
      "10.789281373076205\n",
      "8.365811171309781\n",
      "6.941861121435326\n",
      "6.711350229106527\n",
      "6.146042908799773\n",
      "5.416841566059022\n",
      "5.0340777368290475\n",
      "4.5537176896124025\n",
      "4.101408845926174\n",
      "3.754393154611529\n",
      "3.6088793638794914\n",
      "3.400006658323639\n",
      "3.2765637279974387\n",
      "3.1613686633107605\n",
      "2.96852887820123\n",
      "2.745728840891038\n",
      "2.7164220673247375\n",
      "2.656984631210771\n",
      "2.447288061208576\n",
      "2.3262723565031167\n",
      "2.268931602543192\n",
      "2.229581297236445\n",
      "2.1267354701570467\n",
      "2.1073658198963026\n",
      "2.0132261202182997\n",
      "1.9868254114013322\n",
      "1.9516029837270326\n",
      "1.9057170538696415\n",
      "1.8673482612668837\n",
      "1.769422701058015\n",
      "1.7316543459195337\n",
      "1.6831918048401002\n",
      "1.640005984072435\n",
      "1.6002488651316553\n",
      "1.5906086150353338\n",
      "1.5669619515932967\n",
      "1.5312504218723924\n",
      "1.4982856776593203\n",
      "1.4886293809980016\n",
      "1.457299248185572\n",
      "1.4451797114680818\n",
      "1.4221799618870536\n",
      "1.40806177543985\n",
      "1.3788602453872887\n",
      "1.3655829124395082\n",
      "1.343904979283319\n",
      "1.3349269905183567\n",
      "1.2994429009869986\n",
      "1.2445724610364868\n",
      "1.2488261752044594\n",
      "1.282578556393715\n",
      "1.2794891367205405\n",
      "1.2723167292193216\n",
      "1.2678938980989483\n",
      "1.2264876811784906\n",
      "1.2157426976008026\n",
      "1.1986047171291383\n",
      "1.1917311253231462\n",
      "1.1577138073112734\n",
      "1.136719820157455\n",
      "1.1322948720654575\n",
      "1.1201900011471067\n",
      "1.1150497088805562\n",
      "1.0993335915542046\n",
      "1.0870213279173033\n",
      "1.0745849371716838\n",
      "1.0679066789769283\n",
      "1.0551666309372834\n",
      "1.04846328788551\n",
      "1.0304319701965337\n",
      "1.0392854547850192\n",
      "1.0430254530132312\n",
      "1.0175200606336048\n",
      "1.0084036757180361\n",
      "0.0032384006283464935\n",
      "0.010862019780657326\n",
      "1.0064409931577671\n",
      "1.0009382878379132\n",
      "0.9996414669594988\n",
      "0.9937981545739066\n",
      "0.9825673910371583\n",
      "0.9880830127547876\n",
      "0.9732899262231791\n",
      "0.9679082677112164\n",
      "0.9624935004785931\n",
      "0.9451912080304549\n",
      "0.9346418104584928\n",
      "0.9269844545405893\n",
      "0.8691625275639526\n",
      "0.914349117149615\n",
      "0.9118419728859425\n",
      "0.905276952467598\n",
      "0.8978193734356422\n",
      "0.8912905085928832\n",
      "0.8832821202380267\n",
      "0.8772125250490613\n",
      "0.7607302587930959\n",
      "0.77226419663775\n",
      "0.7654499766081743\n",
      "0.85458720825388\n",
      "0.8507776627226099\n",
      "0.7873390901960259\n",
      "0.8378859101121116\n",
      "0.795134386442621\n",
      "0.8134710538551593\n",
      "0.802110531108546\n",
      "0.8052520354461095\n",
      "0.8276230648979558\n",
      "0.8310682985043535\n",
      "0.716788977505761\n",
      "0.7262847989018607\n",
      "0.7425278167598552\n",
      "0.7122149359862616\n",
      "0.7031441909634832\n",
      "0.6806268499962086\n",
      "0.6919747888357911\n",
      "0.6895295033167983\n",
      "0.6625357311216225\n",
      "0.656457671165118\n",
      "0.6499270583985608\n",
      "0.6486364601035215\n",
      "0.6328025094818206\n",
      "0.6376428899236058\n",
      "0.6206774058145532\n",
      "0.5866842169392158\n",
      "0.6079218597256757\n",
      "0.6023431204278249\n",
      "0.5966524571822968\n",
      "0.5946788917935296\n",
      "0.581518461315593\n",
      "0.5756582046764241\n",
      "0.5696634825478613\n",
      "0.5609999303937547\n",
      "0.555270955297337\n",
      "0.5538766940422674\n",
      "0.5352623997947908\n",
      "0.5305525362546974\n",
      "0.5391324071007052\n",
      "0.5156379311071869\n",
      "0.5027299943167944\n",
      "0.4989252528591575\n",
      "0.4897984943301889\n",
      "0.48487986411350487\n",
      "0.4550829227263783\n",
      "0.468156903263113\n",
      "0.46338424685926827\n",
      "0.4610559179063158\n",
      "0.42497207367120843\n",
      "0.4352801936085359\n",
      "0.43355848553528564\n",
      "0.43083962813207355\n",
      "0.3971813918410088\n",
      "0.40018553803354934\n",
      "0.4036908001543131\n",
      "0.417801694695251\n",
      "0.41390816740721575\n",
      "0.4102860940196447\n",
      "0.3584203142180133\n",
      "0.3622126067401238\n",
      "0.37105460166964704\n",
      "0.3726280305097647\n",
      "0.37516473439286313\n",
      "0.38865498671936727\n",
      "0.3856778087314765\n",
      "0.38581435576072415\n",
      "0.0173007474263444\n",
      "0.019379273931172183\n",
      "0.035312194707021224\n",
      "0.03807662371201537\n",
      "0.34594440053624015\n",
      "0.34442031760336894\n",
      "0.3390346013100271\n",
      "0.3371462762990382\n",
      "0.3363229283739914\n",
      "0.32832952728623854\n",
      "0.32491000099468653\n",
      "0.3210259110910136\n",
      "0.31940891037054664\n",
      "0.04352191952781191\n",
      "0.046459788983425426\n",
      "0.051970520391233316\n",
      "0.05266949659567111\n",
      "0.31463980642223005\n",
      "0.3131507286192328\n",
      "0.31010575101144305\n",
      "0.30742726599845266\n",
      "0.29715497621147474\n",
      "0.30253060674225396\n",
      "0.3009140828200305\n",
      "0.2997390655894175\n",
      "0.06588000426975062\n",
      "0.06699349864890053\n",
      "0.28795082179949066\n",
      "0.28238263131942554\n",
      "0.27874934799300605\n",
      "0.28052004603804515\n",
      "0.2698222196450621\n",
      "0.26735893308804637\n",
      "0.2653296887210538\n",
      "4.558068173337972e-15\n",
      "4.256459352900162e-15\n",
      "1.2343063993399936e-15\n",
      "4.782108575181616e-16\n",
      "1.461904251446662e-16\n",
      "1.618945218661308e-16\n",
      "0.25979839188496584\n",
      "0.2513747350014573\n",
      "0.254030410746077\n",
      "0.2553034334292384\n",
      "0.06883608074436591\n",
      "0.07235054071898779\n",
      "0.07357046237625364\n",
      "0.07398828150313036\n",
      "0.07509177803405331\n",
      "0.07518134486444825\n",
      "0.07670612766682412\n",
      "0.0763751393714442\n",
      "0.24714618792843285\n",
      "0.24275741339230925\n",
      "0.2463403980777067\n",
      "0.07746441484225272\n",
      "0.07982090118875618\n",
      "0.1629636514655864\n",
      "0.15929782673765797\n",
      "0.15735218038490453\n",
      "0.15073326986409327\n",
      "0.14528407935874615\n",
      "0.1401829561874671\n",
      "0.21652985754257\n",
      "0.19842254744022852\n",
      "0.19230370225399057\n",
      "0.16624374969806682\n",
      "0.13895967861653116\n",
      "0.13570256703305833\n",
      "0.09221015706606767\n",
      "0.09278882485551114\n",
      "0.0893257029103606\n",
      "0.08522858327663317\n",
      "0.08415126413031213\n",
      "0.08109815194606712\n",
      "0.08828153685519749\n",
      "0.0953002507339807\n",
      "0.23562465162031668\n",
      "0.22056537698498752\n",
      "0.2122588256011651\n",
      "0.20744665351934796\n",
      "0.20484321439642558\n",
      "0.18375879560428432\n",
      "0.18988367518328647\n",
      "0.180802935343008\n",
      "0.170314212416115\n",
      "0.08220070239693215\n",
      "0.0971360769380817\n",
      "0.10250101068141466\n",
      "0.10347574669375463\n",
      "0.08732956008056683\n",
      "0.23481124539609755\n",
      "0.13188287340904536\n",
      "0.08156685104996693\n",
      "0.12119800263760339\n",
      "0.12317178391315227\n",
      "0.18873731010286698\n",
      "0.1759359027863445\n",
      "0.2315833910030597\n",
      "0.22335019765912612\n",
      "0.2270240487022348\n",
      "0.22994960483730573\n",
      "0.10643076823554448\n",
      "0.17805235813403375\n",
      "0.10858899792264097\n",
      "0.09675823731744304\n",
      "0.1287079876150357\n",
      "0.11616525979191075\n",
      "0.22885087474598992\n",
      "0.2034363568954315\n",
      "0.20992440745788132\n",
      "0.1707733022830151\n",
      "0.10982271362525886\n",
      "0.11684814140594159\n",
      "0.1270564299679344\n",
      "0.129755682402186\n",
      "0.11423632182932225\n",
      "0.1126131507936645\n",
      "0.11316815964067797\n",
      "0.1280068026720247\n",
      "0.17666227833441933\n",
      "0.11070865662465075\n"
     ]
    }
   ],
   "source": [
    "# Visually confirm that the list is correctly sorted by decreasing eigenvalues\n",
    "\n",
    "eig_pairs = [(np.abs(eig_vals[i]), eig_vecs[:,i]) for i in range(len(eig_vals))]\n",
    "\n",
    "print('Eigenvalues in descending order:')\n",
    "\n",
    "for i in eig_pairs:\n",
    "    print(i[0])"
   ]
  },
  {
   "cell_type": "markdown",
   "metadata": {},
   "source": [
    "Scree Plot\n",
    "\n",
    "> To gain an informed view of how each principal component explains the variance within the data, we will create a scree plot. \n",
    "\n",
    "> A scree plot displays the variance explained by each principal component."
   ]
  },
  {
   "cell_type": "code",
   "execution_count": 129,
   "metadata": {},
   "outputs": [
    {
     "data": {
      "image/png": "[encoded data removed]",
      "text/plain": [
       "<Figure size 432x288 with 1 Axes>"
      ]
     },
     "metadata": {
      "needs_background": "light"
     },
     "output_type": "display_data"
    }
   ],
   "source": [
    "#Explained variance (AZDIAS)\n",
    "\n",
    "pca = PCA()\n",
    "azdias_pca = pca.fit_transform(azdias_scaled)\n",
    "\n",
    "plt.plot(np.cumsum(pca.explained_variance_ratio_))\n",
    "plt.title('Explained Variance by Each Principal Component - Scree Plot (AZDIAS)')\n",
    "plt.xlabel('Number of Components')\n",
    "plt.ylabel('Cumulative Explained Variance')\n",
    "\n",
    "plt.show()"
   ]
  },
  {
   "cell_type": "markdown",
   "metadata": {},
   "source": [
    "### PCA on CUSTOMERS"
   ]
  },
  {
   "cell_type": "markdown",
   "metadata": {},
   "source": [
    "Covariance Matrix"
   ]
  },
  {
   "cell_type": "code",
   "execution_count": 130,
   "metadata": {},
   "outputs": [
    {
     "name": "stdout",
     "output_type": "stream",
     "text": [
      "NumPy covariance matrix: \n",
      "[[ 1.00000745 -0.27971369 -0.19078248 ...  0.11959508  0.04996049\n",
      "   0.01151731]\n",
      " [-0.27971369  1.00000745 -0.28157041 ...  0.1312266  -0.01788514\n",
      "   0.0346101 ]\n",
      " [-0.19078248 -0.28157041  1.00000745 ... -0.03876423 -0.04564216\n",
      "  -0.01805203]\n",
      " ...\n",
      " [ 0.11959508  0.1312266  -0.03876423 ...  1.00000745 -0.02228529\n",
      "   0.05828411]\n",
      " [ 0.04996049 -0.01788514 -0.04564216 ... -0.02228529  1.00000745\n",
      "  -0.37731709]\n",
      " [ 0.01151731  0.0346101  -0.01805203 ...  0.05828411 -0.37731709\n",
      "   1.00000745]]\n"
     ]
    }
   ],
   "source": [
    "print('NumPy covariance matrix: \\n%s' %np.cov(customers_scaled.T))"
   ]
  },
  {
   "cell_type": "markdown",
   "metadata": {},
   "source": [
    "Performing eigendecomposition on the covariance matrix above"
   ]
  },
  {
   "cell_type": "code",
   "execution_count": 131,
   "metadata": {},
   "outputs": [
    {
     "name": "stdout",
     "output_type": "stream",
     "text": [
      "Eigenvectors \n",
      "[[ 1.46100352e-02 -1.76055973e-03  3.86971907e-02 ...  2.90512858e-03\n",
      "   1.78701168e-03 -8.76405410e-05]\n",
      " [-1.32740958e-02 -5.06901093e-03  3.74311657e-02 ... -7.75105555e-04\n",
      "  -1.45528221e-03 -3.08304496e-03]\n",
      " [-2.13233726e-02  1.25015398e-03 -2.29077413e-02 ...  1.39646921e-03\n",
      "   1.16517524e-03 -2.14318372e-03]\n",
      " ...\n",
      " [-1.31558170e-02  1.19161809e-02  1.60895700e-01 ... -8.79702795e-02\n",
      "   1.28777016e-02 -1.31899823e-03]\n",
      " [ 1.11183744e-01 -9.06529419e-02 -1.57271088e-02 ...  4.33813964e-04\n",
      "  -5.35743140e-04 -1.59304528e-02]\n",
      " [-3.30661358e-02  6.17480117e-02  8.23676608e-02 ...  2.25161681e-03\n",
      "   5.89005666e-04 -2.64748444e-03]]\n",
      "\n",
      "Eigenvalues \n",
      "[ 2.16257866e+01  1.93180683e+01  8.15533339e+00  7.68208760e+00\n",
      "  7.04962536e+00  6.42705265e+00  5.91608959e+00  5.17550517e+00\n",
      "  4.87551479e+00  4.47685048e+00  4.29602755e+00  3.72318222e+00\n",
      "  3.60661612e+00  3.53015614e+00  3.26341104e+00  3.19556046e+00\n",
      "  2.94509750e+00  2.86281051e+00  2.79614215e+00  2.69157190e+00\n",
      "  2.64473234e+00  2.55768808e+00  2.42477871e+00  2.30980561e+00\n",
      "  2.23108170e+00  2.16346719e+00  2.09540288e+00  1.98067652e+00\n",
      "  1.96621067e+00  1.95271559e+00  1.83304468e+00  1.81649311e+00\n",
      "  1.77299955e+00  1.72911114e+00  1.70074037e+00  1.67968202e+00\n",
      "  1.63107522e+00  1.60011948e+00  1.57543954e+00  1.52943619e+00\n",
      "  1.51225671e+00  1.47216556e+00  1.45525768e+00  1.43582424e+00\n",
      "  1.40704182e+00  1.37319275e+00  1.37606553e+00  1.38506240e+00\n",
      "  1.38624069e+00  1.34469507e+00  1.32505974e+00  1.30758250e+00\n",
      "  1.30491974e+00  1.28776703e+00  1.26443372e+00  1.25297514e+00\n",
      "  1.24392121e+00  1.23096401e+00  1.21634279e+00  1.20151896e+00\n",
      "  1.17446996e+00  1.16100572e+00  1.13794140e+00  1.13131135e+00\n",
      "  1.12778989e+00  1.04831696e+00  1.10911359e+00  1.10256734e+00\n",
      "  1.06753831e+00  1.07838541e+00  1.09035072e+00  1.05769414e+00\n",
      "  1.04226298e+00  9.38625382e-01  9.48296791e-01  9.52965330e-01\n",
      "  9.60261003e-01  9.67619572e-01  9.78934573e-01  1.02425804e+00\n",
      "  1.01875979e+00  1.01647866e+00  9.86826004e-01  1.01114012e+00\n",
      "  9.92115761e-01  9.98315825e-01  1.00673630e+00  1.00506394e+00\n",
      "  9.27773720e-01  9.19575986e-01  9.04016457e-01  8.95443529e-01\n",
      "  8.90543092e-01  8.84174273e-01  8.77958851e-01  8.60415724e-01\n",
      "  8.28670704e-01  8.52044445e-01  8.44265368e-01  8.46910764e-01\n",
      "  8.35212821e-01  8.19312814e-01  8.11220957e-01  8.16028163e-01\n",
      "  8.01755688e-01  7.88904506e-01  7.73911929e-01  7.68975425e-01\n",
      "  7.59040682e-01  7.47140013e-01  7.04627050e-01  7.21546051e-01\n",
      "  7.35149230e-01  7.32941175e-01  7.23977706e-01  6.91971179e-01\n",
      "  6.87549169e-01  6.80347245e-01  6.75142790e-01  6.55901666e-01\n",
      "  6.52102836e-01  6.43209662e-01  5.78306324e-01  6.32655032e-01\n",
      "  6.21681553e-01  6.13772561e-01  5.85660791e-01  5.91129438e-01\n",
      "  6.02514168e-01  5.95106145e-01  5.99188576e-01  5.50294045e-01\n",
      "  5.51811600e-01  5.57291239e-01  5.68934092e-01  8.53808153e-03\n",
      "  5.38691302e-01  5.31888223e-01  5.25860572e-01  5.17115050e-01\n",
      "  5.21361306e-01  4.82791108e-01  4.86609896e-01  5.13737646e-01\n",
      "  4.97515861e-01  5.02221312e-01  5.04659370e-01  4.74872599e-01\n",
      "  4.70254541e-01  4.62980818e-01  4.61322621e-01  4.50319338e-01\n",
      "  4.37266324e-01  4.33971930e-01  4.30560748e-01  4.28242800e-01\n",
      "  1.88112844e-02  4.20712219e-01  4.15370126e-01  4.09885437e-01\n",
      "  4.02982158e-01  3.99116623e-01  3.95112323e-01  3.80972290e-01\n",
      "  3.81425021e-01  3.77855356e-01  3.70001839e-01  3.67794559e-01\n",
      "  1.88172699e-03  2.32600846e-02  3.45385849e-02  3.63760836e-02\n",
      "  4.41725098e-02  5.27804958e-02  5.55147706e-02  3.64340533e-01\n",
      "  3.59521021e-01  3.48579332e-01  3.46264266e-01  3.44283835e-01\n",
      "  3.38314589e-01  3.34675685e-01  3.33289445e-01  3.31331147e-01\n",
      "  3.27092053e-01  3.24099746e-01  3.18693665e-01  3.16271509e-01\n",
      "  3.12606143e-01  3.09393271e-01  3.05689997e-01  3.00040058e-01\n",
      "  2.98889604e-01  2.97713437e-01  2.92622298e-01  2.83159443e-01\n",
      "  7.58279831e-02  7.73132825e-02  7.91428921e-02  7.95122983e-02\n",
      "  8.22173043e-02  8.32684109e-02  8.26503029e-02  8.39529563e-02\n",
      " -2.20098209e-15  2.59712556e-15  1.73495426e-15 -3.53781583e-16\n",
      " -3.40252631e-17  3.25405059e-17  2.88573087e-01  2.94407059e-01\n",
      "  2.79866145e-01  2.77875483e-01  2.71210504e-01  2.66388380e-01\n",
      "  1.97548100e-01  1.91057610e-01  2.06729223e-01  2.09619921e-01\n",
      "  2.13625458e-01  2.37762688e-01  2.57299909e-01  2.55351291e-01\n",
      "  2.46892169e-01  2.40048678e-01  8.69032407e-02  8.81743651e-02\n",
      "  9.03214370e-02  9.20917562e-02  9.26447096e-02  9.29926040e-02\n",
      "  1.84758267e-01  2.62622657e-01  1.88150763e-01  2.18275863e-01\n",
      "  2.28021760e-01  1.80592999e-01  1.76294700e-01  1.71818080e-01\n",
      "  1.62190224e-01  1.64774161e-01  2.69681768e-01  2.25286848e-01\n",
      "  9.48822098e-02  9.54726502e-02  9.62193790e-02  9.79415681e-02\n",
      "  9.72664916e-02  1.57752338e-01  1.68295719e-01  1.53138185e-01\n",
      "  1.40089754e-01  1.43616975e-01  1.47097898e-01  2.25895745e-01\n",
      "  1.38513658e-01  2.50923421e-01  2.50628067e-01  1.06887542e-01\n",
      "  1.06312024e-01  1.03576556e-01  1.45222373e-01  2.61994423e-01\n",
      "  2.16090522e-01  1.78987040e-01  1.68781921e-01  1.54464839e-01\n",
      "  1.25432767e-01  1.22229467e-01  1.32454608e-01  1.34878445e-01\n",
      "  1.02151094e-01  1.01109696e-01  1.01286035e-01  1.13257239e-01\n",
      "  1.17814277e-01  2.26973260e-01  1.88999966e-01  1.12542024e-01\n",
      "  1.30216623e-01  1.30535878e-01  1.33843309e-01  1.20385788e-01\n",
      "  1.20167724e-01  1.14829901e-01  1.14358978e-01  1.16944040e-01]\n"
     ]
    }
   ],
   "source": [
    "#Perform eigendecomposition on covariance matrix\n",
    "\n",
    "cov_mat = np.cov(customers_scaled.T)\n",
    "\n",
    "eig_vals, eig_vecs = np.linalg.eig(cov_mat)\n",
    "\n",
    "print('Eigenvectors \\n%s' %eig_vecs)\n",
    "print('\\nEigenvalues \\n%s' %eig_vals)"
   ]
  },
  {
   "cell_type": "code",
   "execution_count": 132,
   "metadata": {},
   "outputs": [
    {
     "name": "stdout",
     "output_type": "stream",
     "text": [
      "Eigenvalues in descending order:\n",
      "21.625786644575197\n",
      "19.318068305517823\n",
      "8.155333393550228\n",
      "7.682087596590772\n",
      "7.049625364736644\n",
      "6.427052647635984\n",
      "5.916089585106697\n",
      "5.175505171005837\n",
      "4.875514788419473\n",
      "4.476850479474519\n",
      "4.296027545157086\n",
      "3.7231822229200007\n",
      "3.6066161220352253\n",
      "3.530156138505341\n",
      "3.2634110351507295\n",
      "3.19556046017375\n",
      "2.9450975004661837\n",
      "2.8628105105935244\n",
      "2.796142153740747\n",
      "2.6915719035734176\n",
      "2.644732341896025\n",
      "2.5576880809823987\n",
      "2.4247787065100534\n",
      "2.3098056127631432\n",
      "2.231081703029744\n",
      "2.163467190407079\n",
      "2.095402882550707\n",
      "1.980676523743016\n",
      "1.9662106739067988\n",
      "1.9527155860850614\n",
      "1.8330446839949244\n",
      "1.8164931064552798\n",
      "1.7729995485550802\n",
      "1.7291111361985225\n",
      "1.7007403690576453\n",
      "1.6796820241202592\n",
      "1.6310752201087877\n",
      "1.6001194761572322\n",
      "1.575439542061807\n",
      "1.5294361854792984\n",
      "1.5122567088992735\n",
      "1.4721655620059224\n",
      "1.4552576830214\n",
      "1.4358242354939572\n",
      "1.4070418222345553\n",
      "1.3731927458476045\n",
      "1.3760655282136505\n",
      "1.385062401753617\n",
      "1.3862406919221881\n",
      "1.344695071611482\n",
      "1.325059736692721\n",
      "1.307582503676682\n",
      "1.304919742029484\n",
      "1.2877670313307061\n",
      "1.2644337192337467\n",
      "1.2529751357356107\n",
      "1.2439212087811422\n",
      "1.2309640073711152\n",
      "1.2163427901893977\n",
      "1.2015189626741147\n",
      "1.1744699622924037\n",
      "1.1610057223916062\n",
      "1.1379414033539725\n",
      "1.131311347322389\n",
      "1.127789889872973\n",
      "1.0483169573930877\n",
      "1.1091135907396357\n",
      "1.1025673412314838\n",
      "1.0675383082792291\n",
      "1.0783854109210638\n",
      "1.090350721896434\n",
      "1.0576941431350737\n",
      "1.042262984168858\n",
      "0.9386253818978799\n",
      "0.9482967908617732\n",
      "0.9529653301286387\n",
      "0.9602610032997143\n",
      "0.9676195723122402\n",
      "0.9789345732031387\n",
      "1.0242580416925633\n",
      "1.0187597916476494\n",
      "1.0164786582579546\n",
      "0.9868260038919678\n",
      "1.0111401194243994\n",
      "0.9921157607427207\n",
      "0.9983158250928286\n",
      "1.0067362956078945\n",
      "1.0050639429526051\n",
      "0.9277737204043952\n",
      "0.9195759857361279\n",
      "0.9040164569146605\n",
      "0.8954435292468828\n",
      "0.8905430916151745\n",
      "0.8841742729039362\n",
      "0.8779588505489646\n",
      "0.8604157235973771\n",
      "0.8286707037768895\n",
      "0.8520444453925818\n",
      "0.8442653684449986\n",
      "0.8469107640157791\n",
      "0.8352128213280102\n",
      "0.819312813932079\n",
      "0.8112209569077169\n",
      "0.8160281633542122\n",
      "0.8017556884058715\n",
      "0.7889045059944474\n",
      "0.7739119292972076\n",
      "0.7689754246715728\n",
      "0.7590406823272718\n",
      "0.7471400134534535\n",
      "0.7046270498919345\n",
      "0.7215460511995795\n",
      "0.7351492295453467\n",
      "0.732941175286196\n",
      "0.7239777061248747\n",
      "0.6919711790140995\n",
      "0.6875491686702497\n",
      "0.6803472453863317\n",
      "0.6751427897531003\n",
      "0.6559016659489045\n",
      "0.6521028362002602\n",
      "0.643209662192105\n",
      "0.5783063236712079\n",
      "0.6326550324533009\n",
      "0.6216815532421596\n",
      "0.613772561466707\n",
      "0.5856607905142517\n",
      "0.5911294376819227\n",
      "0.6025141682492628\n",
      "0.5951061447792658\n",
      "0.5991885760158799\n",
      "0.5502940448720043\n",
      "0.5518116004132926\n",
      "0.5572912389604706\n",
      "0.5689340917387354\n",
      "0.008538081529919677\n",
      "0.5386913021011269\n",
      "0.5318882228522406\n",
      "0.5258605719003188\n",
      "0.5171150497428355\n",
      "0.5213613055315859\n",
      "0.4827911078674038\n",
      "0.48660989630224005\n",
      "0.5137376456859706\n",
      "0.49751586078441745\n",
      "0.5022213117791507\n",
      "0.504659370046482\n",
      "0.4748725986969518\n",
      "0.4702545405506306\n",
      "0.4629808179973907\n",
      "0.4613226206035429\n",
      "0.45031933775116045\n",
      "0.43726632415098765\n",
      "0.43397192951856417\n",
      "0.4305607484566583\n",
      "0.428242799688668\n",
      "0.018811284417140226\n",
      "0.4207122194881609\n",
      "0.41537012576856447\n",
      "0.40988543662786103\n",
      "0.40298215837376744\n",
      "0.3991166234243163\n",
      "0.39511232337294006\n",
      "0.38097228953711315\n",
      "0.3814250211022197\n",
      "0.37785535597202974\n",
      "0.3700018392029266\n",
      "0.3677945589503109\n",
      "0.0018817269941356922\n",
      "0.02326008461028852\n",
      "0.03453858489989295\n",
      "0.036376083648480564\n",
      "0.04417250977121243\n",
      "0.052780495845857076\n",
      "0.055514770642101315\n",
      "0.36434053286159496\n",
      "0.3595210212207316\n",
      "0.3485793317352378\n",
      "0.346264266307726\n",
      "0.3442838353019703\n",
      "0.3383145893776393\n",
      "0.33467568472448206\n",
      "0.3332894453008154\n",
      "0.3313311474711401\n",
      "0.32709205272026887\n",
      "0.32409974643265677\n",
      "0.31869366489415213\n",
      "0.3162715091980974\n",
      "0.3126061432498593\n",
      "0.30939327116781434\n",
      "0.30568999692116855\n",
      "0.30004005760211855\n",
      "0.29888960433409956\n",
      "0.29771343655692706\n",
      "0.29262229820266666\n",
      "0.2831594430724851\n",
      "0.07582798305852845\n",
      "0.07731328253937403\n",
      "0.07914289211724838\n",
      "0.07951229831206129\n",
      "0.0822173042761877\n",
      "0.08326841091035102\n",
      "0.08265030292285103\n",
      "0.0839529562590661\n",
      "2.2009820949371926e-15\n",
      "2.597125562480636e-15\n",
      "1.7349542561151477e-15\n",
      "3.5378158320094133e-16\n",
      "3.4025263083985954e-17\n",
      "3.254050589387578e-17\n",
      "0.28857308653306696\n",
      "0.2944070587678397\n",
      "0.27986614486801165\n",
      "0.27787548278886315\n",
      "0.2712105040478633\n",
      "0.2663883802294118\n",
      "0.19754809961500824\n",
      "0.1910576098373384\n",
      "0.2067292226042595\n",
      "0.20961992148405026\n",
      "0.21362545840819083\n",
      "0.23776268793273783\n",
      "0.2572999089172914\n",
      "0.25535129099424597\n",
      "0.24689216872603875\n",
      "0.2400486778426081\n",
      "0.08690324070127814\n",
      "0.0881743650738771\n",
      "0.09032143696695064\n",
      "0.09209175617415988\n",
      "0.09264470964000655\n",
      "0.09299260403650988\n",
      "0.18475826692472277\n",
      "0.2626226569262673\n",
      "0.1881507633848598\n",
      "0.21827586283098618\n",
      "0.2280217599834865\n",
      "0.18059299943915302\n",
      "0.17629470005887476\n",
      "0.1718180801355217\n",
      "0.1621902238917851\n",
      "0.16477416133363662\n",
      "0.26968176760093127\n",
      "0.22528684847423927\n",
      "0.09488220984842871\n",
      "0.09547265018764063\n",
      "0.09621937895055757\n",
      "0.09794156808875296\n",
      "0.0972664916361967\n",
      "0.15775233803335476\n",
      "0.16829571934823456\n",
      "0.15313818510414406\n",
      "0.14008975433331233\n",
      "0.1436169751511714\n",
      "0.14709789759345152\n",
      "0.22589574473597412\n",
      "0.1385136575871834\n",
      "0.2509234208662891\n",
      "0.2506280672486399\n",
      "0.10688754157985192\n",
      "0.1063120240094921\n",
      "0.10357655590210481\n",
      "0.14522237317767794\n",
      "0.26199442276742163\n",
      "0.21609052177748586\n",
      "0.1789870397535219\n",
      "0.16878192105322698\n",
      "0.15446483852300721\n",
      "0.1254327666250405\n",
      "0.1222294669414644\n",
      "0.13245460818831395\n",
      "0.13487844485333314\n",
      "0.10215109403515463\n",
      "0.10110969599696515\n",
      "0.1012860346066023\n",
      "0.11325723903536415\n",
      "0.11781427737597272\n",
      "0.2269732597695392\n",
      "0.18899996628342627\n",
      "0.11254202449466734\n",
      "0.13021662336496276\n",
      "0.13053587821332946\n",
      "0.133843309022614\n",
      "0.12038578847943869\n",
      "0.12016772435164098\n",
      "0.11482990073630164\n",
      "0.11435897831238186\n",
      "0.11694403967936694\n"
     ]
    }
   ],
   "source": [
    "# Visually confirm that the list is correctly sorted by decreasing eigenvalues\n",
    "\n",
    "eig_pairs = [(np.abs(eig_vals[i]), eig_vecs[:,i]) for i in range(len(eig_vals))]\n",
    "\n",
    "print('Eigenvalues in descending order:')\n",
    "\n",
    "for i in eig_pairs:\n",
    "    print(i[0])"
   ]
  },
  {
   "cell_type": "markdown",
   "metadata": {},
   "source": [
    "Scree Plot\n",
    "\n",
    "> To gain an informed view of how each principal component explains the variance within the data, we will create a scree plot.\n",
    "\n",
    "> A scree plot displays the variance explained by each principal component."
   ]
  },
  {
   "cell_type": "code",
   "execution_count": 133,
   "metadata": {},
   "outputs": [
    {
     "data": {
      "image/png": "[encoded data removed]",
      "text/plain": [
       "<Figure size 432x288 with 1 Axes>"
      ]
     },
     "metadata": {
      "needs_background": "light"
     },
     "output_type": "display_data"
    }
   ],
   "source": [
    "#Explained variance (CUSTOMERS)\n",
    "\n",
    "pca = PCA()\n",
    "customers_pca = pca.fit_transform(customers_scaled)\n",
    "\n",
    "plt.plot(np.cumsum(pca.explained_variance_ratio_))\n",
    "plt.title('Explained Variance by Each Principal Component - Scree Plot (AZDIAS)')\n",
    "plt.xlabel('Number of Components')\n",
    "plt.ylabel('Cumulative Explained Variance')\n",
    "\n",
    "plt.show()"
   ]
  },
  {
   "cell_type": "markdown",
   "metadata": {},
   "source": [
    "We need to choose the number of components/features we want to keep after PCA.\n",
    "\n",
    "We need to choose a number high enough so that the amount of variance in the dataset that is accounted by the selected components ('principal components') is still relatively high. This ywa, we don't lose too much information from the dataset because of the dimensionality reduction triggered by PCA."
   ]
  },
  {
   "cell_type": "markdown",
   "metadata": {},
   "source": [
    "### From the scree plots above, *150* seems to be an adequate number of components to reduce azdias and customers to."
   ]
  },
  {
   "cell_type": "code",
   "execution_count": 166,
   "metadata": {},
   "outputs": [],
   "source": [
    "def reduce_dimension(df, n=150):\n",
    "    \n",
    "    pca = PCA(n_components=n)\n",
    "    \n",
    "    reduced_df = pca.fit_transform(df)\n",
    "    reduced_df = pd.DataFrame(reduced_df)\n",
    "    \n",
    "    print('The variance in the data explained by the principal components after employing PCA is equal to ' + str(pca.explained_variance_ratio_.sum())) \n",
    "    \n",
    "    return reduced_df"
   ]
  },
  {
   "cell_type": "code",
   "execution_count": 167,
   "metadata": {},
   "outputs": [
    {
     "name": "stdout",
     "output_type": "stream",
     "text": [
      "The variance in the data explained by the principal components after employing PCA is equal to 0.9093084707136746\n"
     ]
    }
   ],
   "source": [
    "reduced_azdias = reduce_dimension(azdias_scaled, n=150)"
   ]
  },
  {
   "cell_type": "code",
   "execution_count": 168,
   "metadata": {},
   "outputs": [
    {
     "name": "stdout",
     "output_type": "stream",
     "text": [
      "The variance in the data explained by the principal components after employing PCA is equal to 0.9037886613509647\n"
     ]
    }
   ],
   "source": [
    "reduced_customers = reduce_dimension(customers_scaled, n=150)"
   ]
  },
  {
   "cell_type": "markdown",
   "metadata": {},
   "source": [
    "Let's check the newly created `reduced_azdias` and `reduced_customers` dataframes."
   ]
  },
  {
   "cell_type": "code",
   "execution_count": 169,
   "metadata": {},
   "outputs": [
    {
     "data": {
      "text/plain": [
       "(737288, 150)"
      ]
     },
     "execution_count": 169,
     "metadata": {},
     "output_type": "execute_result"
    }
   ],
   "source": [
    "reduced_azdias.shape"
   ]
  },
  {
   "cell_type": "code",
   "execution_count": 170,
   "metadata": {},
   "outputs": [
    {
     "data": {
      "text/plain": [
       "(134246, 150)"
      ]
     },
     "execution_count": 170,
     "metadata": {},
     "output_type": "execute_result"
    }
   ],
   "source": [
    "reduced_customers.shape"
   ]
  },
  {
   "cell_type": "markdown",
   "metadata": {},
   "source": [
    "We can see that the number of columns in `reduced_customers` and `reduced_azdias` is 150, as expected after PCA with `n_components=150`."
   ]
  },
  {
   "cell_type": "markdown",
   "metadata": {},
   "source": [
    "### B. Clustering - k-Means Clustering"
   ]
  },
  {
   "cell_type": "markdown",
   "metadata": {},
   "source": [
    "The Elbow Method: Finding the 'Optimal' Number of Clusters"
   ]
  },
  {
   "cell_type": "code",
   "execution_count": 171,
   "metadata": {},
   "outputs": [],
   "source": [
    "def apply_kmeans(data, k):\n",
    "    \"\"\"\n",
    "    Computes the average within-cluster distance for a specified number of clusters (n_clusters)\n",
    "    \n",
    "    INPUT:\n",
    "    - data (array): the resultin array from PCA's fit_transform function\n",
    "    - n_clusters (int): the number of clusters for applying k-means\n",
    "    \n",
    "    OUTPUT:\n",
    "    None\n",
    "    \"\"\"\n",
    "\n",
    "\n",
    "        \n",
    "    kmeans = KMeans(n_clusters=k)\n",
    "    \n",
    "    model = kmeans.fit(data)\n",
    "    \n",
    "    return abs(model.score(data))"
   ]
  },
  {
   "cell_type": "code",
   "execution_count": 172,
   "metadata": {},
   "outputs": [
    {
     "data": {
      "image/png": "[encoded data removed]",
      "text/plain": [
       "<Figure size 432x288 with 1 Axes>"
      ]
     },
     "metadata": {
      "needs_background": "light"
     },
     "output_type": "display_data"
    }
   ],
   "source": [
    "within_cluster_distances = []\n",
    "clusters = [1,2,3,4,5,6,7,8,9,10,11,12,13,14,15]\n",
    "\n",
    "for cluster_num in clusters:\n",
    "    within_cluster_distances.append(apply_kmeans(reduced_azdias.sample(20000), cluster_num))\n",
    "    \n",
    "\n",
    "    \n",
    "plt.plot(clusters, distances, linestyle='-', marker='x', color='blue')\n",
    "\n",
    "plt.xticks(ticks=clusters)\n",
    "plt.xlabel('Number of clusters')\n",
    "plt.ylabel('Average distance to centroid (within-cluster distance)')\n",
    "plt.title('The Elbow Method')\n",
    "\n",
    "plt.show()"
   ]
  },
  {
   "cell_type": "markdown",
   "metadata": {},
   "source": [
    "> The distance decreases as the number of clusters (k) we specify for k-means clustering increases."
   ]
  },
  {
   "cell_type": "code",
   "execution_count": 173,
   "metadata": {},
   "outputs": [
    {
     "data": {
      "text/plain": [
       "[5243844.998011864,\n",
       " 4847917.406479839,\n",
       " 4856796.559894204,\n",
       " 4607103.86695875,\n",
       " 4559633.292557795,\n",
       " 4500932.221600813,\n",
       " 4412967.304454098,\n",
       " 4363790.311693423,\n",
       " 4332580.388612804,\n",
       " 4317290.321666483,\n",
       " 4301923.734770228,\n",
       " 4249003.601781184,\n",
       " 4230069.648311325,\n",
       " 4234920.614770736,\n",
       " 4204823.099300647]"
      ]
     },
     "execution_count": 173,
     "metadata": {},
     "output_type": "execute_result"
    }
   ],
   "source": [
    "within_cluster_distances"
   ]
  },
  {
   "cell_type": "markdown",
   "metadata": {},
   "source": [
    "> From the graph above, using the Elbow Method, we come to the conclusion that **12** is the optimal number of clusters for k-means clustering on azdias."
   ]
  },
  {
   "cell_type": "code",
   "execution_count": 174,
   "metadata": {},
   "outputs": [],
   "source": [
    "n_clusters = 12\n",
    "\n",
    "kmeans = KMeans(n_clusters=n_clusters)"
   ]
  },
  {
   "cell_type": "markdown",
   "metadata": {},
   "source": [
    "For Azdias (General Population) "
   ]
  },
  {
   "cell_type": "code",
   "execution_count": 175,
   "metadata": {},
   "outputs": [],
   "source": [
    "# AZDIAS (the general population)\n",
    "\n",
    "azdias_preds = kmeans.fit_predict(reduced_azdias)"
   ]
  },
  {
   "cell_type": "code",
   "execution_count": 176,
   "metadata": {},
   "outputs": [
    {
     "data": {
      "text/plain": [
       "array([11,  0,  1, ...,  5,  3,  0], dtype=int32)"
      ]
     },
     "execution_count": 176,
     "metadata": {},
     "output_type": "execute_result"
    }
   ],
   "source": [
    "azdias_preds"
   ]
  },
  {
   "cell_type": "code",
   "execution_count": 179,
   "metadata": {},
   "outputs": [],
   "source": [
    "azdias_clustered = pd.DataFrame(azdias_preds, columns = ['Cluster'])\n",
    "\n",
    "azdias_clustered.to_pickle('azdias_clustered.pkl')"
   ]
  },
  {
   "cell_type": "markdown",
   "metadata": {},
   "source": [
    "For Customers (Customer Base)"
   ]
  },
  {
   "cell_type": "code",
   "execution_count": 177,
   "metadata": {},
   "outputs": [],
   "source": [
    "# CUSTOMERS (the customer base)\n",
    "\n",
    "customers_preds = kmeans.fit_predict(reduced_customers)"
   ]
  },
  {
   "cell_type": "code",
   "execution_count": 178,
   "metadata": {},
   "outputs": [
    {
     "data": {
      "text/plain": [
       "array([ 4,  8,  4, ...,  3, 10,  4], dtype=int32)"
      ]
     },
     "execution_count": 178,
     "metadata": {},
     "output_type": "execute_result"
    }
   ],
   "source": [
    "customers_preds"
   ]
  },
  {
   "cell_type": "code",
   "execution_count": 180,
   "metadata": {},
   "outputs": [],
   "source": [
    "customers_clustered = pd.DataFrame(customers_preds, columns = ['Cluster'])\n",
    "\n",
    "customers_clustered.to_pickle('customers_clustered.pkl')"
   ]
  },
  {
   "cell_type": "markdown",
   "metadata": {},
   "source": [
    "### C. Comparing Clusters: General Population (azdias) vs Customer Base (customers) "
   ]
  },
  {
   "cell_type": "markdown",
   "metadata": {},
   "source": [
    "Now, we will look at and compare the distributions of the General Population data (AZDIAS) and Customer Base (CUSTOMERS), in each of the ??? clusters."
   ]
  },
  {
   "cell_type": "code",
   "execution_count": 181,
   "metadata": {},
   "outputs": [],
   "source": [
    "azdias_clusters = pd.Series(azdias_preds)"
   ]
  },
  {
   "cell_type": "code",
   "execution_count": 182,
   "metadata": {},
   "outputs": [],
   "source": [
    "# predicted number of people in each general population cluster/segment\n",
    "# pc = '(general) population cluster'\n",
    "\n",
    "num_pc = azdias_clusters.value_counts().sort_index()"
   ]
  },
  {
   "cell_type": "code",
   "execution_count": 183,
   "metadata": {},
   "outputs": [],
   "source": [
    "customers_clusters = pd.Series(customers_preds)"
   ]
  },
  {
   "cell_type": "code",
   "execution_count": 185,
   "metadata": {},
   "outputs": [],
   "source": [
    "# predicted number of people in each customer cluster/segment\n",
    "# cc = 'customer cluster'\n",
    "\n",
    "num_cc = customers_clusters.value_counts().sort_index()"
   ]
  },
  {
   "cell_type": "markdown",
   "metadata": {},
   "source": [
    "Summary Dataframe (for each cluster)"
   ]
  },
  {
   "cell_type": "code",
   "execution_count": 186,
   "metadata": {},
   "outputs": [],
   "source": [
    "# Create dataframe from population and customer segments\n",
    "\n",
    "summary_df = pd.concat([num_pc, num_cc], axis=1).reset_index()\n",
    "\n",
    "summary_df.columns = ['Cluster #','General Population','Customer Base']"
   ]
  },
  {
   "cell_type": "code",
   "execution_count": 187,
   "metadata": {},
   "outputs": [],
   "source": [
    "# adding percentage columns\n",
    "\n",
    "summary_df['Perct of Total General Pop'] = ( summary_df['General Population'] / (summary_df['General Population'].sum()) * 100 ).round(2)\n",
    "\n",
    "summary_df['Perct of Total Customer Base'] = ( summary_df['Customer Base'] / (summary_df['Customer Base'].sum()) * 100 ).round(2)\n",
    "                                                                                                                                                                                                                                                                                                                                                                                                                                                                                            \n",
    "                                                                                                                               "
   ]
  },
  {
   "cell_type": "code",
   "execution_count": 189,
   "metadata": {},
   "outputs": [
    {
     "data": {
      "image/png": "[encoded data removed]",
      "text/plain": [
       "<Figure size 864x360 with 1 Axes>"
      ]
     },
     "metadata": {
      "needs_background": "light"
     },
     "output_type": "display_data"
    }
   ],
   "source": [
    "fig = plt.figure(figsize=(12,5))\n",
    "\n",
    "ax = fig.add_subplot(111)\n",
    "\n",
    "ax = summary_df['Perct of Total General Pop'].plot(x=summary_df['Cluster #'], width=-0.3, align='edge', color='orange', kind='bar', position=0)\n",
    "ax = summary_df['Perct of Total Customer Base'].plot(kind='bar', color='green', width = 0.3, align='edge', position=1)\n",
    "\n",
    "ax.set_xlabel('Clusters No.', fontsize=15) \n",
    "ax.set_ylabel('Percentage of General Population (orange) / Customer Base (green)', fontsize=15)\n",
    "\n",
    "ax.xaxis.set(ticklabels=range(20))\n",
    "ax.tick_params(axis = 'x', which = 'major', labelsize = 13)\n",
    "ax.margins(x=0.5,y=0.1)\n",
    "\n",
    "plt.legend(('General Population (AZDIAS)', 'Customer Base (CUSTOMERS)'), fontsize=15)\n",
    "plt.title(('% of General Population & Customer Base In Each Cluster'))\n",
    "\n",
    "plt.show()"
   ]
  },
  {
   "cell_type": "markdown",
   "metadata": {},
   "source": [
    "> Cluster 6 is the most overrepresented cluster in the customer data, while cluster 9 is the most underrepresented one in the customer data."
   ]
  },
  {
   "cell_type": "markdown",
   "metadata": {},
   "source": [
    "## Part 2: Supervised Learning Model\n",
    "\n",
    "Now that you've found which parts of the population are more likely to be customers of the mail-order company, it's time to build a prediction model. Each of the rows in the \"MAILOUT\" data files represents an individual that was targeted for a mailout campaign. Ideally, we should be able to use the demographic information from each individual to decide whether or not it will be worth it to include that person in the campaign.\n",
    "\n",
    "The \"MAILOUT\" data has been split into two approximately equal parts, each with almost 43 000 data rows. In this part, you can verify your model with the \"TRAIN\" partition, which includes a column, \"RESPONSE\", that states whether or not a person became a customer of the company following the campaign. In the next part, you'll need to create predictions on the \"TEST\" partition, where the \"RESPONSE\" column has been withheld."
   ]
  },
  {
   "cell_type": "code",
   "execution_count": 125,
   "metadata": {},
   "outputs": [
    {
     "name": "stderr",
     "output_type": "stream",
     "text": [
      "/Users/dilay/opt/anaconda3/lib/python3.7/site-packages/IPython/core/interactiveshell.py:3063: DtypeWarning: Columns (18,19) have mixed types.Specify dtype option on import or set low_memory=False.\n",
      "  interactivity=interactivity, compiler=compiler, result=result)\n"
     ]
    }
   ],
   "source": [
    "mailout_train = pd.read_csv('Udacity_MAILOUT_052018_TRAIN.csv', sep=';')"
   ]
  },
  {
   "cell_type": "code",
   "execution_count": 126,
   "metadata": {},
   "outputs": [
    {
     "data": {
      "text/html": [
       "<div>\n",
       "<style scoped>\n",
       "    .dataframe tbody tr th:only-of-type {\n",
       "        vertical-align: middle;\n",
       "    }\n",
       "\n",
       "    .dataframe tbody tr th {\n",
       "        vertical-align: top;\n",
       "    }\n",
       "\n",
       "    .dataframe thead th {\n",
       "        text-align: right;\n",
       "    }\n",
       "</style>\n",
       "<table border=\"1\" class=\"dataframe\">\n",
       "  <thead>\n",
       "    <tr style=\"text-align: right;\">\n",
       "      <th></th>\n",
       "      <th>LNR</th>\n",
       "      <th>AGER_TYP</th>\n",
       "      <th>AKT_DAT_KL</th>\n",
       "      <th>ALTER_HH</th>\n",
       "      <th>ALTER_KIND1</th>\n",
       "      <th>ALTER_KIND2</th>\n",
       "      <th>ALTER_KIND3</th>\n",
       "      <th>ALTER_KIND4</th>\n",
       "      <th>ALTERSKATEGORIE_FEIN</th>\n",
       "      <th>ANZ_HAUSHALTE_AKTIV</th>\n",
       "      <th>...</th>\n",
       "      <th>VK_DHT4A</th>\n",
       "      <th>VK_DISTANZ</th>\n",
       "      <th>VK_ZG11</th>\n",
       "      <th>W_KEIT_KIND_HH</th>\n",
       "      <th>WOHNDAUER_2008</th>\n",
       "      <th>WOHNLAGE</th>\n",
       "      <th>ZABEOTYP</th>\n",
       "      <th>RESPONSE</th>\n",
       "      <th>ANREDE_KZ</th>\n",
       "      <th>ALTERSKATEGORIE_GROB</th>\n",
       "    </tr>\n",
       "  </thead>\n",
       "  <tbody>\n",
       "    <tr>\n",
       "      <th>0</th>\n",
       "      <td>1763</td>\n",
       "      <td>2</td>\n",
       "      <td>1.0</td>\n",
       "      <td>8.0</td>\n",
       "      <td>NaN</td>\n",
       "      <td>NaN</td>\n",
       "      <td>NaN</td>\n",
       "      <td>NaN</td>\n",
       "      <td>8.0</td>\n",
       "      <td>15.0</td>\n",
       "      <td>...</td>\n",
       "      <td>5.0</td>\n",
       "      <td>2.0</td>\n",
       "      <td>1.0</td>\n",
       "      <td>6.0</td>\n",
       "      <td>9.0</td>\n",
       "      <td>3.0</td>\n",
       "      <td>3</td>\n",
       "      <td>0</td>\n",
       "      <td>2</td>\n",
       "      <td>4</td>\n",
       "    </tr>\n",
       "    <tr>\n",
       "      <th>1</th>\n",
       "      <td>1771</td>\n",
       "      <td>1</td>\n",
       "      <td>4.0</td>\n",
       "      <td>13.0</td>\n",
       "      <td>NaN</td>\n",
       "      <td>NaN</td>\n",
       "      <td>NaN</td>\n",
       "      <td>NaN</td>\n",
       "      <td>13.0</td>\n",
       "      <td>1.0</td>\n",
       "      <td>...</td>\n",
       "      <td>1.0</td>\n",
       "      <td>2.0</td>\n",
       "      <td>1.0</td>\n",
       "      <td>4.0</td>\n",
       "      <td>9.0</td>\n",
       "      <td>7.0</td>\n",
       "      <td>1</td>\n",
       "      <td>0</td>\n",
       "      <td>2</td>\n",
       "      <td>3</td>\n",
       "    </tr>\n",
       "    <tr>\n",
       "      <th>2</th>\n",
       "      <td>1776</td>\n",
       "      <td>1</td>\n",
       "      <td>1.0</td>\n",
       "      <td>9.0</td>\n",
       "      <td>NaN</td>\n",
       "      <td>NaN</td>\n",
       "      <td>NaN</td>\n",
       "      <td>NaN</td>\n",
       "      <td>7.0</td>\n",
       "      <td>0.0</td>\n",
       "      <td>...</td>\n",
       "      <td>6.0</td>\n",
       "      <td>4.0</td>\n",
       "      <td>2.0</td>\n",
       "      <td>NaN</td>\n",
       "      <td>9.0</td>\n",
       "      <td>2.0</td>\n",
       "      <td>3</td>\n",
       "      <td>0</td>\n",
       "      <td>1</td>\n",
       "      <td>4</td>\n",
       "    </tr>\n",
       "    <tr>\n",
       "      <th>3</th>\n",
       "      <td>1460</td>\n",
       "      <td>2</td>\n",
       "      <td>1.0</td>\n",
       "      <td>6.0</td>\n",
       "      <td>NaN</td>\n",
       "      <td>NaN</td>\n",
       "      <td>NaN</td>\n",
       "      <td>NaN</td>\n",
       "      <td>6.0</td>\n",
       "      <td>4.0</td>\n",
       "      <td>...</td>\n",
       "      <td>8.0</td>\n",
       "      <td>11.0</td>\n",
       "      <td>11.0</td>\n",
       "      <td>6.0</td>\n",
       "      <td>9.0</td>\n",
       "      <td>1.0</td>\n",
       "      <td>3</td>\n",
       "      <td>0</td>\n",
       "      <td>2</td>\n",
       "      <td>4</td>\n",
       "    </tr>\n",
       "    <tr>\n",
       "      <th>4</th>\n",
       "      <td>1783</td>\n",
       "      <td>2</td>\n",
       "      <td>1.0</td>\n",
       "      <td>9.0</td>\n",
       "      <td>NaN</td>\n",
       "      <td>NaN</td>\n",
       "      <td>NaN</td>\n",
       "      <td>NaN</td>\n",
       "      <td>9.0</td>\n",
       "      <td>53.0</td>\n",
       "      <td>...</td>\n",
       "      <td>2.0</td>\n",
       "      <td>2.0</td>\n",
       "      <td>1.0</td>\n",
       "      <td>6.0</td>\n",
       "      <td>9.0</td>\n",
       "      <td>3.0</td>\n",
       "      <td>3</td>\n",
       "      <td>0</td>\n",
       "      <td>1</td>\n",
       "      <td>3</td>\n",
       "    </tr>\n",
       "  </tbody>\n",
       "</table>\n",
       "<p>5 rows × 367 columns</p>\n",
       "</div>"
      ],
      "text/plain": [
       "    LNR  AGER_TYP  AKT_DAT_KL  ALTER_HH  ALTER_KIND1  ALTER_KIND2  \\\n",
       "0  1763         2         1.0       8.0          NaN          NaN   \n",
       "1  1771         1         4.0      13.0          NaN          NaN   \n",
       "2  1776         1         1.0       9.0          NaN          NaN   \n",
       "3  1460         2         1.0       6.0          NaN          NaN   \n",
       "4  1783         2         1.0       9.0          NaN          NaN   \n",
       "\n",
       "   ALTER_KIND3  ALTER_KIND4  ALTERSKATEGORIE_FEIN  ANZ_HAUSHALTE_AKTIV  ...  \\\n",
       "0          NaN          NaN                   8.0                 15.0  ...   \n",
       "1          NaN          NaN                  13.0                  1.0  ...   \n",
       "2          NaN          NaN                   7.0                  0.0  ...   \n",
       "3          NaN          NaN                   6.0                  4.0  ...   \n",
       "4          NaN          NaN                   9.0                 53.0  ...   \n",
       "\n",
       "   VK_DHT4A  VK_DISTANZ  VK_ZG11  W_KEIT_KIND_HH  WOHNDAUER_2008  WOHNLAGE  \\\n",
       "0       5.0         2.0      1.0             6.0             9.0       3.0   \n",
       "1       1.0         2.0      1.0             4.0             9.0       7.0   \n",
       "2       6.0         4.0      2.0             NaN             9.0       2.0   \n",
       "3       8.0        11.0     11.0             6.0             9.0       1.0   \n",
       "4       2.0         2.0      1.0             6.0             9.0       3.0   \n",
       "\n",
       "   ZABEOTYP RESPONSE ANREDE_KZ ALTERSKATEGORIE_GROB  \n",
       "0         3        0         2                    4  \n",
       "1         1        0         2                    3  \n",
       "2         3        0         1                    4  \n",
       "3         3        0         2                    4  \n",
       "4         3        0         1                    3  \n",
       "\n",
       "[5 rows x 367 columns]"
      ]
     },
     "execution_count": 126,
     "metadata": {},
     "output_type": "execute_result"
    }
   ],
   "source": [
    "mailout_train.head()"
   ]
  },
  {
   "cell_type": "code",
   "execution_count": 127,
   "metadata": {},
   "outputs": [
    {
     "data": {
      "text/plain": [
       "(42962, 367)"
      ]
     },
     "execution_count": 127,
     "metadata": {},
     "output_type": "execute_result"
    }
   ],
   "source": [
    "mailout_train.shape"
   ]
  },
  {
   "cell_type": "code",
   "execution_count": 128,
   "metadata": {},
   "outputs": [],
   "source": [
    "mailout_train_LNR = mailout_train['LNR']\n",
    "\n",
    "# mailout_train.drop(labels=['LNR'], axis=1, inplace=True)"
   ]
  },
  {
   "cell_type": "markdown",
   "metadata": {},
   "source": [
    "### Dealing with Class Imbalance"
   ]
  },
  {
   "cell_type": "code",
   "execution_count": 129,
   "metadata": {},
   "outputs": [
    {
     "data": {
      "text/plain": [
       "<matplotlib.axes._subplots.AxesSubplot at 0x1a342a4ed0>"
      ]
     },
     "execution_count": 129,
     "metadata": {},
     "output_type": "execute_result"
    },
    {
     "data": {
      "image/png": "[encoded data removed]",
      "text/plain": [
       "<Figure size 432x288 with 1 Axes>"
      ]
     },
     "metadata": {
      "needs_background": "light"
     },
     "output_type": "display_data"
    }
   ],
   "source": [
    "sns.countplot('RESPONSE', data=mailout_train)"
   ]
  },
  {
   "cell_type": "markdown",
   "metadata": {},
   "source": [
    "> From the graph above, we can clearly see the class imbalance in the `mailout_train` dataset, with nearly all responses being 0 (i.e. not becoming a customer). "
   ]
  },
  {
   "cell_type": "code",
   "execution_count": 130,
   "metadata": {},
   "outputs": [],
   "source": [
    "Yes_Customer = mailout_train[mailout_train['RESPONSE']==1] \n",
    "\n",
    "No_Customer = mailout_train[mailout_train['RESPONSE']==0]"
   ]
  },
  {
   "cell_type": "code",
   "execution_count": 131,
   "metadata": {},
   "outputs": [],
   "source": [
    "Yes_Customer_balanced = resample(Yes_Customer, replace=True, n_samples=42430, random_state=1) "
   ]
  },
  {
   "cell_type": "code",
   "execution_count": 132,
   "metadata": {},
   "outputs": [],
   "source": [
    "# Combine Yes_Customer_balanced and No_Customer data set \n",
    "\n",
    "mailout_train_balanced = pd.concat([No_Customer, Yes_Customer_balanced])"
   ]
  },
  {
   "cell_type": "code",
   "execution_count": 133,
   "metadata": {},
   "outputs": [
    {
     "data": {
      "text/plain": [
       "0        0\n",
       "1        0\n",
       "2        0\n",
       "3        0\n",
       "4        0\n",
       "        ..\n",
       "38176    1\n",
       "2506     1\n",
       "21762    1\n",
       "9517     1\n",
       "35633    1\n",
       "Name: RESPONSE, Length: 84860, dtype: int64"
      ]
     },
     "execution_count": 133,
     "metadata": {},
     "output_type": "execute_result"
    }
   ],
   "source": [
    "mailout_train_balanced['RESPONSE']"
   ]
  },
  {
   "cell_type": "markdown",
   "metadata": {},
   "source": [
    "### Cleaning & Preprocessing Training Data"
   ]
  },
  {
   "cell_type": "code",
   "execution_count": 134,
   "metadata": {},
   "outputs": [],
   "source": [
    "# Define the labels (y) to be the response column, and drop it from mailout_train_balanced\n",
    "\n",
    "y_label = mailout_train_balanced['RESPONSE']\n",
    "\n",
    "mailout_train_balanced.drop(labels=['RESPONSE'], axis=1, inplace=True)"
   ]
  },
  {
   "cell_type": "code",
   "execution_count": 135,
   "metadata": {},
   "outputs": [],
   "source": [
    "# modified cleaning_function(): deleted 'dropping not described features'\n",
    "\n",
    "def cleaning_function_2(df, attributes_info, not_described_features, columns_to_drop, nan_threshold=0.2):\n",
    "    \"\"\"\n",
    "    Cleans and Preprocess a DataFrame df:\n",
    "    - Drop features that are not described (described features summarised in attributes_info)\n",
    "    - Convert missing and unknown values to NaN\n",
    "    - Drop columns (so, features) with high percentage of NaN values (relative to nan_threshold)\n",
    "    - Drop rows with high percentage of NaN values (relative to nan_threshold)\n",
    "    - Re-encode categorical features and mixed features\n",
    "\n",
    "    INPUT:\n",
    "    - df (DataFrame): the DataFrame to be cleaned and preprocessed\n",
    "    - attributes_info (DataFrame): the DataFrame containing the features information/description (Attribute, Type, Unknown_Values)\n",
    "    - not_described_features (list): list of features to be dropped because they are not described (not in attributes_info)\n",
    "    - columns_to_drop (list): list of columns/features to be dropped because of a high percentage of NaN values (computed in prior steps)\n",
    "    \n",
    "    OUTPUT:\n",
    "    - df (DataFrame): cleaned and preprocessed DataFrame\n",
    "    \"\"\"\n",
    "    \n",
    "    # drop features that are not described \n",
    "    df.drop(labels=not_described_features, axis=1, inplace=True)\n",
    "    \n",
    "    \n",
    "    # for column in df.columns:\n",
    "        # if df[column].dtype == np.int64:\n",
    "            # df[column] = df[column].astype(np.float64)\n",
    "    \n",
    "        \n",
    "    unknown_series = pd.Series(attributes_info['Unknown_Values'].values, index=attributes_info['Attribute'])\n",
    "    # convert missing and unknown values to NaN values\n",
    "    for column in df.columns:\n",
    "        isin = ast.literal_eval(unknown_series[column])\n",
    "        df[column] = df[column].mask(df[column].isin(isin), other=np.nan)\n",
    "            \n",
    "    \n",
    "    # drop columns with percentage of NaN values higher than threshold (nan_threshold)   \n",
    "    drop_columns = []\n",
    "    for column in columns_to_drop:\n",
    "        if column not in not_described_features:\n",
    "            drop_columns.append(column)\n",
    "            \n",
    "        \n",
    "    df.drop(labels=drop_columns, axis=1, inplace=True)\n",
    "    \n",
    "    # drop rows with percentage of NaN values higher than threshold (nan_threshold)   \n",
    "    # missing_perct_row = df.isnull().mean(axis=1)\n",
    "    # df = df[missing_perct_row < nan_threshold]\n",
    "    \n",
    "    \n",
    "    # categorical features of df\n",
    "    cat_feat_df = [] # categorical features (in attributes_info) that are also in df\n",
    "    for cat_feat in categorical_features_attributes:\n",
    "        if cat_feat in df.columns:\n",
    "            cat_feat_df.append(cat_feat)\n",
    "    \n",
    "    # mixed features of df\n",
    "    mixed_feat_df = [] # mixed features (in attributes_info) that are also in df\n",
    "    for mixed_feat in mixed_features_attributes:\n",
    "        if mixed_feat in df.columns:\n",
    "            mixed_feat_df.append(mixed_feat)\n",
    "\n",
    "            \n",
    "    ### df categorical features re-encoding ###\n",
    "    binary_num_attributes = []\n",
    "    binary_non_num_attributes = []\n",
    "    multi_level_attributes = []\n",
    "\n",
    "    for attribute in cat_feat_df:\n",
    "        dtype = df[attribute].dtype\n",
    "        count = len(df[attribute].value_counts())\n",
    "\n",
    "        # if multi-level categorical feature\n",
    "        if count > 2:\n",
    "            multi_level_attributes.append(attribute)\n",
    "        else:\n",
    "            if dtype == 'object':\n",
    "                binary_non_num_attributes.append(attribute)\n",
    "            else:\n",
    "                binary_num_attributes.append(attribute)\n",
    "    \n",
    "    # re-encode binary string (non-numerical) feature into numerical values         \n",
    "    df['OST_WEST_KZ'] = df['OST_WEST_KZ'].map({'W': 1, 'O': 2})\n",
    "    \n",
    "    # re-encode multi-level categorical features\n",
    "    list_columns_to_add = []\n",
    "\n",
    "    for column in multi_level_attributes:\n",
    "        \n",
    "        # get rid of multi-level categorical columns with more than 10 levels\n",
    "        if len(df[column].value_counts()) < 10:\n",
    "            list_columns_to_add.append(pd.get_dummies(df[column], prefix=column))\n",
    "    \n",
    "    \n",
    "    df.drop(multi_level_attributes, axis=1, inplace=True)\n",
    "\n",
    "    list_columns_to_add.append(df) \n",
    "\n",
    "    df = pd.concat(list_columns_to_add, axis=1)\n",
    "    \n",
    "    \n",
    "    ### df mixed features re-encoding ###\n",
    "    \n",
    "    # Re-encoding PRAEGENDE_JUGENDJAHRE feature\n",
    "    df['PRAEGENDE_JUGENDJAHRE'] = df['PRAEGENDE_JUGENDJAHRE'].apply(lambda x: encode_pj(x))\n",
    "    df.drop('PRAEGENDE_JUGENDJAHRE', axis=1, inplace=True)\n",
    "    \n",
    "    # Dropping LP_LEBENSPHASE_FEIN and LP_LEBENSPHASE_GROB features\n",
    "    df.drop(['LP_LEBENSPHASE_FEIN', 'LP_LEBENSPHASE_GROB'], axis=1, inplace=True)\n",
    "    \n",
    "    # Re-encoding CAMEO_INTL_2015 feature\n",
    "    df['WEALTH_LEVEL'] = df['CAMEO_INTL_2015'].apply(lambda x: np.floor(pd.to_numeric(x)/10))\n",
    "    df['STATUS'] = df['CAMEO_INTL_2015'].apply(lambda x: pd.to_numeric(x)%10)\n",
    "    df.drop('CAMEO_INTL_2015', axis=1, inplace=True)\n",
    "    \n",
    "\n",
    "    \n",
    "    return df"
   ]
  },
  {
   "cell_type": "code",
   "execution_count": 136,
   "metadata": {},
   "outputs": [],
   "source": [
    "# from Part 0 \n",
    "# attributes_info = "
   ]
  },
  {
   "cell_type": "code",
   "execution_count": 137,
   "metadata": {},
   "outputs": [],
   "source": [
    "# from Part 0 azdias_not_described\n",
    "not_described_features = ['UMFELD_ALT',\n",
    "                          'ALTER_KIND2',\n",
    "                          'CJT_TYP_5',\n",
    "                          'CJT_TYP_6',\n",
    "                          'AKT_DAT_KL',\n",
    "                          'ALTER_KIND4',\n",
    "                          'D19_LETZTER_KAUF_BRANCHE',\n",
    "                          'STRUKTURTYP',\n",
    "                          'D19_KONSUMTYP_MAX',\n",
    "                          'CJT_TYP_2',\n",
    "                          'VK_DHT4A',\n",
    "                          'CJT_KATALOGNUTZER',\n",
    "                          'RT_UEBERGROESSE',\n",
    "                          'UMFELD_JUNG',\n",
    "                          'LNR',\n",
    "                          'EXTSEL992',\n",
    "                          'FIRMENDICHTE',\n",
    "                          'VHN',\n",
    "                          'EINGEFUEGT_AM',\n",
    "                          'GEMEINDETYP',\n",
    "                          'CJT_TYP_4',\n",
    "                          'CJT_TYP_3',\n",
    "                          'RT_KEIN_ANREIZ',\n",
    "                          'VHA',\n",
    "                          'CJT_TYP_1',\n",
    "                          'VK_ZG11',\n",
    "                          'KOMBIALTER',\n",
    "                          'VK_DISTANZ',\n",
    "                          'VERDICHTUNGSRAUM',\n",
    "                          'RT_SCHNAEPPCHEN',\n",
    "                          'ALTER_KIND3',\n",
    "                          'ALTER_KIND1'\n",
    "                         ]"
   ]
  },
  {
   "cell_type": "code",
   "execution_count": 138,
   "metadata": {},
   "outputs": [],
   "source": [
    "#columns_to_drop\n",
    "\n",
    "missing_perct_column = mailout_train_balanced.isnull().mean(axis=0)\n",
    "\n",
    "columns_to_drop = missing_perct_column[missing_perct_column > 0.2].index"
   ]
  },
  {
   "cell_type": "code",
   "execution_count": 139,
   "metadata": {},
   "outputs": [
    {
     "data": {
      "text/plain": [
       "LNR                     0.000000\n",
       "AGER_TYP                0.000000\n",
       "AKT_DAT_KL              0.159133\n",
       "ALTER_HH                0.159133\n",
       "ALTER_KIND1             0.956446\n",
       "                          ...   \n",
       "WOHNDAUER_2008          0.159133\n",
       "WOHNLAGE                0.178388\n",
       "ZABEOTYP                0.000000\n",
       "ANREDE_KZ               0.000000\n",
       "ALTERSKATEGORIE_GROB    0.000000\n",
       "Length: 366, dtype: float64"
      ]
     },
     "execution_count": 139,
     "metadata": {},
     "output_type": "execute_result"
    }
   ],
   "source": [
    "missing_perct_column"
   ]
  },
  {
   "cell_type": "code",
   "execution_count": 140,
   "metadata": {},
   "outputs": [
    {
     "data": {
      "text/plain": [
       "Index(['ALTER_KIND1', 'ALTER_KIND2', 'ALTER_KIND3', 'ALTER_KIND4', 'EXTSEL992',\n",
       "       'HH_DELTA_FLAG', 'KBA05_ALTER1', 'KBA05_ALTER2', 'KBA05_ALTER3',\n",
       "       'KBA05_ALTER4', 'KBA05_ANHANG', 'KBA05_ANTG1', 'KBA05_ANTG2',\n",
       "       'KBA05_ANTG3', 'KBA05_ANTG4', 'KBA05_AUTOQUOT', 'KBA05_BAUMAX',\n",
       "       'KBA05_CCM1', 'KBA05_CCM2', 'KBA05_CCM3', 'KBA05_CCM4', 'KBA05_DIESEL',\n",
       "       'KBA05_FRAU', 'KBA05_GBZ', 'KBA05_HERST1', 'KBA05_HERST2',\n",
       "       'KBA05_HERST3', 'KBA05_HERST4', 'KBA05_HERST5', 'KBA05_KRSAQUOT',\n",
       "       'KBA05_KRSHERST1', 'KBA05_KRSHERST2', 'KBA05_KRSHERST3',\n",
       "       'KBA05_KRSKLEIN', 'KBA05_KRSOBER', 'KBA05_KRSVAN', 'KBA05_KRSZUL',\n",
       "       'KBA05_KW1', 'KBA05_KW2', 'KBA05_KW3', 'KBA05_MAXAH', 'KBA05_MAXBJ',\n",
       "       'KBA05_MAXHERST', 'KBA05_MAXSEG', 'KBA05_MAXVORB', 'KBA05_MOD1',\n",
       "       'KBA05_MOD2', 'KBA05_MOD3', 'KBA05_MOD4', 'KBA05_MOD8', 'KBA05_MOTOR',\n",
       "       'KBA05_MOTRAD', 'KBA05_SEG1', 'KBA05_SEG10', 'KBA05_SEG2', 'KBA05_SEG3',\n",
       "       'KBA05_SEG4', 'KBA05_SEG5', 'KBA05_SEG6', 'KBA05_SEG7', 'KBA05_SEG8',\n",
       "       'KBA05_SEG9', 'KBA05_VORB0', 'KBA05_VORB1', 'KBA05_VORB2', 'KBA05_ZUL1',\n",
       "       'KBA05_ZUL2', 'KBA05_ZUL3', 'KBA05_ZUL4', 'KK_KUNDENTYP', 'MOBI_REGIO',\n",
       "       'W_KEIT_KIND_HH'],\n",
       "      dtype='object')"
      ]
     },
     "execution_count": 140,
     "metadata": {},
     "output_type": "execute_result"
    }
   ],
   "source": [
    "columns_to_drop"
   ]
  },
  {
   "cell_type": "code",
   "execution_count": 141,
   "metadata": {},
   "outputs": [],
   "source": [
    "# mailout_train_balanced.drop(labels=['AKT_DAT_KL'], axis=1, inplace=True)"
   ]
  },
  {
   "cell_type": "code",
   "execution_count": 142,
   "metadata": {},
   "outputs": [],
   "source": [
    "train = cleaning_function_2(mailout_train_balanced, attributes_info, not_described_features, columns_to_drop, nan_threshold=0.2)"
   ]
  },
  {
   "cell_type": "code",
   "execution_count": 143,
   "metadata": {},
   "outputs": [
    {
     "data": {
      "text/html": [
       "<div>\n",
       "<style scoped>\n",
       "    .dataframe tbody tr th:only-of-type {\n",
       "        vertical-align: middle;\n",
       "    }\n",
       "\n",
       "    .dataframe tbody tr th {\n",
       "        vertical-align: top;\n",
       "    }\n",
       "\n",
       "    .dataframe thead th {\n",
       "        text-align: right;\n",
       "    }\n",
       "</style>\n",
       "<table border=\"1\" class=\"dataframe\">\n",
       "  <thead>\n",
       "    <tr style=\"text-align: right;\">\n",
       "      <th></th>\n",
       "      <th>AGER_TYP_1.0</th>\n",
       "      <th>AGER_TYP_2.0</th>\n",
       "      <th>AGER_TYP_3.0</th>\n",
       "      <th>CJT_GESAMTTYP_1.0</th>\n",
       "      <th>CJT_GESAMTTYP_2.0</th>\n",
       "      <th>CJT_GESAMTTYP_3.0</th>\n",
       "      <th>CJT_GESAMTTYP_4.0</th>\n",
       "      <th>CJT_GESAMTTYP_5.0</th>\n",
       "      <th>CJT_GESAMTTYP_6.0</th>\n",
       "      <th>D19_KONSUMTYP_1.0</th>\n",
       "      <th>...</th>\n",
       "      <th>SEMIO_VERT</th>\n",
       "      <th>SOHO_KZ</th>\n",
       "      <th>UNGLEICHENN_FLAG</th>\n",
       "      <th>VERS_TYP</th>\n",
       "      <th>WOHNDAUER_2008</th>\n",
       "      <th>WOHNLAGE</th>\n",
       "      <th>ANREDE_KZ</th>\n",
       "      <th>ALTERSKATEGORIE_GROB</th>\n",
       "      <th>WEALTH_LEVEL</th>\n",
       "      <th>STATUS</th>\n",
       "    </tr>\n",
       "  </thead>\n",
       "  <tbody>\n",
       "    <tr>\n",
       "      <th>0</th>\n",
       "      <td>0</td>\n",
       "      <td>1</td>\n",
       "      <td>0</td>\n",
       "      <td>0</td>\n",
       "      <td>1</td>\n",
       "      <td>0</td>\n",
       "      <td>0</td>\n",
       "      <td>0</td>\n",
       "      <td>0</td>\n",
       "      <td>0</td>\n",
       "      <td>...</td>\n",
       "      <td>3</td>\n",
       "      <td>0.0</td>\n",
       "      <td>0.0</td>\n",
       "      <td>2.0</td>\n",
       "      <td>9.0</td>\n",
       "      <td>3.0</td>\n",
       "      <td>2</td>\n",
       "      <td>4.0</td>\n",
       "      <td>3.0</td>\n",
       "      <td>4.0</td>\n",
       "    </tr>\n",
       "    <tr>\n",
       "      <th>1</th>\n",
       "      <td>1</td>\n",
       "      <td>0</td>\n",
       "      <td>0</td>\n",
       "      <td>0</td>\n",
       "      <td>1</td>\n",
       "      <td>0</td>\n",
       "      <td>0</td>\n",
       "      <td>0</td>\n",
       "      <td>0</td>\n",
       "      <td>1</td>\n",
       "      <td>...</td>\n",
       "      <td>4</td>\n",
       "      <td>0.0</td>\n",
       "      <td>0.0</td>\n",
       "      <td>1.0</td>\n",
       "      <td>9.0</td>\n",
       "      <td>7.0</td>\n",
       "      <td>2</td>\n",
       "      <td>3.0</td>\n",
       "      <td>3.0</td>\n",
       "      <td>2.0</td>\n",
       "    </tr>\n",
       "    <tr>\n",
       "      <th>2</th>\n",
       "      <td>1</td>\n",
       "      <td>0</td>\n",
       "      <td>0</td>\n",
       "      <td>0</td>\n",
       "      <td>0</td>\n",
       "      <td>0</td>\n",
       "      <td>1</td>\n",
       "      <td>0</td>\n",
       "      <td>0</td>\n",
       "      <td>0</td>\n",
       "      <td>...</td>\n",
       "      <td>7</td>\n",
       "      <td>0.0</td>\n",
       "      <td>0.0</td>\n",
       "      <td>1.0</td>\n",
       "      <td>9.0</td>\n",
       "      <td>2.0</td>\n",
       "      <td>1</td>\n",
       "      <td>4.0</td>\n",
       "      <td>1.0</td>\n",
       "      <td>4.0</td>\n",
       "    </tr>\n",
       "    <tr>\n",
       "      <th>3</th>\n",
       "      <td>0</td>\n",
       "      <td>1</td>\n",
       "      <td>0</td>\n",
       "      <td>0</td>\n",
       "      <td>1</td>\n",
       "      <td>0</td>\n",
       "      <td>0</td>\n",
       "      <td>0</td>\n",
       "      <td>0</td>\n",
       "      <td>0</td>\n",
       "      <td>...</td>\n",
       "      <td>2</td>\n",
       "      <td>0.0</td>\n",
       "      <td>0.0</td>\n",
       "      <td>2.0</td>\n",
       "      <td>9.0</td>\n",
       "      <td>1.0</td>\n",
       "      <td>2</td>\n",
       "      <td>4.0</td>\n",
       "      <td>1.0</td>\n",
       "      <td>4.0</td>\n",
       "    </tr>\n",
       "    <tr>\n",
       "      <th>4</th>\n",
       "      <td>0</td>\n",
       "      <td>1</td>\n",
       "      <td>0</td>\n",
       "      <td>0</td>\n",
       "      <td>0</td>\n",
       "      <td>0</td>\n",
       "      <td>0</td>\n",
       "      <td>0</td>\n",
       "      <td>1</td>\n",
       "      <td>0</td>\n",
       "      <td>...</td>\n",
       "      <td>7</td>\n",
       "      <td>0.0</td>\n",
       "      <td>0.0</td>\n",
       "      <td>1.0</td>\n",
       "      <td>9.0</td>\n",
       "      <td>3.0</td>\n",
       "      <td>1</td>\n",
       "      <td>3.0</td>\n",
       "      <td>4.0</td>\n",
       "      <td>1.0</td>\n",
       "    </tr>\n",
       "  </tbody>\n",
       "</table>\n",
       "<p>5 rows × 304 columns</p>\n",
       "</div>"
      ],
      "text/plain": [
       "   AGER_TYP_1.0  AGER_TYP_2.0  AGER_TYP_3.0  CJT_GESAMTTYP_1.0  \\\n",
       "0             0             1             0                  0   \n",
       "1             1             0             0                  0   \n",
       "2             1             0             0                  0   \n",
       "3             0             1             0                  0   \n",
       "4             0             1             0                  0   \n",
       "\n",
       "   CJT_GESAMTTYP_2.0  CJT_GESAMTTYP_3.0  CJT_GESAMTTYP_4.0  CJT_GESAMTTYP_5.0  \\\n",
       "0                  1                  0                  0                  0   \n",
       "1                  1                  0                  0                  0   \n",
       "2                  0                  0                  1                  0   \n",
       "3                  1                  0                  0                  0   \n",
       "4                  0                  0                  0                  0   \n",
       "\n",
       "   CJT_GESAMTTYP_6.0  D19_KONSUMTYP_1.0  ...  SEMIO_VERT  SOHO_KZ  \\\n",
       "0                  0                  0  ...           3      0.0   \n",
       "1                  0                  1  ...           4      0.0   \n",
       "2                  0                  0  ...           7      0.0   \n",
       "3                  0                  0  ...           2      0.0   \n",
       "4                  1                  0  ...           7      0.0   \n",
       "\n",
       "   UNGLEICHENN_FLAG  VERS_TYP  WOHNDAUER_2008  WOHNLAGE  ANREDE_KZ  \\\n",
       "0               0.0       2.0             9.0       3.0          2   \n",
       "1               0.0       1.0             9.0       7.0          2   \n",
       "2               0.0       1.0             9.0       2.0          1   \n",
       "3               0.0       2.0             9.0       1.0          2   \n",
       "4               0.0       1.0             9.0       3.0          1   \n",
       "\n",
       "   ALTERSKATEGORIE_GROB  WEALTH_LEVEL  STATUS  \n",
       "0                   4.0           3.0     4.0  \n",
       "1                   3.0           3.0     2.0  \n",
       "2                   4.0           1.0     4.0  \n",
       "3                   4.0           1.0     4.0  \n",
       "4                   3.0           4.0     1.0  \n",
       "\n",
       "[5 rows x 304 columns]"
      ]
     },
     "execution_count": 143,
     "metadata": {},
     "output_type": "execute_result"
    }
   ],
   "source": [
    "train.head()"
   ]
  },
  {
   "cell_type": "code",
   "execution_count": 144,
   "metadata": {},
   "outputs": [
    {
     "data": {
      "text/plain": [
       "(84860, 304)"
      ]
     },
     "execution_count": 144,
     "metadata": {},
     "output_type": "execute_result"
    }
   ],
   "source": [
    "train.shape"
   ]
  },
  {
   "cell_type": "code",
   "execution_count": 145,
   "metadata": {},
   "outputs": [],
   "source": [
    "# Imputation \n",
    "\n",
    "imputer = SimpleImputer(missing_values=np.nan, strategy='median')\n",
    "\n",
    "train = pd.DataFrame(imputer.fit_transform(train))"
   ]
  },
  {
   "cell_type": "code",
   "execution_count": 146,
   "metadata": {},
   "outputs": [
    {
     "data": {
      "text/html": [
       "<div>\n",
       "<style scoped>\n",
       "    .dataframe tbody tr th:only-of-type {\n",
       "        vertical-align: middle;\n",
       "    }\n",
       "\n",
       "    .dataframe tbody tr th {\n",
       "        vertical-align: top;\n",
       "    }\n",
       "\n",
       "    .dataframe thead th {\n",
       "        text-align: right;\n",
       "    }\n",
       "</style>\n",
       "<table border=\"1\" class=\"dataframe\">\n",
       "  <thead>\n",
       "    <tr style=\"text-align: right;\">\n",
       "      <th></th>\n",
       "      <th>0</th>\n",
       "      <th>1</th>\n",
       "      <th>2</th>\n",
       "      <th>3</th>\n",
       "      <th>4</th>\n",
       "      <th>5</th>\n",
       "      <th>6</th>\n",
       "      <th>7</th>\n",
       "      <th>8</th>\n",
       "      <th>9</th>\n",
       "      <th>...</th>\n",
       "      <th>294</th>\n",
       "      <th>295</th>\n",
       "      <th>296</th>\n",
       "      <th>297</th>\n",
       "      <th>298</th>\n",
       "      <th>299</th>\n",
       "      <th>300</th>\n",
       "      <th>301</th>\n",
       "      <th>302</th>\n",
       "      <th>303</th>\n",
       "    </tr>\n",
       "  </thead>\n",
       "  <tbody>\n",
       "    <tr>\n",
       "      <th>0</th>\n",
       "      <td>0.0</td>\n",
       "      <td>1.0</td>\n",
       "      <td>0.0</td>\n",
       "      <td>0.0</td>\n",
       "      <td>1.0</td>\n",
       "      <td>0.0</td>\n",
       "      <td>0.0</td>\n",
       "      <td>0.0</td>\n",
       "      <td>0.0</td>\n",
       "      <td>0.0</td>\n",
       "      <td>...</td>\n",
       "      <td>3.0</td>\n",
       "      <td>0.0</td>\n",
       "      <td>0.0</td>\n",
       "      <td>2.0</td>\n",
       "      <td>9.0</td>\n",
       "      <td>3.0</td>\n",
       "      <td>2.0</td>\n",
       "      <td>4.0</td>\n",
       "      <td>3.0</td>\n",
       "      <td>4.0</td>\n",
       "    </tr>\n",
       "    <tr>\n",
       "      <th>1</th>\n",
       "      <td>1.0</td>\n",
       "      <td>0.0</td>\n",
       "      <td>0.0</td>\n",
       "      <td>0.0</td>\n",
       "      <td>1.0</td>\n",
       "      <td>0.0</td>\n",
       "      <td>0.0</td>\n",
       "      <td>0.0</td>\n",
       "      <td>0.0</td>\n",
       "      <td>1.0</td>\n",
       "      <td>...</td>\n",
       "      <td>4.0</td>\n",
       "      <td>0.0</td>\n",
       "      <td>0.0</td>\n",
       "      <td>1.0</td>\n",
       "      <td>9.0</td>\n",
       "      <td>7.0</td>\n",
       "      <td>2.0</td>\n",
       "      <td>3.0</td>\n",
       "      <td>3.0</td>\n",
       "      <td>2.0</td>\n",
       "    </tr>\n",
       "    <tr>\n",
       "      <th>2</th>\n",
       "      <td>1.0</td>\n",
       "      <td>0.0</td>\n",
       "      <td>0.0</td>\n",
       "      <td>0.0</td>\n",
       "      <td>0.0</td>\n",
       "      <td>0.0</td>\n",
       "      <td>1.0</td>\n",
       "      <td>0.0</td>\n",
       "      <td>0.0</td>\n",
       "      <td>0.0</td>\n",
       "      <td>...</td>\n",
       "      <td>7.0</td>\n",
       "      <td>0.0</td>\n",
       "      <td>0.0</td>\n",
       "      <td>1.0</td>\n",
       "      <td>9.0</td>\n",
       "      <td>2.0</td>\n",
       "      <td>1.0</td>\n",
       "      <td>4.0</td>\n",
       "      <td>1.0</td>\n",
       "      <td>4.0</td>\n",
       "    </tr>\n",
       "    <tr>\n",
       "      <th>3</th>\n",
       "      <td>0.0</td>\n",
       "      <td>1.0</td>\n",
       "      <td>0.0</td>\n",
       "      <td>0.0</td>\n",
       "      <td>1.0</td>\n",
       "      <td>0.0</td>\n",
       "      <td>0.0</td>\n",
       "      <td>0.0</td>\n",
       "      <td>0.0</td>\n",
       "      <td>0.0</td>\n",
       "      <td>...</td>\n",
       "      <td>2.0</td>\n",
       "      <td>0.0</td>\n",
       "      <td>0.0</td>\n",
       "      <td>2.0</td>\n",
       "      <td>9.0</td>\n",
       "      <td>1.0</td>\n",
       "      <td>2.0</td>\n",
       "      <td>4.0</td>\n",
       "      <td>1.0</td>\n",
       "      <td>4.0</td>\n",
       "    </tr>\n",
       "    <tr>\n",
       "      <th>4</th>\n",
       "      <td>0.0</td>\n",
       "      <td>1.0</td>\n",
       "      <td>0.0</td>\n",
       "      <td>0.0</td>\n",
       "      <td>0.0</td>\n",
       "      <td>0.0</td>\n",
       "      <td>0.0</td>\n",
       "      <td>0.0</td>\n",
       "      <td>1.0</td>\n",
       "      <td>0.0</td>\n",
       "      <td>...</td>\n",
       "      <td>7.0</td>\n",
       "      <td>0.0</td>\n",
       "      <td>0.0</td>\n",
       "      <td>1.0</td>\n",
       "      <td>9.0</td>\n",
       "      <td>3.0</td>\n",
       "      <td>1.0</td>\n",
       "      <td>3.0</td>\n",
       "      <td>4.0</td>\n",
       "      <td>1.0</td>\n",
       "    </tr>\n",
       "  </tbody>\n",
       "</table>\n",
       "<p>5 rows × 304 columns</p>\n",
       "</div>"
      ],
      "text/plain": [
       "   0    1    2    3    4    5    6    7    8    9    ...  294  295  296  297  \\\n",
       "0  0.0  1.0  0.0  0.0  1.0  0.0  0.0  0.0  0.0  0.0  ...  3.0  0.0  0.0  2.0   \n",
       "1  1.0  0.0  0.0  0.0  1.0  0.0  0.0  0.0  0.0  1.0  ...  4.0  0.0  0.0  1.0   \n",
       "2  1.0  0.0  0.0  0.0  0.0  0.0  1.0  0.0  0.0  0.0  ...  7.0  0.0  0.0  1.0   \n",
       "3  0.0  1.0  0.0  0.0  1.0  0.0  0.0  0.0  0.0  0.0  ...  2.0  0.0  0.0  2.0   \n",
       "4  0.0  1.0  0.0  0.0  0.0  0.0  0.0  0.0  1.0  0.0  ...  7.0  0.0  0.0  1.0   \n",
       "\n",
       "   298  299  300  301  302  303  \n",
       "0  9.0  3.0  2.0  4.0  3.0  4.0  \n",
       "1  9.0  7.0  2.0  3.0  3.0  2.0  \n",
       "2  9.0  2.0  1.0  4.0  1.0  4.0  \n",
       "3  9.0  1.0  2.0  4.0  1.0  4.0  \n",
       "4  9.0  3.0  1.0  3.0  4.0  1.0  \n",
       "\n",
       "[5 rows x 304 columns]"
      ]
     },
     "execution_count": 146,
     "metadata": {},
     "output_type": "execute_result"
    }
   ],
   "source": [
    "train.head()"
   ]
  },
  {
   "cell_type": "code",
   "execution_count": 147,
   "metadata": {},
   "outputs": [
    {
     "data": {
      "text/plain": [
       "(84860, 304)"
      ]
     },
     "execution_count": 147,
     "metadata": {},
     "output_type": "execute_result"
    }
   ],
   "source": [
    "train.shape"
   ]
  },
  {
   "cell_type": "code",
   "execution_count": 148,
   "metadata": {},
   "outputs": [],
   "source": [
    "# Scaling \n",
    "\n",
    "scaler = StandardScaler()\n",
    "\n",
    "train = pd.DataFrame(scaler.fit_transform(train))"
   ]
  },
  {
   "cell_type": "code",
   "execution_count": 149,
   "metadata": {},
   "outputs": [
    {
     "data": {
      "text/html": [
       "<div>\n",
       "<style scoped>\n",
       "    .dataframe tbody tr th:only-of-type {\n",
       "        vertical-align: middle;\n",
       "    }\n",
       "\n",
       "    .dataframe tbody tr th {\n",
       "        vertical-align: top;\n",
       "    }\n",
       "\n",
       "    .dataframe thead th {\n",
       "        text-align: right;\n",
       "    }\n",
       "</style>\n",
       "<table border=\"1\" class=\"dataframe\">\n",
       "  <thead>\n",
       "    <tr style=\"text-align: right;\">\n",
       "      <th></th>\n",
       "      <th>0</th>\n",
       "      <th>1</th>\n",
       "      <th>2</th>\n",
       "      <th>3</th>\n",
       "      <th>4</th>\n",
       "      <th>5</th>\n",
       "      <th>6</th>\n",
       "      <th>7</th>\n",
       "      <th>8</th>\n",
       "      <th>9</th>\n",
       "      <th>...</th>\n",
       "      <th>294</th>\n",
       "      <th>295</th>\n",
       "      <th>296</th>\n",
       "      <th>297</th>\n",
       "      <th>298</th>\n",
       "      <th>299</th>\n",
       "      <th>300</th>\n",
       "      <th>301</th>\n",
       "      <th>302</th>\n",
       "      <th>303</th>\n",
       "    </tr>\n",
       "  </thead>\n",
       "  <tbody>\n",
       "    <tr>\n",
       "      <th>0</th>\n",
       "      <td>-0.545612</td>\n",
       "      <td>1.520610</td>\n",
       "      <td>-0.251387</td>\n",
       "      <td>-0.461684</td>\n",
       "      <td>1.505401</td>\n",
       "      <td>-0.340877</td>\n",
       "      <td>-0.379683</td>\n",
       "      <td>-0.314341</td>\n",
       "      <td>-0.478781</td>\n",
       "      <td>-0.469908</td>\n",
       "      <td>...</td>\n",
       "      <td>-0.436067</td>\n",
       "      <td>-0.093728</td>\n",
       "      <td>-0.247522</td>\n",
       "      <td>1.198530</td>\n",
       "      <td>0.231422</td>\n",
       "      <td>-0.474137</td>\n",
       "      <td>0.852874</td>\n",
       "      <td>0.747642</td>\n",
       "      <td>0.081105</td>\n",
       "      <td>0.433009</td>\n",
       "    </tr>\n",
       "    <tr>\n",
       "      <th>1</th>\n",
       "      <td>1.832804</td>\n",
       "      <td>-0.657631</td>\n",
       "      <td>-0.251387</td>\n",
       "      <td>-0.461684</td>\n",
       "      <td>1.505401</td>\n",
       "      <td>-0.340877</td>\n",
       "      <td>-0.379683</td>\n",
       "      <td>-0.314341</td>\n",
       "      <td>-0.478781</td>\n",
       "      <td>2.128074</td>\n",
       "      <td>...</td>\n",
       "      <td>0.042079</td>\n",
       "      <td>-0.093728</td>\n",
       "      <td>-0.247522</td>\n",
       "      <td>-0.834355</td>\n",
       "      <td>0.231422</td>\n",
       "      <td>1.626729</td>\n",
       "      <td>0.852874</td>\n",
       "      <td>-0.212931</td>\n",
       "      <td>0.081105</td>\n",
       "      <td>-1.109707</td>\n",
       "    </tr>\n",
       "    <tr>\n",
       "      <th>2</th>\n",
       "      <td>1.832804</td>\n",
       "      <td>-0.657631</td>\n",
       "      <td>-0.251387</td>\n",
       "      <td>-0.461684</td>\n",
       "      <td>-0.664275</td>\n",
       "      <td>-0.340877</td>\n",
       "      <td>2.633776</td>\n",
       "      <td>-0.314341</td>\n",
       "      <td>-0.478781</td>\n",
       "      <td>-0.469908</td>\n",
       "      <td>...</td>\n",
       "      <td>1.476515</td>\n",
       "      <td>-0.093728</td>\n",
       "      <td>-0.247522</td>\n",
       "      <td>-0.834355</td>\n",
       "      <td>0.231422</td>\n",
       "      <td>-0.999353</td>\n",
       "      <td>-1.172505</td>\n",
       "      <td>0.747642</td>\n",
       "      <td>-1.441759</td>\n",
       "      <td>0.433009</td>\n",
       "    </tr>\n",
       "    <tr>\n",
       "      <th>3</th>\n",
       "      <td>-0.545612</td>\n",
       "      <td>1.520610</td>\n",
       "      <td>-0.251387</td>\n",
       "      <td>-0.461684</td>\n",
       "      <td>1.505401</td>\n",
       "      <td>-0.340877</td>\n",
       "      <td>-0.379683</td>\n",
       "      <td>-0.314341</td>\n",
       "      <td>-0.478781</td>\n",
       "      <td>-0.469908</td>\n",
       "      <td>...</td>\n",
       "      <td>-0.914212</td>\n",
       "      <td>-0.093728</td>\n",
       "      <td>-0.247522</td>\n",
       "      <td>1.198530</td>\n",
       "      <td>0.231422</td>\n",
       "      <td>-1.524570</td>\n",
       "      <td>0.852874</td>\n",
       "      <td>0.747642</td>\n",
       "      <td>-1.441759</td>\n",
       "      <td>0.433009</td>\n",
       "    </tr>\n",
       "    <tr>\n",
       "      <th>4</th>\n",
       "      <td>-0.545612</td>\n",
       "      <td>1.520610</td>\n",
       "      <td>-0.251387</td>\n",
       "      <td>-0.461684</td>\n",
       "      <td>-0.664275</td>\n",
       "      <td>-0.340877</td>\n",
       "      <td>-0.379683</td>\n",
       "      <td>-0.314341</td>\n",
       "      <td>2.088636</td>\n",
       "      <td>-0.469908</td>\n",
       "      <td>...</td>\n",
       "      <td>1.476515</td>\n",
       "      <td>-0.093728</td>\n",
       "      <td>-0.247522</td>\n",
       "      <td>-0.834355</td>\n",
       "      <td>0.231422</td>\n",
       "      <td>-0.474137</td>\n",
       "      <td>-1.172505</td>\n",
       "      <td>-0.212931</td>\n",
       "      <td>0.842537</td>\n",
       "      <td>-1.881064</td>\n",
       "    </tr>\n",
       "  </tbody>\n",
       "</table>\n",
       "<p>5 rows × 304 columns</p>\n",
       "</div>"
      ],
      "text/plain": [
       "        0         1         2         3         4         5         6    \\\n",
       "0 -0.545612  1.520610 -0.251387 -0.461684  1.505401 -0.340877 -0.379683   \n",
       "1  1.832804 -0.657631 -0.251387 -0.461684  1.505401 -0.340877 -0.379683   \n",
       "2  1.832804 -0.657631 -0.251387 -0.461684 -0.664275 -0.340877  2.633776   \n",
       "3 -0.545612  1.520610 -0.251387 -0.461684  1.505401 -0.340877 -0.379683   \n",
       "4 -0.545612  1.520610 -0.251387 -0.461684 -0.664275 -0.340877 -0.379683   \n",
       "\n",
       "        7         8         9    ...       294       295       296       297  \\\n",
       "0 -0.314341 -0.478781 -0.469908  ... -0.436067 -0.093728 -0.247522  1.198530   \n",
       "1 -0.314341 -0.478781  2.128074  ...  0.042079 -0.093728 -0.247522 -0.834355   \n",
       "2 -0.314341 -0.478781 -0.469908  ...  1.476515 -0.093728 -0.247522 -0.834355   \n",
       "3 -0.314341 -0.478781 -0.469908  ... -0.914212 -0.093728 -0.247522  1.198530   \n",
       "4 -0.314341  2.088636 -0.469908  ...  1.476515 -0.093728 -0.247522 -0.834355   \n",
       "\n",
       "        298       299       300       301       302       303  \n",
       "0  0.231422 -0.474137  0.852874  0.747642  0.081105  0.433009  \n",
       "1  0.231422  1.626729  0.852874 -0.212931  0.081105 -1.109707  \n",
       "2  0.231422 -0.999353 -1.172505  0.747642 -1.441759  0.433009  \n",
       "3  0.231422 -1.524570  0.852874  0.747642 -1.441759  0.433009  \n",
       "4  0.231422 -0.474137 -1.172505 -0.212931  0.842537 -1.881064  \n",
       "\n",
       "[5 rows x 304 columns]"
      ]
     },
     "execution_count": 149,
     "metadata": {},
     "output_type": "execute_result"
    }
   ],
   "source": [
    "train.head()"
   ]
  },
  {
   "cell_type": "code",
   "execution_count": 150,
   "metadata": {},
   "outputs": [
    {
     "data": {
      "text/plain": [
       "(84860, 304)"
      ]
     },
     "execution_count": 150,
     "metadata": {},
     "output_type": "execute_result"
    }
   ],
   "source": [
    "train.shape"
   ]
  },
  {
   "cell_type": "markdown",
   "metadata": {},
   "source": [
    "### A. Classification + Training with Various Supervised Machine Learning Algorithms"
   ]
  },
  {
   "cell_type": "code",
   "execution_count": 159,
   "metadata": {},
   "outputs": [],
   "source": [
    "def classifier_training(classifier, param_grid, X=train, y=y_label):\n",
    "    \"\"\"\n",
    "    Fit a classifier using GridSearchCV, compute ROC AUC metric\n",
    "    \n",
    "    INPUT:\n",
    "    - classifier (classifier): classifier to fit \n",
    "    - param_grid (dict): parameters of the classifier used with GridSearchCV\n",
    "    - X (DataFrame): features of the training dataframe\n",
    "    - y (DataFrame): labels of the training dataframe\n",
    "            \n",
    "    OUTPUT:\n",
    "    - classifier: fitted classifier\n",
    "    - prints elapsed time and ROX AUC\n",
    "    \"\"\"\n",
    "    \n",
    "    # using StratifiedKFold\n",
    "    \n",
    "    start = time.time()\n",
    "    \n",
    "    grid = GridSearchCV(estimator=classifier, param_grid=param_grid, scoring='roc_auc', cv=5)\n",
    "    grid.fit(X, y)\n",
    "    \n",
    "    end = time.time()\n",
    "    print('Time Taken:' + str(end-start))\n",
    "\n",
    "    print(grid.best_score_)\n",
    "    \n",
    "    return grid.best_estimator_"
   ]
  },
  {
   "cell_type": "markdown",
   "metadata": {},
   "source": [
    "**1) Benchmark Model: LogisticRegression**"
   ]
  },
  {
   "cell_type": "code",
   "execution_count": 153,
   "metadata": {},
   "outputs": [],
   "source": [
    "logistic_reg = LogisticRegression(random_state=12)"
   ]
  },
  {
   "cell_type": "code",
   "execution_count": 154,
   "metadata": {},
   "outputs": [
    {
     "name": "stderr",
     "output_type": "stream",
     "text": [
      "/Users/dilay/opt/anaconda3/lib/python3.7/site-packages/sklearn/linear_model/_logistic.py:940: ConvergenceWarning: lbfgs failed to converge (status=1):\n",
      "STOP: TOTAL NO. of ITERATIONS REACHED LIMIT.\n",
      "\n",
      "Increase the number of iterations (max_iter) or scale the data as shown in:\n",
      "    https://scikit-learn.org/stable/modules/preprocessing.html\n",
      "Please also refer to the documentation for alternative solver options:\n",
      "    https://scikit-learn.org/stable/modules/linear_model.html#logistic-regression\n",
      "  extra_warning_msg=_LOGISTIC_SOLVER_CONVERGENCE_MSG)\n",
      "/Users/dilay/opt/anaconda3/lib/python3.7/site-packages/sklearn/linear_model/_logistic.py:940: ConvergenceWarning: lbfgs failed to converge (status=1):\n",
      "STOP: TOTAL NO. of ITERATIONS REACHED LIMIT.\n",
      "\n",
      "Increase the number of iterations (max_iter) or scale the data as shown in:\n",
      "    https://scikit-learn.org/stable/modules/preprocessing.html\n",
      "Please also refer to the documentation for alternative solver options:\n",
      "    https://scikit-learn.org/stable/modules/linear_model.html#logistic-regression\n",
      "  extra_warning_msg=_LOGISTIC_SOLVER_CONVERGENCE_MSG)\n",
      "/Users/dilay/opt/anaconda3/lib/python3.7/site-packages/sklearn/linear_model/_logistic.py:940: ConvergenceWarning: lbfgs failed to converge (status=1):\n",
      "STOP: TOTAL NO. of ITERATIONS REACHED LIMIT.\n",
      "\n",
      "Increase the number of iterations (max_iter) or scale the data as shown in:\n",
      "    https://scikit-learn.org/stable/modules/preprocessing.html\n",
      "Please also refer to the documentation for alternative solver options:\n",
      "    https://scikit-learn.org/stable/modules/linear_model.html#logistic-regression\n",
      "  extra_warning_msg=_LOGISTIC_SOLVER_CONVERGENCE_MSG)\n",
      "/Users/dilay/opt/anaconda3/lib/python3.7/site-packages/sklearn/linear_model/_logistic.py:940: ConvergenceWarning: lbfgs failed to converge (status=1):\n",
      "STOP: TOTAL NO. of ITERATIONS REACHED LIMIT.\n",
      "\n",
      "Increase the number of iterations (max_iter) or scale the data as shown in:\n",
      "    https://scikit-learn.org/stable/modules/preprocessing.html\n",
      "Please also refer to the documentation for alternative solver options:\n",
      "    https://scikit-learn.org/stable/modules/linear_model.html#logistic-regression\n",
      "  extra_warning_msg=_LOGISTIC_SOLVER_CONVERGENCE_MSG)\n",
      "/Users/dilay/opt/anaconda3/lib/python3.7/site-packages/sklearn/linear_model/_logistic.py:940: ConvergenceWarning: lbfgs failed to converge (status=1):\n",
      "STOP: TOTAL NO. of ITERATIONS REACHED LIMIT.\n",
      "\n",
      "Increase the number of iterations (max_iter) or scale the data as shown in:\n",
      "    https://scikit-learn.org/stable/modules/preprocessing.html\n",
      "Please also refer to the documentation for alternative solver options:\n",
      "    https://scikit-learn.org/stable/modules/linear_model.html#logistic-regression\n",
      "  extra_warning_msg=_LOGISTIC_SOLVER_CONVERGENCE_MSG)\n"
     ]
    },
    {
     "name": "stdout",
     "output_type": "stream",
     "text": [
      "17.693526029586792\n",
      "0.8079572604618249\n",
      "LogisticRegression(C=1.0, class_weight=None, dual=False, fit_intercept=True,\n",
      "                   intercept_scaling=1, l1_ratio=None, max_iter=100,\n",
      "                   multi_class='auto', n_jobs=None, penalty='l2',\n",
      "                   random_state=12, solver='lbfgs', tol=0.0001, verbose=0,\n",
      "                   warm_start=False)\n"
     ]
    },
    {
     "name": "stderr",
     "output_type": "stream",
     "text": [
      "/Users/dilay/opt/anaconda3/lib/python3.7/site-packages/sklearn/linear_model/_logistic.py:940: ConvergenceWarning: lbfgs failed to converge (status=1):\n",
      "STOP: TOTAL NO. of ITERATIONS REACHED LIMIT.\n",
      "\n",
      "Increase the number of iterations (max_iter) or scale the data as shown in:\n",
      "    https://scikit-learn.org/stable/modules/preprocessing.html\n",
      "Please also refer to the documentation for alternative solver options:\n",
      "    https://scikit-learn.org/stable/modules/linear_model.html#logistic-regression\n",
      "  extra_warning_msg=_LOGISTIC_SOLVER_CONVERGENCE_MSG)\n"
     ]
    }
   ],
   "source": [
    "print(classifier_training(logistic_reg, {}))"
   ]
  },
  {
   "cell_type": "markdown",
   "metadata": {},
   "source": [
    "> **Time taken: 17.69s / AUC of ROC curve = 0.81**"
   ]
  },
  {
   "cell_type": "markdown",
   "metadata": {},
   "source": [
    "**2) RandomForestClassifier**"
   ]
  },
  {
   "cell_type": "code",
   "execution_count": 157,
   "metadata": {},
   "outputs": [],
   "source": [
    "random_forest_clf = RandomForestClassifier(random_state=12)"
   ]
  },
  {
   "cell_type": "code",
   "execution_count": 158,
   "metadata": {},
   "outputs": [
    {
     "name": "stdout",
     "output_type": "stream",
     "text": [
      "157.43871474266052\n",
      "0.9933765830443498\n",
      "RandomForestClassifier(bootstrap=True, ccp_alpha=0.0, class_weight=None,\n",
      "                       criterion='gini', max_depth=None, max_features='auto',\n",
      "                       max_leaf_nodes=None, max_samples=None,\n",
      "                       min_impurity_decrease=0.0, min_impurity_split=None,\n",
      "                       min_samples_leaf=1, min_samples_split=2,\n",
      "                       min_weight_fraction_leaf=0.0, n_estimators=100,\n",
      "                       n_jobs=None, oob_score=False, random_state=12, verbose=0,\n",
      "                       warm_start=False)\n"
     ]
    }
   ],
   "source": [
    "print(classifier_training(random_forest_clf, {}))"
   ]
  },
  {
   "cell_type": "markdown",
   "metadata": {},
   "source": [
    "> **Time taken: 157.44s / AUC of ROC curve = 0.99**"
   ]
  },
  {
   "cell_type": "markdown",
   "metadata": {},
   "source": [
    "It looks like there might be an overfitting problem with our use of the RandomForestClassifier estimator, or another issue leading to an overfitting (on train dataset) problem, as the AUC of the ROC curve seems a bit 'off' (too high)."
   ]
  },
  {
   "cell_type": "markdown",
   "metadata": {},
   "source": [
    "**3) GradientBoostingClassifier**"
   ]
  },
  {
   "cell_type": "code",
   "execution_count": 160,
   "metadata": {},
   "outputs": [],
   "source": [
    "gbc = GradientBoostingClassifier(random_state=12)"
   ]
  },
  {
   "cell_type": "code",
   "execution_count": 161,
   "metadata": {},
   "outputs": [
    {
     "name": "stdout",
     "output_type": "stream",
     "text": [
      "Time Taken:395.87442922592163\n",
      "0.8886032804776567\n",
      "GradientBoostingClassifier(ccp_alpha=0.0, criterion='friedman_mse', init=None,\n",
      "                           learning_rate=0.1, loss='deviance', max_depth=3,\n",
      "                           max_features=None, max_leaf_nodes=None,\n",
      "                           min_impurity_decrease=0.0, min_impurity_split=None,\n",
      "                           min_samples_leaf=1, min_samples_split=2,\n",
      "                           min_weight_fraction_leaf=0.0, n_estimators=100,\n",
      "                           n_iter_no_change=None, presort='deprecated',\n",
      "                           random_state=12, subsample=1.0, tol=0.0001,\n",
      "                           validation_fraction=0.1, verbose=0,\n",
      "                           warm_start=False)\n"
     ]
    }
   ],
   "source": [
    "print(classifier_training(gbc, {}))"
   ]
  },
  {
   "cell_type": "markdown",
   "metadata": {},
   "source": [
    "> **Time taken: 395.87s / AUC of ROC curve = 0.88**"
   ]
  },
  {
   "cell_type": "markdown",
   "metadata": {},
   "source": [
    "**4) SupportVectorMachine (SVM)** "
   ]
  },
  {
   "cell_type": "markdown",
   "metadata": {},
   "source": [
    "#### I did not proceed with the SVM algorithm training, as it wasn't suited for this classification problems in terms of training duration (I came to this conclusion after subsequent research on the web and technical forums.\n",
    "\n",
    "For example, see this Kaggle discussion on the matter:\n",
    "https://www.kaggle.com/c/home-credit-default-risk/discussion/58515"
   ]
  },
  {
   "cell_type": "code",
   "execution_count": 162,
   "metadata": {},
   "outputs": [],
   "source": [
    "svc = SVC(random_state=12)"
   ]
  },
  {
   "cell_type": "code",
   "execution_count": 163,
   "metadata": {},
   "outputs": [
    {
     "ename": "KeyboardInterrupt",
     "evalue": "",
     "output_type": "error",
     "traceback": [
      "\u001b[0;31m---------------------------------------------------------------------------\u001b[0m",
      "\u001b[0;31mKeyboardInterrupt\u001b[0m                         Traceback (most recent call last)",
      "\u001b[0;32m<ipython-input-163-dcfd5e9bb10c>\u001b[0m in \u001b[0;36m<module>\u001b[0;34m\u001b[0m\n\u001b[0;32m----> 1\u001b[0;31m \u001b[0mprint\u001b[0m\u001b[0;34m(\u001b[0m\u001b[0mclassifier_training\u001b[0m\u001b[0;34m(\u001b[0m\u001b[0msvc\u001b[0m\u001b[0;34m,\u001b[0m \u001b[0;34m{\u001b[0m\u001b[0;34m}\u001b[0m\u001b[0;34m)\u001b[0m\u001b[0;34m)\u001b[0m\u001b[0;34m\u001b[0m\u001b[0;34m\u001b[0m\u001b[0m\n\u001b[0m",
      "\u001b[0;32m<ipython-input-159-2bc075068182>\u001b[0m in \u001b[0;36mclassifier_training\u001b[0;34m(classifier, param_grid, X, y)\u001b[0m\n\u001b[1;32m     19\u001b[0m \u001b[0;34m\u001b[0m\u001b[0m\n\u001b[1;32m     20\u001b[0m     \u001b[0mgrid\u001b[0m \u001b[0;34m=\u001b[0m \u001b[0mGridSearchCV\u001b[0m\u001b[0;34m(\u001b[0m\u001b[0mestimator\u001b[0m\u001b[0;34m=\u001b[0m\u001b[0mclassifier\u001b[0m\u001b[0;34m,\u001b[0m \u001b[0mparam_grid\u001b[0m\u001b[0;34m=\u001b[0m\u001b[0mparam_grid\u001b[0m\u001b[0;34m,\u001b[0m \u001b[0mscoring\u001b[0m\u001b[0;34m=\u001b[0m\u001b[0;34m'roc_auc'\u001b[0m\u001b[0;34m,\u001b[0m \u001b[0mcv\u001b[0m\u001b[0;34m=\u001b[0m\u001b[0;36m5\u001b[0m\u001b[0;34m)\u001b[0m\u001b[0;34m\u001b[0m\u001b[0;34m\u001b[0m\u001b[0m\n\u001b[0;32m---> 21\u001b[0;31m     \u001b[0mgrid\u001b[0m\u001b[0;34m.\u001b[0m\u001b[0mfit\u001b[0m\u001b[0;34m(\u001b[0m\u001b[0mX\u001b[0m\u001b[0;34m,\u001b[0m \u001b[0my\u001b[0m\u001b[0;34m)\u001b[0m\u001b[0;34m\u001b[0m\u001b[0;34m\u001b[0m\u001b[0m\n\u001b[0m\u001b[1;32m     22\u001b[0m \u001b[0;34m\u001b[0m\u001b[0m\n\u001b[1;32m     23\u001b[0m     \u001b[0mend\u001b[0m \u001b[0;34m=\u001b[0m \u001b[0mtime\u001b[0m\u001b[0;34m.\u001b[0m\u001b[0mtime\u001b[0m\u001b[0;34m(\u001b[0m\u001b[0;34m)\u001b[0m\u001b[0;34m\u001b[0m\u001b[0;34m\u001b[0m\u001b[0m\n",
      "\u001b[0;32m~/opt/anaconda3/lib/python3.7/site-packages/sklearn/model_selection/_search.py\u001b[0m in \u001b[0;36mfit\u001b[0;34m(self, X, y, groups, **fit_params)\u001b[0m\n\u001b[1;32m    708\u001b[0m                 \u001b[0;32mreturn\u001b[0m \u001b[0mresults\u001b[0m\u001b[0;34m\u001b[0m\u001b[0;34m\u001b[0m\u001b[0m\n\u001b[1;32m    709\u001b[0m \u001b[0;34m\u001b[0m\u001b[0m\n\u001b[0;32m--> 710\u001b[0;31m             \u001b[0mself\u001b[0m\u001b[0;34m.\u001b[0m\u001b[0m_run_search\u001b[0m\u001b[0;34m(\u001b[0m\u001b[0mevaluate_candidates\u001b[0m\u001b[0;34m)\u001b[0m\u001b[0;34m\u001b[0m\u001b[0;34m\u001b[0m\u001b[0m\n\u001b[0m\u001b[1;32m    711\u001b[0m \u001b[0;34m\u001b[0m\u001b[0m\n\u001b[1;32m    712\u001b[0m         \u001b[0;31m# For multi-metric evaluation, store the best_index_, best_params_ and\u001b[0m\u001b[0;34m\u001b[0m\u001b[0;34m\u001b[0m\u001b[0;34m\u001b[0m\u001b[0m\n",
      "\u001b[0;32m~/opt/anaconda3/lib/python3.7/site-packages/sklearn/model_selection/_search.py\u001b[0m in \u001b[0;36m_run_search\u001b[0;34m(self, evaluate_candidates)\u001b[0m\n\u001b[1;32m   1149\u001b[0m     \u001b[0;32mdef\u001b[0m \u001b[0m_run_search\u001b[0m\u001b[0;34m(\u001b[0m\u001b[0mself\u001b[0m\u001b[0;34m,\u001b[0m \u001b[0mevaluate_candidates\u001b[0m\u001b[0;34m)\u001b[0m\u001b[0;34m:\u001b[0m\u001b[0;34m\u001b[0m\u001b[0;34m\u001b[0m\u001b[0m\n\u001b[1;32m   1150\u001b[0m         \u001b[0;34m\"\"\"Search all candidates in param_grid\"\"\"\u001b[0m\u001b[0;34m\u001b[0m\u001b[0;34m\u001b[0m\u001b[0m\n\u001b[0;32m-> 1151\u001b[0;31m         \u001b[0mevaluate_candidates\u001b[0m\u001b[0;34m(\u001b[0m\u001b[0mParameterGrid\u001b[0m\u001b[0;34m(\u001b[0m\u001b[0mself\u001b[0m\u001b[0;34m.\u001b[0m\u001b[0mparam_grid\u001b[0m\u001b[0;34m)\u001b[0m\u001b[0;34m)\u001b[0m\u001b[0;34m\u001b[0m\u001b[0;34m\u001b[0m\u001b[0m\n\u001b[0m\u001b[1;32m   1152\u001b[0m \u001b[0;34m\u001b[0m\u001b[0m\n\u001b[1;32m   1153\u001b[0m \u001b[0;34m\u001b[0m\u001b[0m\n",
      "\u001b[0;32m~/opt/anaconda3/lib/python3.7/site-packages/sklearn/model_selection/_search.py\u001b[0m in \u001b[0;36mevaluate_candidates\u001b[0;34m(candidate_params)\u001b[0m\n\u001b[1;32m    687\u001b[0m                                \u001b[0;32mfor\u001b[0m \u001b[0mparameters\u001b[0m\u001b[0;34m,\u001b[0m \u001b[0;34m(\u001b[0m\u001b[0mtrain\u001b[0m\u001b[0;34m,\u001b[0m \u001b[0mtest\u001b[0m\u001b[0;34m)\u001b[0m\u001b[0;34m\u001b[0m\u001b[0;34m\u001b[0m\u001b[0m\n\u001b[1;32m    688\u001b[0m                                in product(candidate_params,\n\u001b[0;32m--> 689\u001b[0;31m                                           cv.split(X, y, groups)))\n\u001b[0m\u001b[1;32m    690\u001b[0m \u001b[0;34m\u001b[0m\u001b[0m\n\u001b[1;32m    691\u001b[0m                 \u001b[0;32mif\u001b[0m \u001b[0mlen\u001b[0m\u001b[0;34m(\u001b[0m\u001b[0mout\u001b[0m\u001b[0;34m)\u001b[0m \u001b[0;34m<\u001b[0m \u001b[0;36m1\u001b[0m\u001b[0;34m:\u001b[0m\u001b[0;34m\u001b[0m\u001b[0;34m\u001b[0m\u001b[0m\n",
      "\u001b[0;32m~/opt/anaconda3/lib/python3.7/site-packages/joblib/parallel.py\u001b[0m in \u001b[0;36m__call__\u001b[0;34m(self, iterable)\u001b[0m\n\u001b[1;32m   1030\u001b[0m                 \u001b[0mself\u001b[0m\u001b[0;34m.\u001b[0m\u001b[0m_iterating\u001b[0m \u001b[0;34m=\u001b[0m \u001b[0mself\u001b[0m\u001b[0;34m.\u001b[0m\u001b[0m_original_iterator\u001b[0m \u001b[0;32mis\u001b[0m \u001b[0;32mnot\u001b[0m \u001b[0;32mNone\u001b[0m\u001b[0;34m\u001b[0m\u001b[0;34m\u001b[0m\u001b[0m\n\u001b[1;32m   1031\u001b[0m \u001b[0;34m\u001b[0m\u001b[0m\n\u001b[0;32m-> 1032\u001b[0;31m             \u001b[0;32mwhile\u001b[0m \u001b[0mself\u001b[0m\u001b[0;34m.\u001b[0m\u001b[0mdispatch_one_batch\u001b[0m\u001b[0;34m(\u001b[0m\u001b[0miterator\u001b[0m\u001b[0;34m)\u001b[0m\u001b[0;34m:\u001b[0m\u001b[0;34m\u001b[0m\u001b[0;34m\u001b[0m\u001b[0m\n\u001b[0m\u001b[1;32m   1033\u001b[0m                 \u001b[0;32mpass\u001b[0m\u001b[0;34m\u001b[0m\u001b[0;34m\u001b[0m\u001b[0m\n\u001b[1;32m   1034\u001b[0m \u001b[0;34m\u001b[0m\u001b[0m\n",
      "\u001b[0;32m~/opt/anaconda3/lib/python3.7/site-packages/joblib/parallel.py\u001b[0m in \u001b[0;36mdispatch_one_batch\u001b[0;34m(self, iterator)\u001b[0m\n\u001b[1;32m    845\u001b[0m                 \u001b[0;32mreturn\u001b[0m \u001b[0;32mFalse\u001b[0m\u001b[0;34m\u001b[0m\u001b[0;34m\u001b[0m\u001b[0m\n\u001b[1;32m    846\u001b[0m             \u001b[0;32melse\u001b[0m\u001b[0;34m:\u001b[0m\u001b[0;34m\u001b[0m\u001b[0;34m\u001b[0m\u001b[0m\n\u001b[0;32m--> 847\u001b[0;31m                 \u001b[0mself\u001b[0m\u001b[0;34m.\u001b[0m\u001b[0m_dispatch\u001b[0m\u001b[0;34m(\u001b[0m\u001b[0mtasks\u001b[0m\u001b[0;34m)\u001b[0m\u001b[0;34m\u001b[0m\u001b[0;34m\u001b[0m\u001b[0m\n\u001b[0m\u001b[1;32m    848\u001b[0m                 \u001b[0;32mreturn\u001b[0m \u001b[0;32mTrue\u001b[0m\u001b[0;34m\u001b[0m\u001b[0;34m\u001b[0m\u001b[0m\n\u001b[1;32m    849\u001b[0m \u001b[0;34m\u001b[0m\u001b[0m\n",
      "\u001b[0;32m~/opt/anaconda3/lib/python3.7/site-packages/joblib/parallel.py\u001b[0m in \u001b[0;36m_dispatch\u001b[0;34m(self, batch)\u001b[0m\n\u001b[1;32m    763\u001b[0m         \u001b[0;32mwith\u001b[0m \u001b[0mself\u001b[0m\u001b[0;34m.\u001b[0m\u001b[0m_lock\u001b[0m\u001b[0;34m:\u001b[0m\u001b[0;34m\u001b[0m\u001b[0;34m\u001b[0m\u001b[0m\n\u001b[1;32m    764\u001b[0m             \u001b[0mjob_idx\u001b[0m \u001b[0;34m=\u001b[0m \u001b[0mlen\u001b[0m\u001b[0;34m(\u001b[0m\u001b[0mself\u001b[0m\u001b[0;34m.\u001b[0m\u001b[0m_jobs\u001b[0m\u001b[0;34m)\u001b[0m\u001b[0;34m\u001b[0m\u001b[0;34m\u001b[0m\u001b[0m\n\u001b[0;32m--> 765\u001b[0;31m             \u001b[0mjob\u001b[0m \u001b[0;34m=\u001b[0m \u001b[0mself\u001b[0m\u001b[0;34m.\u001b[0m\u001b[0m_backend\u001b[0m\u001b[0;34m.\u001b[0m\u001b[0mapply_async\u001b[0m\u001b[0;34m(\u001b[0m\u001b[0mbatch\u001b[0m\u001b[0;34m,\u001b[0m \u001b[0mcallback\u001b[0m\u001b[0;34m=\u001b[0m\u001b[0mcb\u001b[0m\u001b[0;34m)\u001b[0m\u001b[0;34m\u001b[0m\u001b[0;34m\u001b[0m\u001b[0m\n\u001b[0m\u001b[1;32m    766\u001b[0m             \u001b[0;31m# A job can complete so quickly than its callback is\u001b[0m\u001b[0;34m\u001b[0m\u001b[0;34m\u001b[0m\u001b[0;34m\u001b[0m\u001b[0m\n\u001b[1;32m    767\u001b[0m             \u001b[0;31m# called before we get here, causing self._jobs to\u001b[0m\u001b[0;34m\u001b[0m\u001b[0;34m\u001b[0m\u001b[0;34m\u001b[0m\u001b[0m\n",
      "\u001b[0;32m~/opt/anaconda3/lib/python3.7/site-packages/joblib/_parallel_backends.py\u001b[0m in \u001b[0;36mapply_async\u001b[0;34m(self, func, callback)\u001b[0m\n\u001b[1;32m    204\u001b[0m     \u001b[0;32mdef\u001b[0m \u001b[0mapply_async\u001b[0m\u001b[0;34m(\u001b[0m\u001b[0mself\u001b[0m\u001b[0;34m,\u001b[0m \u001b[0mfunc\u001b[0m\u001b[0;34m,\u001b[0m \u001b[0mcallback\u001b[0m\u001b[0;34m=\u001b[0m\u001b[0;32mNone\u001b[0m\u001b[0;34m)\u001b[0m\u001b[0;34m:\u001b[0m\u001b[0;34m\u001b[0m\u001b[0;34m\u001b[0m\u001b[0m\n\u001b[1;32m    205\u001b[0m         \u001b[0;34m\"\"\"Schedule a func to be run\"\"\"\u001b[0m\u001b[0;34m\u001b[0m\u001b[0;34m\u001b[0m\u001b[0m\n\u001b[0;32m--> 206\u001b[0;31m         \u001b[0mresult\u001b[0m \u001b[0;34m=\u001b[0m \u001b[0mImmediateResult\u001b[0m\u001b[0;34m(\u001b[0m\u001b[0mfunc\u001b[0m\u001b[0;34m)\u001b[0m\u001b[0;34m\u001b[0m\u001b[0;34m\u001b[0m\u001b[0m\n\u001b[0m\u001b[1;32m    207\u001b[0m         \u001b[0;32mif\u001b[0m \u001b[0mcallback\u001b[0m\u001b[0;34m:\u001b[0m\u001b[0;34m\u001b[0m\u001b[0;34m\u001b[0m\u001b[0m\n\u001b[1;32m    208\u001b[0m             \u001b[0mcallback\u001b[0m\u001b[0;34m(\u001b[0m\u001b[0mresult\u001b[0m\u001b[0;34m)\u001b[0m\u001b[0;34m\u001b[0m\u001b[0;34m\u001b[0m\u001b[0m\n",
      "\u001b[0;32m~/opt/anaconda3/lib/python3.7/site-packages/joblib/_parallel_backends.py\u001b[0m in \u001b[0;36m__init__\u001b[0;34m(self, batch)\u001b[0m\n\u001b[1;32m    568\u001b[0m         \u001b[0;31m# Don't delay the application, to avoid keeping the input\u001b[0m\u001b[0;34m\u001b[0m\u001b[0;34m\u001b[0m\u001b[0;34m\u001b[0m\u001b[0m\n\u001b[1;32m    569\u001b[0m         \u001b[0;31m# arguments in memory\u001b[0m\u001b[0;34m\u001b[0m\u001b[0;34m\u001b[0m\u001b[0;34m\u001b[0m\u001b[0m\n\u001b[0;32m--> 570\u001b[0;31m         \u001b[0mself\u001b[0m\u001b[0;34m.\u001b[0m\u001b[0mresults\u001b[0m \u001b[0;34m=\u001b[0m \u001b[0mbatch\u001b[0m\u001b[0;34m(\u001b[0m\u001b[0;34m)\u001b[0m\u001b[0;34m\u001b[0m\u001b[0;34m\u001b[0m\u001b[0m\n\u001b[0m\u001b[1;32m    571\u001b[0m \u001b[0;34m\u001b[0m\u001b[0m\n\u001b[1;32m    572\u001b[0m     \u001b[0;32mdef\u001b[0m \u001b[0mget\u001b[0m\u001b[0;34m(\u001b[0m\u001b[0mself\u001b[0m\u001b[0;34m)\u001b[0m\u001b[0;34m:\u001b[0m\u001b[0;34m\u001b[0m\u001b[0;34m\u001b[0m\u001b[0m\n",
      "\u001b[0;32m~/opt/anaconda3/lib/python3.7/site-packages/joblib/parallel.py\u001b[0m in \u001b[0;36m__call__\u001b[0;34m(self)\u001b[0m\n\u001b[1;32m    251\u001b[0m         \u001b[0;32mwith\u001b[0m \u001b[0mparallel_backend\u001b[0m\u001b[0;34m(\u001b[0m\u001b[0mself\u001b[0m\u001b[0;34m.\u001b[0m\u001b[0m_backend\u001b[0m\u001b[0;34m,\u001b[0m \u001b[0mn_jobs\u001b[0m\u001b[0;34m=\u001b[0m\u001b[0mself\u001b[0m\u001b[0;34m.\u001b[0m\u001b[0m_n_jobs\u001b[0m\u001b[0;34m)\u001b[0m\u001b[0;34m:\u001b[0m\u001b[0;34m\u001b[0m\u001b[0;34m\u001b[0m\u001b[0m\n\u001b[1;32m    252\u001b[0m             return [func(*args, **kwargs)\n\u001b[0;32m--> 253\u001b[0;31m                     for func, args, kwargs in self.items]\n\u001b[0m\u001b[1;32m    254\u001b[0m \u001b[0;34m\u001b[0m\u001b[0m\n\u001b[1;32m    255\u001b[0m     \u001b[0;32mdef\u001b[0m \u001b[0m__reduce__\u001b[0m\u001b[0;34m(\u001b[0m\u001b[0mself\u001b[0m\u001b[0;34m)\u001b[0m\u001b[0;34m:\u001b[0m\u001b[0;34m\u001b[0m\u001b[0;34m\u001b[0m\u001b[0m\n",
      "\u001b[0;32m~/opt/anaconda3/lib/python3.7/site-packages/joblib/parallel.py\u001b[0m in \u001b[0;36m<listcomp>\u001b[0;34m(.0)\u001b[0m\n\u001b[1;32m    251\u001b[0m         \u001b[0;32mwith\u001b[0m \u001b[0mparallel_backend\u001b[0m\u001b[0;34m(\u001b[0m\u001b[0mself\u001b[0m\u001b[0;34m.\u001b[0m\u001b[0m_backend\u001b[0m\u001b[0;34m,\u001b[0m \u001b[0mn_jobs\u001b[0m\u001b[0;34m=\u001b[0m\u001b[0mself\u001b[0m\u001b[0;34m.\u001b[0m\u001b[0m_n_jobs\u001b[0m\u001b[0;34m)\u001b[0m\u001b[0;34m:\u001b[0m\u001b[0;34m\u001b[0m\u001b[0;34m\u001b[0m\u001b[0m\n\u001b[1;32m    252\u001b[0m             return [func(*args, **kwargs)\n\u001b[0;32m--> 253\u001b[0;31m                     for func, args, kwargs in self.items]\n\u001b[0m\u001b[1;32m    254\u001b[0m \u001b[0;34m\u001b[0m\u001b[0m\n\u001b[1;32m    255\u001b[0m     \u001b[0;32mdef\u001b[0m \u001b[0m__reduce__\u001b[0m\u001b[0;34m(\u001b[0m\u001b[0mself\u001b[0m\u001b[0;34m)\u001b[0m\u001b[0;34m:\u001b[0m\u001b[0;34m\u001b[0m\u001b[0;34m\u001b[0m\u001b[0m\n",
      "\u001b[0;32m~/opt/anaconda3/lib/python3.7/site-packages/sklearn/model_selection/_validation.py\u001b[0m in \u001b[0;36m_fit_and_score\u001b[0;34m(estimator, X, y, scorer, train, test, verbose, parameters, fit_params, return_train_score, return_parameters, return_n_test_samples, return_times, return_estimator, error_score)\u001b[0m\n\u001b[1;32m    513\u001b[0m             \u001b[0mestimator\u001b[0m\u001b[0;34m.\u001b[0m\u001b[0mfit\u001b[0m\u001b[0;34m(\u001b[0m\u001b[0mX_train\u001b[0m\u001b[0;34m,\u001b[0m \u001b[0;34m**\u001b[0m\u001b[0mfit_params\u001b[0m\u001b[0;34m)\u001b[0m\u001b[0;34m\u001b[0m\u001b[0;34m\u001b[0m\u001b[0m\n\u001b[1;32m    514\u001b[0m         \u001b[0;32melse\u001b[0m\u001b[0;34m:\u001b[0m\u001b[0;34m\u001b[0m\u001b[0;34m\u001b[0m\u001b[0m\n\u001b[0;32m--> 515\u001b[0;31m             \u001b[0mestimator\u001b[0m\u001b[0;34m.\u001b[0m\u001b[0mfit\u001b[0m\u001b[0;34m(\u001b[0m\u001b[0mX_train\u001b[0m\u001b[0;34m,\u001b[0m \u001b[0my_train\u001b[0m\u001b[0;34m,\u001b[0m \u001b[0;34m**\u001b[0m\u001b[0mfit_params\u001b[0m\u001b[0;34m)\u001b[0m\u001b[0;34m\u001b[0m\u001b[0;34m\u001b[0m\u001b[0m\n\u001b[0m\u001b[1;32m    516\u001b[0m \u001b[0;34m\u001b[0m\u001b[0m\n\u001b[1;32m    517\u001b[0m     \u001b[0;32mexcept\u001b[0m \u001b[0mException\u001b[0m \u001b[0;32mas\u001b[0m \u001b[0me\u001b[0m\u001b[0;34m:\u001b[0m\u001b[0;34m\u001b[0m\u001b[0;34m\u001b[0m\u001b[0m\n",
      "\u001b[0;32m~/opt/anaconda3/lib/python3.7/site-packages/sklearn/svm/_base.py\u001b[0m in \u001b[0;36mfit\u001b[0;34m(self, X, y, sample_weight)\u001b[0m\n\u001b[1;32m    197\u001b[0m \u001b[0;34m\u001b[0m\u001b[0m\n\u001b[1;32m    198\u001b[0m         \u001b[0mseed\u001b[0m \u001b[0;34m=\u001b[0m \u001b[0mrnd\u001b[0m\u001b[0;34m.\u001b[0m\u001b[0mrandint\u001b[0m\u001b[0;34m(\u001b[0m\u001b[0mnp\u001b[0m\u001b[0;34m.\u001b[0m\u001b[0miinfo\u001b[0m\u001b[0;34m(\u001b[0m\u001b[0;34m'i'\u001b[0m\u001b[0;34m)\u001b[0m\u001b[0;34m.\u001b[0m\u001b[0mmax\u001b[0m\u001b[0;34m)\u001b[0m\u001b[0;34m\u001b[0m\u001b[0;34m\u001b[0m\u001b[0m\n\u001b[0;32m--> 199\u001b[0;31m         \u001b[0mfit\u001b[0m\u001b[0;34m(\u001b[0m\u001b[0mX\u001b[0m\u001b[0;34m,\u001b[0m \u001b[0my\u001b[0m\u001b[0;34m,\u001b[0m \u001b[0msample_weight\u001b[0m\u001b[0;34m,\u001b[0m \u001b[0msolver_type\u001b[0m\u001b[0;34m,\u001b[0m \u001b[0mkernel\u001b[0m\u001b[0;34m,\u001b[0m \u001b[0mrandom_seed\u001b[0m\u001b[0;34m=\u001b[0m\u001b[0mseed\u001b[0m\u001b[0;34m)\u001b[0m\u001b[0;34m\u001b[0m\u001b[0;34m\u001b[0m\u001b[0m\n\u001b[0m\u001b[1;32m    200\u001b[0m         \u001b[0;31m# see comment on the other call to np.iinfo in this file\u001b[0m\u001b[0;34m\u001b[0m\u001b[0;34m\u001b[0m\u001b[0;34m\u001b[0m\u001b[0m\n\u001b[1;32m    201\u001b[0m \u001b[0;34m\u001b[0m\u001b[0m\n",
      "\u001b[0;32m~/opt/anaconda3/lib/python3.7/site-packages/sklearn/svm/_base.py\u001b[0m in \u001b[0;36m_dense_fit\u001b[0;34m(self, X, y, sample_weight, solver_type, kernel, random_seed)\u001b[0m\n\u001b[1;32m    256\u001b[0m                 \u001b[0mcache_size\u001b[0m\u001b[0;34m=\u001b[0m\u001b[0mself\u001b[0m\u001b[0;34m.\u001b[0m\u001b[0mcache_size\u001b[0m\u001b[0;34m,\u001b[0m \u001b[0mcoef0\u001b[0m\u001b[0;34m=\u001b[0m\u001b[0mself\u001b[0m\u001b[0;34m.\u001b[0m\u001b[0mcoef0\u001b[0m\u001b[0;34m,\u001b[0m\u001b[0;34m\u001b[0m\u001b[0;34m\u001b[0m\u001b[0m\n\u001b[1;32m    257\u001b[0m                 \u001b[0mgamma\u001b[0m\u001b[0;34m=\u001b[0m\u001b[0mself\u001b[0m\u001b[0;34m.\u001b[0m\u001b[0m_gamma\u001b[0m\u001b[0;34m,\u001b[0m \u001b[0mepsilon\u001b[0m\u001b[0;34m=\u001b[0m\u001b[0mself\u001b[0m\u001b[0;34m.\u001b[0m\u001b[0mepsilon\u001b[0m\u001b[0;34m,\u001b[0m\u001b[0;34m\u001b[0m\u001b[0;34m\u001b[0m\u001b[0m\n\u001b[0;32m--> 258\u001b[0;31m                 max_iter=self.max_iter, random_seed=random_seed)\n\u001b[0m\u001b[1;32m    259\u001b[0m \u001b[0;34m\u001b[0m\u001b[0m\n\u001b[1;32m    260\u001b[0m         \u001b[0mself\u001b[0m\u001b[0;34m.\u001b[0m\u001b[0m_warn_from_fit_status\u001b[0m\u001b[0;34m(\u001b[0m\u001b[0;34m)\u001b[0m\u001b[0;34m\u001b[0m\u001b[0;34m\u001b[0m\u001b[0m\n",
      "\u001b[0;31mKeyboardInterrupt\u001b[0m: "
     ]
    }
   ],
   "source": [
    "print(classifier_training(svc, {}))"
   ]
  },
  {
   "cell_type": "markdown",
   "metadata": {},
   "source": [
    "> **Time taken: NA / AUC of ROC curve = NA.**"
   ]
  },
  {
   "cell_type": "markdown",
   "metadata": {},
   "source": [
    "**5) AdaBoostClassifier**"
   ]
  },
  {
   "cell_type": "code",
   "execution_count": 165,
   "metadata": {},
   "outputs": [],
   "source": [
    "adaboost = AdaBoostClassifier()"
   ]
  },
  {
   "cell_type": "code",
   "execution_count": 166,
   "metadata": {},
   "outputs": [
    {
     "name": "stdout",
     "output_type": "stream",
     "text": [
      "Time Taken:99.71391987800598\n",
      "0.7859658744471563\n",
      "AdaBoostClassifier(algorithm='SAMME.R', base_estimator=None, learning_rate=1.0,\n",
      "                   n_estimators=50, random_state=None)\n"
     ]
    }
   ],
   "source": [
    "print(classifier_training(adaboost, {}))"
   ]
  },
  {
   "cell_type": "markdown",
   "metadata": {},
   "source": [
    "> **Time taken: 99s / AUC of ROC curve = 0.79**"
   ]
  },
  {
   "cell_type": "markdown",
   "metadata": {},
   "source": [
    "### B. Model Selection and Tuning The 'Best' Model"
   ]
  },
  {
   "cell_type": "markdown",
   "metadata": {},
   "source": [
    "**Given the AUC of ROC curve results above, and after reflection, we choose the GradientBoostingClassifier model to optimize (score: 0.89), using GridSearchCV and selected parameters from the result in 3).**\n",
    "\n",
    "This model will then be used with the test dataset (Part 3) to make predictions."
   ]
  },
  {
   "cell_type": "code",
   "execution_count": 171,
   "metadata": {},
   "outputs": [
    {
     "name": "stdout",
     "output_type": "stream",
     "text": [
      "Time Taken:410.33228397369385\n",
      "0.8886032804776567\n"
     ]
    }
   ],
   "source": [
    "gbc = GradientBoostingClassifier(random_state=12)\n",
    "\n",
    "param_grid = {'loss': ['deviance'],\n",
    "              'max_depth': [3],\n",
    "              'learning_rate': [0.1],\n",
    "              'n_estimators': [100],\n",
    "              'random_state': [12]\n",
    "             }\n",
    "\n",
    "\n",
    "gbc_best_estimator = classifier_training(gbc, param_grid)"
   ]
  },
  {
   "cell_type": "code",
   "execution_count": 172,
   "metadata": {},
   "outputs": [
    {
     "data": {
      "text/plain": [
       "GradientBoostingClassifier(ccp_alpha=0.0, criterion='friedman_mse', init=None,\n",
       "                           learning_rate=0.1, loss='deviance', max_depth=3,\n",
       "                           max_features=None, max_leaf_nodes=None,\n",
       "                           min_impurity_decrease=0.0, min_impurity_split=None,\n",
       "                           min_samples_leaf=1, min_samples_split=2,\n",
       "                           min_weight_fraction_leaf=0.0, n_estimators=100,\n",
       "                           n_iter_no_change=None, presort='deprecated',\n",
       "                           random_state=12, subsample=1.0, tol=0.0001,\n",
       "                           validation_fraction=0.1, verbose=0,\n",
       "                           warm_start=False)"
      ]
     },
     "execution_count": 172,
     "metadata": {},
     "output_type": "execute_result"
    }
   ],
   "source": [
    "gbc_best_estimator"
   ]
  },
  {
   "cell_type": "code",
   "execution_count": 175,
   "metadata": {},
   "outputs": [
    {
     "name": "stdout",
     "output_type": "stream",
     "text": [
      "Time Taken:162.2136561870575\n",
      "0.9933765830443498\n"
     ]
    }
   ],
   "source": [
    "rfc = RandomForestClassifier(random_state=12)\n",
    "\n",
    "param_grid = {'ccp_alpha': [0.0], \n",
    "              'criterion': ['gini'], \n",
    "              'n_estimators': [100],\n",
    "              'random_state': [12]\n",
    "             }\n",
    "\n",
    "rfc_best_estimator = classifier_training(rfc, param_grid)"
   ]
  },
  {
   "cell_type": "code",
   "execution_count": 176,
   "metadata": {},
   "outputs": [
    {
     "data": {
      "text/plain": [
       "RandomForestClassifier(bootstrap=True, ccp_alpha=0.0, class_weight=None,\n",
       "                       criterion='gini', max_depth=None, max_features='auto',\n",
       "                       max_leaf_nodes=None, max_samples=None,\n",
       "                       min_impurity_decrease=0.0, min_impurity_split=None,\n",
       "                       min_samples_leaf=1, min_samples_split=2,\n",
       "                       min_weight_fraction_leaf=0.0, n_estimators=100,\n",
       "                       n_jobs=None, oob_score=False, random_state=12, verbose=0,\n",
       "                       warm_start=False)"
      ]
     },
     "execution_count": 176,
     "metadata": {},
     "output_type": "execute_result"
    }
   ],
   "source": [
    "rfc_best_estimator"
   ]
  },
  {
   "cell_type": "markdown",
   "metadata": {},
   "source": [
    "### Comparison\n",
    "\n",
    "In comparison to our Benchmark Model (Logistic Regressor), our chosen trained model, with the GradientBoostingClassifier algorithm performed better, with a higher AUC of the ROC curve:\n",
    "\n",
    "0.889 > 0.807"
   ]
  },
  {
   "cell_type": "markdown",
   "metadata": {},
   "source": [
    "For Part 3, we will thus use the GradientBoostingClassifier model with the following tuned hyperparameters:\n",
    "\n",
    "> `learning_rate = 0.1`\n",
    "\n",
    "> `n_estimators = 100`\n",
    "\n",
    "> `max_depth = 3`\n",
    "\n",
    "> `loss = 'deviance'`"
   ]
  },
  {
   "cell_type": "markdown",
   "metadata": {},
   "source": [
    "## Part 3: Kaggle Competition\n",
    "\n",
    "Now that you've created a model to predict which individuals are most likely to respond to a mailout campaign, it's time to test that model in competition through Kaggle. If you click on the link [here](http://www.kaggle.com/t/21e6d45d4c574c7fa2d868f0e8c83140), you'll be taken to the competition page where, if you have a Kaggle account, you can enter. If you're one of the top performers, you may have the chance to be contacted by a hiring manager from Arvato or Bertelsmann for an interview!\n",
    "\n",
    "Your entry to the competition should be a CSV file with two columns. The first column should be a copy of \"LNR\", which acts as an ID number for each individual in the \"TEST\" partition. The second column, \"RESPONSE\", should be some measure of how likely each individual became a customer – this might not be a straightforward probability. As you should have found in Part 2, there is a large output class imbalance, where most individuals did not respond to the mailout. Thus, predicting individual classes and using accuracy does not seem to be an appropriate performance evaluation method. Instead, the competition will be using AUC to evaluate performance. The exact values of the \"RESPONSE\" column do not matter as much: only that the higher values try to capture as many of the actual customers as possible, early in the ROC curve sweep."
   ]
  },
  {
   "cell_type": "code",
   "execution_count": 185,
   "metadata": {},
   "outputs": [
    {
     "name": "stderr",
     "output_type": "stream",
     "text": [
      "/Users/dilay/opt/anaconda3/lib/python3.7/site-packages/IPython/core/interactiveshell.py:3063: DtypeWarning: Columns (18,19) have mixed types.Specify dtype option on import or set low_memory=False.\n",
      "  interactivity=interactivity, compiler=compiler, result=result)\n"
     ]
    }
   ],
   "source": [
    "mailout_test = pd.read_csv('Udacity_MAILOUT_052018_TEST.csv', sep=';')"
   ]
  },
  {
   "cell_type": "code",
   "execution_count": 186,
   "metadata": {},
   "outputs": [
    {
     "data": {
      "text/html": [
       "<div>\n",
       "<style scoped>\n",
       "    .dataframe tbody tr th:only-of-type {\n",
       "        vertical-align: middle;\n",
       "    }\n",
       "\n",
       "    .dataframe tbody tr th {\n",
       "        vertical-align: top;\n",
       "    }\n",
       "\n",
       "    .dataframe thead th {\n",
       "        text-align: right;\n",
       "    }\n",
       "</style>\n",
       "<table border=\"1\" class=\"dataframe\">\n",
       "  <thead>\n",
       "    <tr style=\"text-align: right;\">\n",
       "      <th></th>\n",
       "      <th>LNR</th>\n",
       "      <th>AGER_TYP</th>\n",
       "      <th>AKT_DAT_KL</th>\n",
       "      <th>ALTER_HH</th>\n",
       "      <th>ALTER_KIND1</th>\n",
       "      <th>ALTER_KIND2</th>\n",
       "      <th>ALTER_KIND3</th>\n",
       "      <th>ALTER_KIND4</th>\n",
       "      <th>ALTERSKATEGORIE_FEIN</th>\n",
       "      <th>ANZ_HAUSHALTE_AKTIV</th>\n",
       "      <th>...</th>\n",
       "      <th>VHN</th>\n",
       "      <th>VK_DHT4A</th>\n",
       "      <th>VK_DISTANZ</th>\n",
       "      <th>VK_ZG11</th>\n",
       "      <th>W_KEIT_KIND_HH</th>\n",
       "      <th>WOHNDAUER_2008</th>\n",
       "      <th>WOHNLAGE</th>\n",
       "      <th>ZABEOTYP</th>\n",
       "      <th>ANREDE_KZ</th>\n",
       "      <th>ALTERSKATEGORIE_GROB</th>\n",
       "    </tr>\n",
       "  </thead>\n",
       "  <tbody>\n",
       "    <tr>\n",
       "      <th>0</th>\n",
       "      <td>1754</td>\n",
       "      <td>2</td>\n",
       "      <td>1.0</td>\n",
       "      <td>7.0</td>\n",
       "      <td>NaN</td>\n",
       "      <td>NaN</td>\n",
       "      <td>NaN</td>\n",
       "      <td>NaN</td>\n",
       "      <td>6.0</td>\n",
       "      <td>2.0</td>\n",
       "      <td>...</td>\n",
       "      <td>4.0</td>\n",
       "      <td>5.0</td>\n",
       "      <td>6.0</td>\n",
       "      <td>3.0</td>\n",
       "      <td>6.0</td>\n",
       "      <td>9.0</td>\n",
       "      <td>3.0</td>\n",
       "      <td>3</td>\n",
       "      <td>1</td>\n",
       "      <td>4</td>\n",
       "    </tr>\n",
       "    <tr>\n",
       "      <th>1</th>\n",
       "      <td>1770</td>\n",
       "      <td>-1</td>\n",
       "      <td>1.0</td>\n",
       "      <td>0.0</td>\n",
       "      <td>NaN</td>\n",
       "      <td>NaN</td>\n",
       "      <td>NaN</td>\n",
       "      <td>NaN</td>\n",
       "      <td>0.0</td>\n",
       "      <td>20.0</td>\n",
       "      <td>...</td>\n",
       "      <td>1.0</td>\n",
       "      <td>5.0</td>\n",
       "      <td>2.0</td>\n",
       "      <td>1.0</td>\n",
       "      <td>6.0</td>\n",
       "      <td>9.0</td>\n",
       "      <td>5.0</td>\n",
       "      <td>3</td>\n",
       "      <td>1</td>\n",
       "      <td>4</td>\n",
       "    </tr>\n",
       "    <tr>\n",
       "      <th>2</th>\n",
       "      <td>1465</td>\n",
       "      <td>2</td>\n",
       "      <td>9.0</td>\n",
       "      <td>16.0</td>\n",
       "      <td>NaN</td>\n",
       "      <td>NaN</td>\n",
       "      <td>NaN</td>\n",
       "      <td>NaN</td>\n",
       "      <td>11.0</td>\n",
       "      <td>2.0</td>\n",
       "      <td>...</td>\n",
       "      <td>3.0</td>\n",
       "      <td>9.0</td>\n",
       "      <td>6.0</td>\n",
       "      <td>3.0</td>\n",
       "      <td>2.0</td>\n",
       "      <td>9.0</td>\n",
       "      <td>4.0</td>\n",
       "      <td>3</td>\n",
       "      <td>2</td>\n",
       "      <td>4</td>\n",
       "    </tr>\n",
       "    <tr>\n",
       "      <th>3</th>\n",
       "      <td>1470</td>\n",
       "      <td>-1</td>\n",
       "      <td>7.0</td>\n",
       "      <td>0.0</td>\n",
       "      <td>NaN</td>\n",
       "      <td>NaN</td>\n",
       "      <td>NaN</td>\n",
       "      <td>NaN</td>\n",
       "      <td>0.0</td>\n",
       "      <td>1.0</td>\n",
       "      <td>...</td>\n",
       "      <td>2.0</td>\n",
       "      <td>6.0</td>\n",
       "      <td>6.0</td>\n",
       "      <td>3.0</td>\n",
       "      <td>NaN</td>\n",
       "      <td>9.0</td>\n",
       "      <td>2.0</td>\n",
       "      <td>3</td>\n",
       "      <td>2</td>\n",
       "      <td>4</td>\n",
       "    </tr>\n",
       "    <tr>\n",
       "      <th>4</th>\n",
       "      <td>1478</td>\n",
       "      <td>1</td>\n",
       "      <td>1.0</td>\n",
       "      <td>21.0</td>\n",
       "      <td>NaN</td>\n",
       "      <td>NaN</td>\n",
       "      <td>NaN</td>\n",
       "      <td>NaN</td>\n",
       "      <td>13.0</td>\n",
       "      <td>1.0</td>\n",
       "      <td>...</td>\n",
       "      <td>1.0</td>\n",
       "      <td>2.0</td>\n",
       "      <td>4.0</td>\n",
       "      <td>3.0</td>\n",
       "      <td>3.0</td>\n",
       "      <td>9.0</td>\n",
       "      <td>7.0</td>\n",
       "      <td>4</td>\n",
       "      <td>2</td>\n",
       "      <td>4</td>\n",
       "    </tr>\n",
       "  </tbody>\n",
       "</table>\n",
       "<p>5 rows × 366 columns</p>\n",
       "</div>"
      ],
      "text/plain": [
       "    LNR  AGER_TYP  AKT_DAT_KL  ALTER_HH  ALTER_KIND1  ALTER_KIND2  \\\n",
       "0  1754         2         1.0       7.0          NaN          NaN   \n",
       "1  1770        -1         1.0       0.0          NaN          NaN   \n",
       "2  1465         2         9.0      16.0          NaN          NaN   \n",
       "3  1470        -1         7.0       0.0          NaN          NaN   \n",
       "4  1478         1         1.0      21.0          NaN          NaN   \n",
       "\n",
       "   ALTER_KIND3  ALTER_KIND4  ALTERSKATEGORIE_FEIN  ANZ_HAUSHALTE_AKTIV  ...  \\\n",
       "0          NaN          NaN                   6.0                  2.0  ...   \n",
       "1          NaN          NaN                   0.0                 20.0  ...   \n",
       "2          NaN          NaN                  11.0                  2.0  ...   \n",
       "3          NaN          NaN                   0.0                  1.0  ...   \n",
       "4          NaN          NaN                  13.0                  1.0  ...   \n",
       "\n",
       "   VHN  VK_DHT4A  VK_DISTANZ  VK_ZG11  W_KEIT_KIND_HH  WOHNDAUER_2008  \\\n",
       "0  4.0       5.0         6.0      3.0             6.0             9.0   \n",
       "1  1.0       5.0         2.0      1.0             6.0             9.0   \n",
       "2  3.0       9.0         6.0      3.0             2.0             9.0   \n",
       "3  2.0       6.0         6.0      3.0             NaN             9.0   \n",
       "4  1.0       2.0         4.0      3.0             3.0             9.0   \n",
       "\n",
       "   WOHNLAGE ZABEOTYP ANREDE_KZ ALTERSKATEGORIE_GROB  \n",
       "0       3.0        3         1                    4  \n",
       "1       5.0        3         1                    4  \n",
       "2       4.0        3         2                    4  \n",
       "3       2.0        3         2                    4  \n",
       "4       7.0        4         2                    4  \n",
       "\n",
       "[5 rows x 366 columns]"
      ]
     },
     "execution_count": 186,
     "metadata": {},
     "output_type": "execute_result"
    }
   ],
   "source": [
    "mailout_test.head()"
   ]
  },
  {
   "cell_type": "code",
   "execution_count": 187,
   "metadata": {},
   "outputs": [
    {
     "data": {
      "text/plain": [
       "(42833, 366)"
      ]
     },
     "execution_count": 187,
     "metadata": {},
     "output_type": "execute_result"
    }
   ],
   "source": [
    "mailout_test.shape"
   ]
  },
  {
   "cell_type": "code",
   "execution_count": 188,
   "metadata": {},
   "outputs": [],
   "source": [
    "# Copying LNR column for Kaggle submission csv file\n",
    "test_LNR = mailout_test['LNR']\n",
    "\n",
    "mailout_test.drop(['LNR'], axis=1, inplace=True)"
   ]
  },
  {
   "cell_type": "markdown",
   "metadata": {},
   "source": [
    "### Cleaning & Preprocessing Test Data"
   ]
  },
  {
   "cell_type": "code",
   "execution_count": 189,
   "metadata": {},
   "outputs": [],
   "source": [
    "# modified cleaning_function(): no row-dropping, as here we want to predict for every row\n",
    "\n",
    "def cleaning_function_test(df, attributes_info, not_described_features, columns_to_drop, nan_threshold=0.2):\n",
    "    \"\"\"\n",
    "    Cleans and Preprocess a DataFrame df:\n",
    "    - Drop features that are not described (described features summarised in attributes_info)\n",
    "    - Convert missing and unknown values to NaN\n",
    "    - Drop columns (so, features) with high percentage of NaN values (relative to nan_threshold)\n",
    "    - Drop rows with high percentage of NaN values (relative to nan_threshold)\n",
    "    - Re-encode categorical features and mixed features\n",
    "\n",
    "    INPUT:\n",
    "    - df (DataFrame): the DataFrame to be cleaned and preprocessed\n",
    "    - attributes_info (DataFrame): the DataFrame containing the features information/description (Attribute, Type, Unknown_Values)\n",
    "    - not_described_features (list): list of features to be dropped because they are not described (not in attributes_info)\n",
    "    - columns_to_drop (list): list of columns/features to be dropped because of a high percentage of NaN values (computed in prior steps)\n",
    "    \n",
    "    OUTPUT:\n",
    "    - df (DataFrame): cleaned and preprocessed DataFrame\n",
    "    \"\"\"\n",
    "    \n",
    "    # drop features that are not described \n",
    "    df.drop(labels=not_described_features, axis=1, inplace=True)\n",
    "    \n",
    "    # for column in df.columns:\n",
    "        # if df[column].dtype == np.int64:\n",
    "            # df[column] = df[column].astype(np.float64)\n",
    "            \n",
    "    unknown_series = pd.Series(attributes_info['Unknown_Values'].values, index=attributes_info['Attribute'])\n",
    "    # convert missing and unknown values to NaN values\n",
    "    for column in df.columns:\n",
    "            isin = ast.literal_eval(unknown_series[column])\n",
    "            df[column] = df[column].mask(df[column].isin(isin), other=np.nan)\n",
    "        \n",
    "    \n",
    "    # drop columns with percentage of NaN values higher than threshold (nan_threshold)   \n",
    "    drop_columns = []\n",
    "    for column in columns_to_drop:\n",
    "        if column not in not_described_features:\n",
    "            drop_columns.append(column)\n",
    "            \n",
    "        \n",
    "    df.drop(labels=drop_columns, axis=1, inplace=True)\n",
    "    \n",
    "    \n",
    "    # categorical features of df\n",
    "    cat_feat_df = [] # categorical features (in attributes_info) that are also in df\n",
    "    for cat_feat in categorical_features_attributes:\n",
    "        if cat_feat in df.columns:\n",
    "            cat_feat_df.append(cat_feat)\n",
    "    \n",
    "    # mixed features of df\n",
    "    mixed_feat_df = [] # mixed features (in attributes_info) that are also in df\n",
    "    for mixed_feat in mixed_features_attributes:\n",
    "        if mixed_feat in df.columns:\n",
    "            mixed_feat_df.append(mixed_feat)\n",
    "\n",
    "            \n",
    "    ### df categorical features re-encoding ###\n",
    "    binary_num_attributes = []\n",
    "    binary_non_num_attributes = []\n",
    "    multi_level_attributes = []\n",
    "\n",
    "    for attribute in cat_feat_df:\n",
    "        dtype = df[attribute].dtype\n",
    "        count = len(df[attribute].value_counts())\n",
    "\n",
    "        # if multi-level categorical feature\n",
    "        if count > 2:\n",
    "            multi_level_attributes.append(attribute)\n",
    "        else:\n",
    "            if dtype == 'object':\n",
    "                binary_non_num_attributes.append(attribute)\n",
    "            else:\n",
    "                binary_num_attributes.append(attribute)\n",
    "    \n",
    "    # re-encode binary string (non-numerical) feature into numerical values         \n",
    "    df['OST_WEST_KZ'] = df['OST_WEST_KZ'].map({'W': 1, 'O': 2})\n",
    "    \n",
    "    # re-encode multi-level categorical features\n",
    "    list_columns_to_add = []\n",
    "\n",
    "    for column in multi_level_attributes:\n",
    "        \n",
    "        # get rid of multi-level categorical columns with more than 10 levels\n",
    "        if len(df[column].value_counts()) < 10:\n",
    "            list_columns_to_add.append(pd.get_dummies(df[column], prefix=column))\n",
    "    \n",
    "    \n",
    "    df.drop(multi_level_attributes, axis=1, inplace=True)\n",
    "\n",
    "    list_columns_to_add.append(df) \n",
    "\n",
    "    df = pd.concat(list_columns_to_add, axis=1)\n",
    "    \n",
    "    \n",
    "    ### df mixed features re-encoding ###\n",
    "    \n",
    "    # Re-encoding PRAEGENDE_JUGENDJAHRE feature\n",
    "    df['PRAEGENDE_JUGENDJAHRE'] = df['PRAEGENDE_JUGENDJAHRE'].apply(lambda x: encode_pj(x))\n",
    "    \n",
    "    df.drop(['PRAEGENDE_JUGENDJAHRE'], axis=1, inplace=True)\n",
    "    \n",
    "    # Dropping LP_LEBENSPHASE_FEIN and LP_LEBENSPHASE_GROB features\n",
    "    df.drop(['LP_LEBENSPHASE_FEIN', 'LP_LEBENSPHASE_GROB'], axis=1, inplace=True)\n",
    "    \n",
    "    # Re-encoding CAMEO_INTL_2015 feature\n",
    "    df['WEALTH_LEVEL'] = df['CAMEO_INTL_2015'].apply(lambda x: np.floor(pd.to_numeric(x)/10))\n",
    "    df['STATUS'] = df['CAMEO_INTL_2015'].apply(lambda x: pd.to_numeric(x)%10)\n",
    "    df.drop('CAMEO_INTL_2015', axis=1, inplace=True)\n",
    "    \n",
    "\n",
    "    \n",
    "    return df"
   ]
  },
  {
   "cell_type": "code",
   "execution_count": 190,
   "metadata": {},
   "outputs": [],
   "source": [
    "not_described_features = ['UMFELD_ALT',\n",
    "                          'ALTER_KIND2',\n",
    "                          'CJT_TYP_5',\n",
    "                          'CJT_TYP_6',\n",
    "                          'AKT_DAT_KL',\n",
    "                          'ALTER_KIND4',\n",
    "                          'D19_LETZTER_KAUF_BRANCHE',\n",
    "                          'STRUKTURTYP',\n",
    "                          'D19_KONSUMTYP_MAX',\n",
    "                          'CJT_TYP_2',\n",
    "                          'VK_DHT4A',\n",
    "                          'CJT_KATALOGNUTZER',\n",
    "                          'RT_UEBERGROESSE',\n",
    "                          'UMFELD_JUNG',\n",
    "                          #'LNR',\n",
    "                          'EXTSEL992',\n",
    "                          'FIRMENDICHTE',\n",
    "                          'VHN',\n",
    "                          'EINGEFUEGT_AM',\n",
    "                          'GEMEINDETYP',\n",
    "                          'CJT_TYP_4',\n",
    "                          'CJT_TYP_3',\n",
    "                          'RT_KEIN_ANREIZ',\n",
    "                          'VHA',\n",
    "                          'CJT_TYP_1',\n",
    "                          'VK_ZG11',\n",
    "                          'KOMBIALTER',\n",
    "                          'VK_DISTANZ',\n",
    "                          'VERDICHTUNGSRAUM',\n",
    "                          'RT_SCHNAEPPCHEN',\n",
    "                          'ALTER_KIND3',\n",
    "                          'ALTER_KIND1'\n",
    "                         ]"
   ]
  },
  {
   "cell_type": "code",
   "execution_count": 191,
   "metadata": {},
   "outputs": [],
   "source": [
    "test = cleaning_function_test(mailout_test, attributes_info, not_described_features, columns_to_drop, nan_threshold=0.2)"
   ]
  },
  {
   "cell_type": "code",
   "execution_count": 192,
   "metadata": {},
   "outputs": [
    {
     "data": {
      "text/html": [
       "<div>\n",
       "<style scoped>\n",
       "    .dataframe tbody tr th:only-of-type {\n",
       "        vertical-align: middle;\n",
       "    }\n",
       "\n",
       "    .dataframe tbody tr th {\n",
       "        vertical-align: top;\n",
       "    }\n",
       "\n",
       "    .dataframe thead th {\n",
       "        text-align: right;\n",
       "    }\n",
       "</style>\n",
       "<table border=\"1\" class=\"dataframe\">\n",
       "  <thead>\n",
       "    <tr style=\"text-align: right;\">\n",
       "      <th></th>\n",
       "      <th>AGER_TYP_1.0</th>\n",
       "      <th>AGER_TYP_2.0</th>\n",
       "      <th>AGER_TYP_3.0</th>\n",
       "      <th>CJT_GESAMTTYP_1.0</th>\n",
       "      <th>CJT_GESAMTTYP_2.0</th>\n",
       "      <th>CJT_GESAMTTYP_3.0</th>\n",
       "      <th>CJT_GESAMTTYP_4.0</th>\n",
       "      <th>CJT_GESAMTTYP_5.0</th>\n",
       "      <th>CJT_GESAMTTYP_6.0</th>\n",
       "      <th>D19_KONSUMTYP_1.0</th>\n",
       "      <th>...</th>\n",
       "      <th>SEMIO_VERT</th>\n",
       "      <th>SOHO_KZ</th>\n",
       "      <th>UNGLEICHENN_FLAG</th>\n",
       "      <th>VERS_TYP</th>\n",
       "      <th>WOHNDAUER_2008</th>\n",
       "      <th>WOHNLAGE</th>\n",
       "      <th>ANREDE_KZ</th>\n",
       "      <th>ALTERSKATEGORIE_GROB</th>\n",
       "      <th>WEALTH_LEVEL</th>\n",
       "      <th>STATUS</th>\n",
       "    </tr>\n",
       "  </thead>\n",
       "  <tbody>\n",
       "    <tr>\n",
       "      <th>0</th>\n",
       "      <td>0</td>\n",
       "      <td>1</td>\n",
       "      <td>0</td>\n",
       "      <td>0</td>\n",
       "      <td>0</td>\n",
       "      <td>0</td>\n",
       "      <td>0</td>\n",
       "      <td>1</td>\n",
       "      <td>0</td>\n",
       "      <td>0</td>\n",
       "      <td>...</td>\n",
       "      <td>7</td>\n",
       "      <td>0.0</td>\n",
       "      <td>0.0</td>\n",
       "      <td>1.0</td>\n",
       "      <td>9.0</td>\n",
       "      <td>3.0</td>\n",
       "      <td>1</td>\n",
       "      <td>4.0</td>\n",
       "      <td>1.0</td>\n",
       "      <td>3.0</td>\n",
       "    </tr>\n",
       "    <tr>\n",
       "      <th>1</th>\n",
       "      <td>0</td>\n",
       "      <td>0</td>\n",
       "      <td>0</td>\n",
       "      <td>1</td>\n",
       "      <td>0</td>\n",
       "      <td>0</td>\n",
       "      <td>0</td>\n",
       "      <td>0</td>\n",
       "      <td>0</td>\n",
       "      <td>0</td>\n",
       "      <td>...</td>\n",
       "      <td>6</td>\n",
       "      <td>0.0</td>\n",
       "      <td>0.0</td>\n",
       "      <td>1.0</td>\n",
       "      <td>9.0</td>\n",
       "      <td>5.0</td>\n",
       "      <td>1</td>\n",
       "      <td>4.0</td>\n",
       "      <td>3.0</td>\n",
       "      <td>1.0</td>\n",
       "    </tr>\n",
       "    <tr>\n",
       "      <th>2</th>\n",
       "      <td>0</td>\n",
       "      <td>1</td>\n",
       "      <td>0</td>\n",
       "      <td>0</td>\n",
       "      <td>1</td>\n",
       "      <td>0</td>\n",
       "      <td>0</td>\n",
       "      <td>0</td>\n",
       "      <td>0</td>\n",
       "      <td>0</td>\n",
       "      <td>...</td>\n",
       "      <td>3</td>\n",
       "      <td>0.0</td>\n",
       "      <td>1.0</td>\n",
       "      <td>1.0</td>\n",
       "      <td>9.0</td>\n",
       "      <td>4.0</td>\n",
       "      <td>2</td>\n",
       "      <td>4.0</td>\n",
       "      <td>4.0</td>\n",
       "      <td>1.0</td>\n",
       "    </tr>\n",
       "    <tr>\n",
       "      <th>3</th>\n",
       "      <td>0</td>\n",
       "      <td>0</td>\n",
       "      <td>0</td>\n",
       "      <td>0</td>\n",
       "      <td>0</td>\n",
       "      <td>0</td>\n",
       "      <td>1</td>\n",
       "      <td>0</td>\n",
       "      <td>0</td>\n",
       "      <td>0</td>\n",
       "      <td>...</td>\n",
       "      <td>2</td>\n",
       "      <td>0.0</td>\n",
       "      <td>0.0</td>\n",
       "      <td>2.0</td>\n",
       "      <td>9.0</td>\n",
       "      <td>2.0</td>\n",
       "      <td>2</td>\n",
       "      <td>4.0</td>\n",
       "      <td>1.0</td>\n",
       "      <td>3.0</td>\n",
       "    </tr>\n",
       "    <tr>\n",
       "      <th>4</th>\n",
       "      <td>1</td>\n",
       "      <td>0</td>\n",
       "      <td>0</td>\n",
       "      <td>0</td>\n",
       "      <td>0</td>\n",
       "      <td>0</td>\n",
       "      <td>0</td>\n",
       "      <td>0</td>\n",
       "      <td>1</td>\n",
       "      <td>1</td>\n",
       "      <td>...</td>\n",
       "      <td>3</td>\n",
       "      <td>0.0</td>\n",
       "      <td>0.0</td>\n",
       "      <td>1.0</td>\n",
       "      <td>9.0</td>\n",
       "      <td>7.0</td>\n",
       "      <td>2</td>\n",
       "      <td>4.0</td>\n",
       "      <td>3.0</td>\n",
       "      <td>1.0</td>\n",
       "    </tr>\n",
       "  </tbody>\n",
       "</table>\n",
       "<p>5 rows × 304 columns</p>\n",
       "</div>"
      ],
      "text/plain": [
       "   AGER_TYP_1.0  AGER_TYP_2.0  AGER_TYP_3.0  CJT_GESAMTTYP_1.0  \\\n",
       "0             0             1             0                  0   \n",
       "1             0             0             0                  1   \n",
       "2             0             1             0                  0   \n",
       "3             0             0             0                  0   \n",
       "4             1             0             0                  0   \n",
       "\n",
       "   CJT_GESAMTTYP_2.0  CJT_GESAMTTYP_3.0  CJT_GESAMTTYP_4.0  CJT_GESAMTTYP_5.0  \\\n",
       "0                  0                  0                  0                  1   \n",
       "1                  0                  0                  0                  0   \n",
       "2                  1                  0                  0                  0   \n",
       "3                  0                  0                  1                  0   \n",
       "4                  0                  0                  0                  0   \n",
       "\n",
       "   CJT_GESAMTTYP_6.0  D19_KONSUMTYP_1.0  ...  SEMIO_VERT  SOHO_KZ  \\\n",
       "0                  0                  0  ...           7      0.0   \n",
       "1                  0                  0  ...           6      0.0   \n",
       "2                  0                  0  ...           3      0.0   \n",
       "3                  0                  0  ...           2      0.0   \n",
       "4                  1                  1  ...           3      0.0   \n",
       "\n",
       "   UNGLEICHENN_FLAG  VERS_TYP  WOHNDAUER_2008  WOHNLAGE  ANREDE_KZ  \\\n",
       "0               0.0       1.0             9.0       3.0          1   \n",
       "1               0.0       1.0             9.0       5.0          1   \n",
       "2               1.0       1.0             9.0       4.0          2   \n",
       "3               0.0       2.0             9.0       2.0          2   \n",
       "4               0.0       1.0             9.0       7.0          2   \n",
       "\n",
       "   ALTERSKATEGORIE_GROB  WEALTH_LEVEL  STATUS  \n",
       "0                   4.0           1.0     3.0  \n",
       "1                   4.0           3.0     1.0  \n",
       "2                   4.0           4.0     1.0  \n",
       "3                   4.0           1.0     3.0  \n",
       "4                   4.0           3.0     1.0  \n",
       "\n",
       "[5 rows x 304 columns]"
      ]
     },
     "execution_count": 192,
     "metadata": {},
     "output_type": "execute_result"
    }
   ],
   "source": [
    "test.head()"
   ]
  },
  {
   "cell_type": "code",
   "execution_count": 193,
   "metadata": {},
   "outputs": [
    {
     "data": {
      "text/plain": [
       "(42833, 304)"
      ]
     },
     "execution_count": 193,
     "metadata": {},
     "output_type": "execute_result"
    }
   ],
   "source": [
    "test.shape"
   ]
  },
  {
   "cell_type": "code",
   "execution_count": 195,
   "metadata": {},
   "outputs": [],
   "source": [
    "# Imputation \n",
    "\n",
    "imputer = SimpleImputer(missing_values=np.nan, strategy='median')\n",
    "\n",
    "test = pd.DataFrame(imputer.fit_transform(test))"
   ]
  },
  {
   "cell_type": "code",
   "execution_count": 196,
   "metadata": {},
   "outputs": [],
   "source": [
    "# Scaling \n",
    "\n",
    "scaler = StandardScaler()\n",
    "\n",
    "test = pd.DataFrame(scaler.fit_transform(test))"
   ]
  },
  {
   "cell_type": "markdown",
   "metadata": {},
   "source": [
    "### Classification with Trained Model from Part 2"
   ]
  },
  {
   "cell_type": "code",
   "execution_count": 197,
   "metadata": {},
   "outputs": [],
   "source": [
    "# Calculate prediction probabilities for the TEST set with previously trained GradientBoostingClassifier estimator\n",
    "\n",
    "test_gbc_preds = gbc_best_estimator.predict_proba(test)"
   ]
  },
  {
   "cell_type": "code",
   "execution_count": 198,
   "metadata": {},
   "outputs": [
    {
     "data": {
      "text/plain": [
       "array([[0.30052066, 0.69947934],\n",
       "       [0.2751106 , 0.7248894 ],\n",
       "       [0.79873286, 0.20126714],\n",
       "       [0.92659509, 0.07340491],\n",
       "       [0.71655568, 0.28344432],\n",
       "       [0.92190775, 0.07809225],\n",
       "       [0.84131076, 0.15868924],\n",
       "       [0.45996852, 0.54003148],\n",
       "       [0.56097224, 0.43902776],\n",
       "       [0.7875735 , 0.2124265 ],\n",
       "       [0.88593846, 0.11406154],\n",
       "       [0.28457559, 0.71542441],\n",
       "       [0.75589434, 0.24410566],\n",
       "       [0.84198771, 0.15801229],\n",
       "       [0.27490217, 0.72509783]])"
      ]
     },
     "execution_count": 198,
     "metadata": {},
     "output_type": "execute_result"
    }
   ],
   "source": [
    "test_gbc_preds[:15]"
   ]
  },
  {
   "cell_type": "markdown",
   "metadata": {},
   "source": [
    "### CSV File for Kaggle Submission"
   ]
  },
  {
   "cell_type": "markdown",
   "metadata": {},
   "source": [
    "Columns: the LNR id column + prediction of response column"
   ]
  },
  {
   "cell_type": "code",
   "execution_count": 199,
   "metadata": {},
   "outputs": [],
   "source": [
    "kaggle = pd.DataFrame({'LNR':test_LNR.astype(np.int32), 'RESPONSE':test_gbc_preds[:, 1]})\n",
    "\n",
    "kaggle.to_csv('kaggle.csv', index=False)"
   ]
  },
  {
   "cell_type": "code",
   "execution_count": 200,
   "metadata": {},
   "outputs": [
    {
     "data": {
      "text/html": [
       "<div>\n",
       "<style scoped>\n",
       "    .dataframe tbody tr th:only-of-type {\n",
       "        vertical-align: middle;\n",
       "    }\n",
       "\n",
       "    .dataframe tbody tr th {\n",
       "        vertical-align: top;\n",
       "    }\n",
       "\n",
       "    .dataframe thead th {\n",
       "        text-align: right;\n",
       "    }\n",
       "</style>\n",
       "<table border=\"1\" class=\"dataframe\">\n",
       "  <thead>\n",
       "    <tr style=\"text-align: right;\">\n",
       "      <th></th>\n",
       "      <th>LNR</th>\n",
       "      <th>RESPONSE</th>\n",
       "    </tr>\n",
       "  </thead>\n",
       "  <tbody>\n",
       "    <tr>\n",
       "      <th>0</th>\n",
       "      <td>1754</td>\n",
       "      <td>0.699479</td>\n",
       "    </tr>\n",
       "    <tr>\n",
       "      <th>1</th>\n",
       "      <td>1770</td>\n",
       "      <td>0.724889</td>\n",
       "    </tr>\n",
       "    <tr>\n",
       "      <th>2</th>\n",
       "      <td>1465</td>\n",
       "      <td>0.201267</td>\n",
       "    </tr>\n",
       "    <tr>\n",
       "      <th>3</th>\n",
       "      <td>1470</td>\n",
       "      <td>0.073405</td>\n",
       "    </tr>\n",
       "    <tr>\n",
       "      <th>4</th>\n",
       "      <td>1478</td>\n",
       "      <td>0.283444</td>\n",
       "    </tr>\n",
       "  </tbody>\n",
       "</table>\n",
       "</div>"
      ],
      "text/plain": [
       "    LNR  RESPONSE\n",
       "0  1754  0.699479\n",
       "1  1770  0.724889\n",
       "2  1465  0.201267\n",
       "3  1470  0.073405\n",
       "4  1478  0.283444"
      ]
     },
     "execution_count": 200,
     "metadata": {},
     "output_type": "execute_result"
    }
   ],
   "source": [
    "kaggle.head()"
   ]
  },
  {
   "cell_type": "code",
   "execution_count": 204,
   "metadata": {},
   "outputs": [
    {
     "data": {
      "text/plain": [
       "8883"
      ]
     },
     "execution_count": 204,
     "metadata": {},
     "output_type": "execute_result"
    }
   ],
   "source": [
    "len(kaggle[kaggle['RESPONSE']>0.5])"
   ]
  },
  {
   "cell_type": "markdown",
   "metadata": {},
   "source": [
    "Out of 42,833 individuals (rows in the test dataset), 8,883 individuals seems likely to become a customer (i.e. their individual prediction>0.5), which approximately equals to 20% of the total test individuals (42,833)."
   ]
  }
 ],
 "metadata": {
  "kernelspec": {
   "display_name": "Python 3",
   "language": "python",
   "name": "python3"
  },
  "language_info": {
   "codemirror_mode": {
    "name": "ipython",
    "version": 3
   },
   "file_extension": ".py",
   "mimetype": "text/x-python",
   "name": "python",
   "nbconvert_exporter": "python",
   "pygments_lexer": "ipython3",
   "version": "3.7.6"
  }
 },
 "nbformat": 4,
 "nbformat_minor": 2
}
